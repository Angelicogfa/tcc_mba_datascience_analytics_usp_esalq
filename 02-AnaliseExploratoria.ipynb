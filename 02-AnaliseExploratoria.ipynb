{
  "cells": [
    {
      "cell_type": "markdown",
      "source": [
        "# Análise explorátoria dos dados de treino/teste\n",
        "\n",
        "https://www.kaggle.com/datasets/computingvictor/transactions-fraud-datasets"
      ],
      "metadata": {
        "id": "TpxDxuKYfsFY"
      },
      "id": "TpxDxuKYfsFY"
    },
    {
      "cell_type": "code",
      "execution_count": null,
      "id": "2d44ffc4",
      "metadata": {
        "id": "2d44ffc4"
      },
      "outputs": [],
      "source": [
        "import os\n",
        "import shutil\n",
        "import duckdb\n",
        "import tabulate\n",
        "import numpy as np\n",
        "import pandas as pd\n",
        "import seaborn as sns\n",
        "import scipy.stats as stats\n",
        "import plotly.express as px\n",
        "import statsmodels.api as sm\n",
        "import matplotlib.pyplot as plt\n",
        "\n",
        "from warnings import filterwarnings\n",
        "filterwarnings('ignore')"
      ]
    },
    {
      "cell_type": "markdown",
      "source": [
        "Carregar os dados pré-processados obtidos do repositorio do kaggle"
      ],
      "metadata": {
        "id": "y1K-fqUEf7ux"
      },
      "id": "y1K-fqUEf7ux"
    },
    {
      "cell_type": "code",
      "source": [
        "if 'google.colab' in str(get_ipython()):\n",
        "  from google.colab import drive\n",
        "\n",
        "  os.makedirs('./datasets', exist_ok=True)\n",
        "  drive.mount('/content/drive')\n",
        "\n",
        "  shutil.copy('/content/drive/MyDrive/DataScience/Analytics/Estudo Fraude/df_notarget.parquet'  ,'/content/datasets/')\n",
        "  shutil.copy('/content/drive/MyDrive/DataScience/Analytics/Estudo Fraude/df_train_test.parquet','/content/datasets/')\n",
        "  shutil.copy('/content/drive/MyDrive/DataScience/Analytics/Estudo Fraude/df_validation.parquet','/content/datasets/')"
      ],
      "metadata": {
        "id": "5iW9CPnHf0b7"
      },
      "id": "5iW9CPnHf0b7",
      "execution_count": null,
      "outputs": []
    },
    {
      "cell_type": "markdown",
      "source": [
        "Carregar os dados de treino e teste"
      ],
      "metadata": {
        "id": "O5sm3jGcgMoS"
      },
      "id": "O5sm3jGcgMoS"
    },
    {
      "cell_type": "code",
      "source": [
        "df = pd.read_parquet('./datasets/df_train_test.parquet', engine='pyarrow')\n",
        "df.head()"
      ],
      "metadata": {
        "id": "bJJvj6SxgBlv"
      },
      "id": "bJJvj6SxgBlv",
      "execution_count": null,
      "outputs": []
    },
    {
      "cell_type": "code",
      "source": [
        "df['id'] = df['id'].astype(str)\n",
        "df['client_id'] = df['client_id'].astype(str)\n",
        "df['card_id'] = df['card_id'].astype(str)\n",
        "df['merchant_id'] = df['merchant_id'].astype(str)\n",
        "df['zip'] = df['zip'].astype(str)\n",
        "df['card_number'] = df['card_number'].astype(str)\n",
        "df['cvv'] = df['cvv'].astype(str)\n",
        "df['birth_year'] = df['birth_year'].astype(str)\n",
        "df['birth_month'] = df['birth_month'].astype(str)\n"
      ],
      "metadata": {
        "id": "3rkPjQfJkH6j"
      },
      "id": "3rkPjQfJkH6j",
      "execution_count": null,
      "outputs": []
    },
    {
      "cell_type": "markdown",
      "source": [
        "1. **id**: Identificador único da transação.\n",
        "2. **date**: Data em que a transação foi realizada.\n",
        "3. **client_id**: Identificador único do cliente.\n",
        "4. **card_id**: Identificador único do cartão utilizado na transação.\n",
        "5. **amount**: Valor da transação.\n",
        "6. **use_chip**: Indicador se a transação foi efetuada com o uso de chip (sim/não).\n",
        "7. **merchant_id**: Identificador do comerciante onde a transação foi realizada.\n",
        "8. **merchant_city**: Cidade onde está localizado o comerciante.\n",
        "9. **merchant_state**: Estado onde está localizado o comerciante.\n",
        "10. **zip**: Código postal do local do comerciante.\n",
        "11. **mcc**: Código de Categoria do Comerciante, que indica o tipo de negócio ou setor do comerciante.\n",
        "12. **errors**: Indicador de erros ocorridos durante a transação.\n",
        "13. **description**: Descrição ou comentário associado à transação.\n",
        "14. **target**: Indicador se a transação foi fraudulenta (Yes) ou não (No).\n",
        "15. **current_age**: Idade atual do cliente.\n",
        "16. **retirement_age**: Idade de aposentadoria do cliente.\n",
        "17. **birth_year**: Ano de nascimento do cliente.\n",
        "18. **birth_month**: Mês de nascimento do cliente.\n",
        "19. **gender**: Gênero do cliente.\n",
        "20. **address**: Endereço residencial do cliente.\n",
        "21. **latitude**: Latitude do endereço do cliente.\n",
        "22. **longitude**: Longitude do endereço do cliente.\n",
        "23. **per_capita_income**: Renda per capita do cliente ou região.\n",
        "24. **yearly_income**: Renda anual do cliente.\n",
        "25. **total_debt**: Dívida total do cliente.\n",
        "26. **credit_score**: Pontuação de crédito do cliente.\n",
        "27. **num_credit_cards**: Número de cartões de crédito que o cliente possui.\n",
        "28. **card_brand**: Bandeira do cartão utilizado na transação (Visa, Mastercard, etc.).\n",
        "29. **card_type**: Tipo do cartão (crédito, débito, etc.).\n",
        "30. **card_number**: Número do cartão utilizado na transação.\n",
        "31. **expires**: Data de expiração do cartão.\n",
        "32. **cvv**: Código de segurança do cartão.\n",
        "33. **has_chip**: Indicador se o cartão possui chip (sim/não).\n",
        "34. **num_cards_issued**: Número de cartões emitidos para o cliente.\n",
        "35. **credit_limit**: Limite de crédito do cartão.\n",
        "36. **acct_open_date**: Data de abertura da conta do cliente.\n",
        "37. **year_pin_last_cha**: Ano da última alteração do PIN do cartão.\n",
        "38. **card_on_dark_web**: Indicador se o cartão foi encontrado em listas de venda na dark web."
      ],
      "metadata": {
        "id": "QH1Md1a0kBPC"
      },
      "id": "QH1Md1a0kBPC"
    },
    {
      "cell_type": "code",
      "source": [
        "def get_outliers(df, column, min_zero = True):\n",
        "  Q1 = df[column].quantile(0.25)\n",
        "  Q3 = df[column].quantile(0.75)\n",
        "  IQR = Q3 - Q1\n",
        "\n",
        "  lower_bound = Q1 - 1.5 * IQR\n",
        "  if min_zero:\n",
        "    lower_bound = lower_bound if lower_bound >= 0 else 0\n",
        "  upper_bound = Q3 + 1.5 * IQR\n",
        "  if min_zero:\n",
        "    upper_bound = upper_bound if upper_bound >= 0 else 0\n",
        "\n",
        "  return lower_bound, upper_bound"
      ],
      "metadata": {
        "id": "qGZNFwIWzueL"
      },
      "id": "qGZNFwIWzueL",
      "execution_count": null,
      "outputs": []
    },
    {
      "cell_type": "code",
      "source": [
        "def plot_hist_box(df_, var):\n",
        "  data = df[var]\n",
        "\n",
        "  fig = plt.figure(figsize=(15,4))\n",
        "  ax1 = fig.add_subplot(1, 3, 1)\n",
        "  ax1.set_title('Histograma')\n",
        "  sns.histplot(data, kde=True, ax = ax1)\n",
        "  ax1.set_xlabel(var)\n",
        "  ax1.tick_params(axis='x', rotation=90)\n",
        "  ax1.set_ylabel('Frequência')\n",
        "\n",
        "  ax2 = fig.add_subplot(1, 3, 2)\n",
        "  ax2.set_title('Boxplot')\n",
        "  sns.boxplot(data, ax=ax2)\n",
        "  ax2.set_ylabel('Frequência')\n",
        "\n",
        "  ax3 = fig.add_subplot(1, 3, 3)\n",
        "  ax3.set_title('QQ-plot')\n",
        "  sm.qqplot(data, line='s', ax=ax3)\n",
        "\n",
        "  plt.suptitle(f'{var}')\n",
        "  plt.tight_layout()\n",
        "  plt.show()"
      ],
      "metadata": {
        "id": "wiRSVtNv84TB"
      },
      "id": "wiRSVtNv84TB",
      "execution_count": null,
      "outputs": []
    },
    {
      "cell_type": "code",
      "source": [
        "def descritiva(df_, var, vresp: str, max_classes=5, map_target: dict|None = None):\n",
        "    df = df_[[var, vresp]].copy()\n",
        "\n",
        "    if df[var].dtype in [np.float64, np.int64]:\n",
        "      if df[var].nunique()>max_classes:\n",
        "          df[var] = pd.qcut(df[var], max_classes, duplicates='drop')\n",
        "\n",
        "    if map_target is not None:\n",
        "      df[vresp] = df[vresp].map(map_target)\n",
        "\n",
        "    fig, ax1 = plt.subplots(figsize=(10, 6))\n",
        "\n",
        "    ax1 = sns.countplot(data=df, x=var, palette='viridis', alpha=0.5, ax=ax1)\n",
        "    ax1.set_ylabel('Frequência', color='blue')\n",
        "    ax1.tick_params(axis='y', labelcolor='blue')\n",
        "\n",
        "    for p in ax1.patches:\n",
        "        ax1.annotate(f'{p.get_height():.0f}', (p.get_x() + p.get_width() / 2., p.get_height()), ha='center', va='center', xytext=(0, 5), textcoords='offset points')\n",
        "\n",
        "    ax2 = ax1.twinx()\n",
        "\n",
        "    sns.pointplot(data=df, y=vresp, x=var, ax=ax2)\n",
        "    ax2.set_ylabel(vresp, color='red')\n",
        "\n",
        "    ax1.set_zorder(2)\n",
        "    ax1.patch.set_visible(False)  # Tornar o fundo do eixo 1 transparente\n",
        "\n",
        "    # Exibir o gráfico\n",
        "    plt.show()\n",
        "    del df"
      ],
      "metadata": {
        "id": "1jn_cu-3AEJv"
      },
      "id": "1jn_cu-3AEJv",
      "execution_count": null,
      "outputs": []
    },
    {
      "cell_type": "markdown",
      "source": [
        "## Análise Temporal\n",
        "\n",
        "Vamos analisar os dados com base na caracteristica tempo a fim de entender as caracteristicas das transações"
      ],
      "metadata": {
        "id": "dfYBfnG0mSLv"
      },
      "id": "dfYBfnG0mSLv"
    },
    {
      "cell_type": "markdown",
      "source": [
        "### Análise diaria"
      ],
      "metadata": {
        "id": "zj8Fc-D4mbdP"
      },
      "id": "zj8Fc-D4mbdP"
    },
    {
      "cell_type": "code",
      "source": [
        "df_time_day = pd.DataFrame()\n",
        "df_time_day['day'] = df['date'].dt.to_period('D')\n",
        "df_time_day['target'] = df['target'].apply(lambda x: 1 if x == 'Yes' else 0)\n",
        "df_time_day['amount'] = df['amount']\n",
        "df_time_day.head()"
      ],
      "metadata": {
        "id": "t5Qa7qbLgNWZ"
      },
      "id": "t5Qa7qbLgNWZ",
      "execution_count": null,
      "outputs": []
    },
    {
      "cell_type": "code",
      "source": [
        "df_transactions_day = df_time_day.groupby(by='day').agg({'amount': ['sum', 'count'], 'target': 'sum'}).reset_index()\n",
        "df_transactions_day.columns = ['day', 'amount', 'transactions', 'total_frauds']\n",
        "df_transactions_day['mean_amount'] = (df_transactions_day['amount'] / df_transactions_day['transactions']).round(2)\n",
        "df_transactions_day['has_fraud'] = df_transactions_day['total_frauds'] > 0\n",
        "df_transactions_day.head()"
      ],
      "metadata": {
        "id": "UTMHCKX7mgz_"
      },
      "id": "UTMHCKX7mgz_",
      "execution_count": null,
      "outputs": []
    },
    {
      "cell_type": "code",
      "source": [
        "plt.figure(figsize=(12, 8))\n",
        "plt.subplot(221)\n",
        "\n",
        "plt.title('Distribuição das quantidades de transações diarias')\n",
        "ax = sns.histplot(df_transactions_day['transactions'], kde=True)\n",
        "ax.vlines(df_transactions_day['transactions'].mean(), 0, ax.get_ylim()[1], color='red', linestyles='dashed', label=f'Média {round(df_transactions_day[\"transactions\"].mean(), 2)}')\n",
        "ax.vlines(df_transactions_day['transactions'].median(), 0, ax.get_ylim()[1], color='green', linestyles='dashed', label=f'Mediana {round(df_transactions_day[\"transactions\"].median(), 2)}')\n",
        "ax.legend()\n",
        "\n",
        "plt.subplot(222)\n",
        "plt.title('Distribuição das médias de transações diarias')\n",
        "ax = sns.histplot(df_transactions_day['mean_amount'], kde=True)\n",
        "ax.vlines(df_transactions_day['mean_amount'].mean(), 0, ax.get_ylim()[1], color='red', linestyles='dashed', label=f'Média {round(df_transactions_day[\"mean_amount\"].mean(), 2)}' )\n",
        "ax.legend()\n",
        "\n",
        "plt.subplot(223)\n",
        "plt.title('Distribuição das quantidades de fraudes diarias')\n",
        "ax = sns.histplot(df_transactions_day.query('total_frauds > 0')['total_frauds'], kde=True)\n",
        "ax.vlines(df_transactions_day.query('total_frauds > 0')['total_frauds'].mean(), 0, ax.get_ylim()[1], color='red', linestyles='dashed', label=f'Média {round(df_transactions_day.query(\"total_frauds > 0\")[\"total_frauds\"].mean(), 2)}')\n",
        "ax.vlines(df_transactions_day.query('total_frauds > 0')['total_frauds'].median(), 0, ax.get_ylim()[1], color='green', linestyles='dashed', label=f'Mediana {round(df_transactions_day.query(\"total_frauds > 0\")[\"total_frauds\"].median(), 2)}')\n",
        "ax.legend()\n",
        "\n",
        "plt.subplot(224)\n",
        "plt.title('Proporção de dias com fraudes')\n",
        "ax = sns.countplot(data=df_transactions_day, x='has_fraud')\n",
        "\n",
        "total = len(df_transactions_day)\n",
        "for path in ax.patches:\n",
        "  ax.annotate(f'{path.get_height()/total:.2f}', (path.get_x() + path.get_width() / 2., path.get_height()), ha='center', va='center', xytext=(0, 5), textcoords='offset points')\n",
        "\n",
        "plt.tight_layout()\n",
        "plt.show()"
      ],
      "metadata": {
        "id": "33rCfbNqmjg6"
      },
      "id": "33rCfbNqmjg6",
      "execution_count": null,
      "outputs": []
    },
    {
      "cell_type": "code",
      "source": [
        "plt.figure(figsize=(12, 5))\n",
        "\n",
        "plt.subplot(131)\n",
        "plt.title('Outliers da quantidade de transações diarias')\n",
        "ax = sns.boxplot(x=df_transactions_day['transactions'])\n",
        "\n",
        "plt.subplot(132)\n",
        "plt.title('Outliers da média de transações diarias')\n",
        "ax = sns.boxplot(x=df_transactions_day['mean_amount'])\n",
        "ax.set_xlim(0, 100)\n",
        "\n",
        "plt.subplot(133)\n",
        "plt.title('Outliers da quantidade de fraudes diarias')\n",
        "ax = sns.boxplot(x=df_transactions_day['total_frauds'])\n",
        "\n",
        "plt.tight_layout()\n",
        "plt.show()"
      ],
      "metadata": {
        "id": "wsHpFGa9w5Ov"
      },
      "id": "wsHpFGa9w5Ov",
      "execution_count": null,
      "outputs": []
    },
    {
      "cell_type": "code",
      "source": [
        "stat, p = stats.shapiro(df_transactions_day['transactions'])\n",
        "\n",
        "alpha = 0.05\n",
        "\n",
        "if p > alpha:\n",
        "    print('A amostra provavelmente segue uma distribuição normal (falha ao rejeitar H0)')\n",
        "else:\n",
        "    print('A amostra provavelmente não segue uma distribuição normal (rejeita H0)')"
      ],
      "metadata": {
        "id": "kXizz7tDuyz3"
      },
      "id": "kXizz7tDuyz3",
      "execution_count": null,
      "outputs": []
    },
    {
      "cell_type": "code",
      "source": [
        "min, max = get_outliers(df_transactions_day, 'transactions')\n",
        "print('Outlier min:', min)\n",
        "print('Outlier max:', max)"
      ],
      "metadata": {
        "id": "7sjQYHB2zLtW"
      },
      "id": "7sjQYHB2zLtW",
      "execution_count": null,
      "outputs": []
    },
    {
      "cell_type": "code",
      "source": [
        "min, max = get_outliers(df_transactions_day, 'mean_amount')\n",
        "print('Outlier min:', round(min, 2))\n",
        "print('Outlier max:', round(max, 2))"
      ],
      "metadata": {
        "id": "8kis6jf80c5j"
      },
      "id": "8kis6jf80c5j",
      "execution_count": null,
      "outputs": []
    },
    {
      "cell_type": "code",
      "source": [
        "min, max = get_outliers(df_transactions_day, 'total_frauds')\n",
        "print('Outlier min:', round(min, 2))\n",
        "print('Outlier max:', round(max, 2))"
      ],
      "metadata": {
        "id": "kX-1a4xX3EN-"
      },
      "id": "kX-1a4xX3EN-",
      "execution_count": null,
      "outputs": []
    },
    {
      "cell_type": "markdown",
      "source": [
        "Análises\n",
        "\n",
        "> Quantidade de transações por dia\n",
        "\n",
        "* A quantidade de transações tem um pico próximo de 2500 transações diárias.\n",
        "* A média e mediana estão bem próximas, com a média inferior a mediana, indicando uma distribuição assimetrica a esquerda (assimetria negativa).\n",
        "* A distribuição não segue uma distribuição normal.\n",
        "* Ha uma concentração muito grande de dias com quantidades entre 1996 e 2956.\n",
        "* Dias com quantidade de transações menores que 2000 são consideradas outliers em relação ao comportamento da variável.\n",
        "\n",
        "> Valor médio das transações\n",
        "\n",
        "* A média das transações é de 43.42\n",
        "* Existem transações com valores muito maiores acima da média (acima de 600).\n",
        "* Transações com valores abaixo de 36.67 e acima de 49.34 são considerados outliers.\n",
        "\n",
        "> Fraudes\n",
        "\n",
        "* A quantidade média de fraudes por dia, quando ocorre, é de 8.79 e mediana é 7.\n",
        "* Dias com quantidade de fraude acima de 12.5 são outliers\n",
        "* 40% dos dias tiveram fraude."
      ],
      "metadata": {
        "id": "vlYKjHHbpgHU"
      },
      "id": "vlYKjHHbpgHU"
    },
    {
      "cell_type": "markdown",
      "source": [
        "### Análise Mensal"
      ],
      "metadata": {
        "id": "6W6Gcgzf4gLN"
      },
      "id": "6W6Gcgzf4gLN"
    },
    {
      "cell_type": "code",
      "source": [
        "df_time = pd.DataFrame()\n",
        "df_time['year'] = df['date'].dt.to_period('Y')\n",
        "df_time['year_month'] = df['date'].dt.to_period('M').dt.to_timestamp(how='start')\n",
        "df_time['amount'] = df['amount']\n",
        "df_time['target'] = df['target']\n",
        "df_time.head()"
      ],
      "metadata": {
        "id": "W4YtzDa74dDL"
      },
      "id": "W4YtzDa74dDL",
      "execution_count": null,
      "outputs": []
    },
    {
      "cell_type": "code",
      "source": [
        "df_time_year = df_time.groupby(['year'])['amount'].sum().reset_index()\n",
        "\n",
        "plt.subplots(figsize=(10, 5))\n",
        "plt.title('Total das Transações por Ano')\n",
        "sns.barplot(data=df_time_year, x='year', y='amount', alpha=0.5)\n",
        "plt.ylabel('Valor (em milhões)')\n",
        "plt.xlabel('Ano')\n",
        "\n",
        "plt.show()"
      ],
      "metadata": {
        "id": "q6m50Xgf4lFU"
      },
      "id": "q6m50Xgf4lFU",
      "execution_count": null,
      "outputs": []
    },
    {
      "cell_type": "code",
      "source": [
        "df_time_year = df_time.groupby(['year','target'])['amount'].sum().reset_index()\n",
        "df_time_year['amount_million'] = df_time_year['amount'] / 1000000\n",
        "df_time_year.head()"
      ],
      "metadata": {
        "id": "ItunqQh94qK1"
      },
      "id": "ItunqQh94qK1",
      "execution_count": null,
      "outputs": []
    },
    {
      "cell_type": "code",
      "source": [
        "plt.figure(figsize=(10,5))\n",
        "\n",
        "plt.subplot(121)\n",
        "plt.title('Transações com Fraude')\n",
        "ax1 = sns.barplot(data=df_time_year.query('target == \"Yes\"'), x='year', y='amount_million')\n",
        "for patches in ax1.patches:\n",
        "    ax1.annotate(f'{patches.get_height():.3f}', (patches.get_x() + patches.get_width() / 2., patches.get_height()), ha='center', va='center', xytext=(0, 5), textcoords='offset points')\n",
        "\n",
        "plt.ylabel('Valor total das transações (milhão)')\n",
        "plt.xlabel('Ano')\n",
        "\n",
        "plt.subplot(122)\n",
        "plt.title('Transações Válida')\n",
        "ax2 = sns.barplot(data=df_time_year.query('target == \"No\"'), x='year', y='amount_million')\n",
        "for patches in ax2.patches:\n",
        "    ax2.annotate(f'{patches.get_height():.2f}', (patches.get_x() + patches.get_width() / 2., patches.get_height()), ha='center', va='center', xytext=(0, 5), textcoords='offset points')\n",
        "\n",
        "plt.ylabel('Valor total das transações (milhão)')\n",
        "plt.xlabel('Ano')\n",
        "\n",
        "plt.suptitle('Total das transações por ano (Milhões)')\n",
        "plt.tight_layout()\n",
        "plt.show()\n",
        "\n",
        "del df_time_year"
      ],
      "metadata": {
        "id": "9PE7rHZ445cS"
      },
      "id": "9PE7rHZ445cS",
      "execution_count": null,
      "outputs": []
    },
    {
      "cell_type": "code",
      "source": [
        "df_time_month = df_time.groupby(by=['year_month', 'target'])['amount'].agg(['sum', 'mean', 'std']).reset_index()\n",
        "df_time_month['year'] = df_time_month['year_month'].dt.year\n",
        "df_time_month['month'] = df_time_month['year_month'].dt.month\n",
        "df_time_month['amount_million'] = df_time_month['sum'] / 1000000\n",
        "df_time_month.head()"
      ],
      "metadata": {
        "id": "CoargTGS48HT"
      },
      "id": "CoargTGS48HT",
      "execution_count": null,
      "outputs": []
    },
    {
      "cell_type": "code",
      "source": [
        "for month in df_time_month['month'].unique():\n",
        "  df_time_month_month = df_time_month.query('month == @month')\n",
        "\n",
        "  plt.figure(figsize=(12,5))\n",
        "  plt.suptitle(f'Valor das Transações no Mês: {month}')\n",
        "\n",
        "  plt.subplot(121)\n",
        "  plt.title('Transações com Fraude')\n",
        "\n",
        "  ax = sns.barplot(data=df_time_month_month.query('target == \"Yes\"'), x='year', y='amount_million')\n",
        "\n",
        "  for patches in ax.patches:\n",
        "    ax.annotate(f'{patches.get_height():.3f}', (patches.get_x() + patches.get_width() / 2., patches.get_height()), ha='center', va='center', xytext=(0, 5), textcoords='offset points')\n",
        "\n",
        "  mean = df_time_month_month.query('target == \"Yes\"')['amount_million'].mean()\n",
        "  ax.axhline(mean, color='red', linestyle='--', label=f'Média: {mean:.3f}')\n",
        "  ax.legend()\n",
        "\n",
        "  plt.ylabel('Valor em Milhões')\n",
        "  plt.xlabel('Ano')\n",
        "\n",
        "  plt.subplot(122)\n",
        "  plt.title('Transações Válida')\n",
        "  sns.barplot(data=df_time_month_month.query('target == \"No\"'), x='year', y='amount_million')\n",
        "  plt.ylabel('Valor em Milhões')\n",
        "  plt.xlabel('Ano')\n",
        "\n",
        "plt.tight_layout()\n",
        "plt.show()"
      ],
      "metadata": {
        "id": "aI_rYc2U5NUd"
      },
      "id": "aI_rYc2U5NUd",
      "execution_count": null,
      "outputs": []
    },
    {
      "cell_type": "markdown",
      "source": [
        "* Outubro e Dezembro são os meses com maior média de prejuizo nos anos avaliados (26 mil aproximadamente).\n",
        "* 2016 foi o ano com maior quantidade e proporção de fraude."
      ],
      "metadata": {
        "id": "E1PfHIHS51gU"
      },
      "id": "E1PfHIHS51gU"
    },
    {
      "cell_type": "markdown",
      "source": [
        "## Análise Numérica"
      ],
      "metadata": {
        "id": "-Ds72BkX8kCn"
      },
      "id": "-Ds72BkX8kCn"
    },
    {
      "cell_type": "code",
      "source": [
        "number_columns = df.select_dtypes(include=['float64', 'int64']).columns\n",
        "number_columns"
      ],
      "metadata": {
        "id": "Nh3n0Zc_5QfN"
      },
      "id": "Nh3n0Zc_5QfN",
      "execution_count": null,
      "outputs": []
    },
    {
      "cell_type": "code",
      "source": [
        "df[number_columns].describe()"
      ],
      "metadata": {
        "id": "fsHVb_xE8qLL"
      },
      "id": "fsHVb_xE8qLL",
      "execution_count": null,
      "outputs": []
    },
    {
      "cell_type": "code",
      "source": [
        "for column in filter(lambda x: x not in ['latitude', 'longitude'], number_columns):\n",
        "  plot_hist_box(df, column)"
      ],
      "metadata": {
        "id": "Sbs4evTp8s7H"
      },
      "id": "Sbs4evTp8s7H",
      "execution_count": null,
      "outputs": []
    },
    {
      "cell_type": "code",
      "source": [
        "for column in filter(lambda x: x not in ['latitude', 'longitude'], number_columns):\n",
        "    descritiva(df, column, 'target', map_target={ 'Yes': 1, 'No': 0 })"
      ],
      "metadata": {
        "id": "AecBmkvQ879M"
      },
      "id": "AecBmkvQ879M",
      "execution_count": null,
      "outputs": []
    },
    {
      "cell_type": "markdown",
      "source": [
        "> amount\n",
        "\n",
        "* Compras com valor abaixo de 75.71 possui menor indice de fraude\n",
        "\n",
        "> current_age\n",
        "\n",
        "* Faixa acima de 67 possui um maior indice de fraude\n",
        "\n",
        "> retirement_age\n",
        "\n",
        "* Indice de fraude muito volatil para o as idades de 53 a 79\n",
        "\n",
        "> per_capita_income\n",
        "\n",
        "* Indice de fraude maior para as faixas abaixo de 23553\n",
        "\n",
        "> yearly_income\n",
        "\n",
        "* Indice de fraude maior para as faixas abaixo de 58503\n",
        "\n",
        "> total_debit\n",
        "\n",
        "* Os dados dentro do range do boxplot possui maior indice de fraude\n",
        "\n",
        "> credit_score\n",
        "\n",
        "* O credit_score com faixa 703 a 731 possui uma maior taxa de indice de fraude.\n",
        "\n",
        "> num_credit_cards\n",
        "\n",
        "* Clientes com quantidade de cartão acima de 4 cartões tem uma taxa muito maior de indice de fraude\n",
        "\n",
        "> credit_limit\n",
        "\n",
        "* Clientes com limit de credito menor (abaixo de 6700) apresentam um maior indice de fraude\n",
        "\n"
      ],
      "metadata": {
        "id": "1PVf6dgJ49CY"
      },
      "id": "1PVf6dgJ49CY"
    },
    {
      "cell_type": "code",
      "source": [
        "ax = sns.pairplot(df[number_columns].drop(columns=['latitude', 'longitude']))\n",
        "plt.show()"
      ],
      "metadata": {
        "id": "jgpuCKW4AMsr"
      },
      "id": "jgpuCKW4AMsr",
      "execution_count": null,
      "outputs": []
    },
    {
      "cell_type": "code",
      "source": [
        "plt.figure(figsize=(12,8))\n",
        "plt.title('Correlação entre as variáveis')\n",
        "\n",
        "corr = df[number_columns].drop(columns=['latitude', 'longitude']).corr()\n",
        "sns.heatmap(corr, annot=True, cmap='viridis', fmt='.2f')\n",
        "\n",
        "plt.show()"
      ],
      "metadata": {
        "id": "GwoIDQ3vOotH"
      },
      "id": "GwoIDQ3vOotH",
      "execution_count": null,
      "outputs": []
    },
    {
      "cell_type": "markdown",
      "source": [],
      "metadata": {
        "id": "g0xpkFqU4jSA"
      },
      "id": "g0xpkFqU4jSA"
    },
    {
      "cell_type": "code",
      "source": [
        "upper_triangle_indices = np.where(np.abs(np.triu(corr, k=1)) > 0.2)\n",
        "colunas_indices = np.unique(np.concatenate(upper_triangle_indices))\n",
        "colunas_filtradas = corr.columns[colunas_indices].tolist()\n",
        "colunas_filtradas\n"
      ],
      "metadata": {
        "id": "AgSj67tV_kzW"
      },
      "id": "AgSj67tV_kzW",
      "execution_count": null,
      "outputs": []
    },
    {
      "cell_type": "code",
      "source": [
        "plt.figure(figsize=(12,8))\n",
        "plt.title('Correlação entre as variáveis com maior correlação')\n",
        "\n",
        "corr = df[colunas_filtradas].corr()\n",
        "sns.heatmap(corr, annot=True, cmap='viridis', fmt='.2f')\n",
        "\n",
        "plt.show()"
      ],
      "metadata": {
        "id": "ful5mUEkETXG"
      },
      "id": "ful5mUEkETXG",
      "execution_count": null,
      "outputs": []
    },
    {
      "cell_type": "markdown",
      "source": [
        "* Correlação muito alta entre `per_capita_income` e `yearly_income` (0.95) indicando **multicolinearidade**.\n",
        "* Correlação alta entre `credit_limit` e `per_capita_income` (0.61).\n",
        "* Correlação alta entre `credit_limit` e `yearly_income` (0.58)"
      ],
      "metadata": {
        "id": "v0sywD9OJIrX"
      },
      "id": "v0sywD9OJIrX"
    },
    {
      "cell_type": "code",
      "source": [
        "# fig = px.scatter_mapbox(df,\n",
        "#           lat=\"latitude\",\n",
        "#           lon=\"longitude\",\n",
        "#           hover_name=\"merchant_state\",  # Informação ao passar o mouse\n",
        "#           zoom=10,\n",
        "#           color=\"merchant_state\",\n",
        "#           height=600)         # Altura do mapa\n",
        "\n",
        "# # Define o estilo do mapa (opcional)\n",
        "# fig.update_layout(mapbox_style=\"open-street-map\")\n",
        "\n",
        "# # Centraliza o mapa na média das coordenadas (opcional)\n",
        "# fig.update_layout(\n",
        "#     mapbox_center_lat=df['latitude'].mean(),\n",
        "#     mapbox_center_lon=df['longitude'].mean()\n",
        "# )\n",
        "\n",
        "# # Exibe o mapa interativo\n",
        "# fig.show()"
      ],
      "metadata": {
        "id": "gpF2xGqdIawm"
      },
      "id": "gpF2xGqdIawm",
      "execution_count": null,
      "outputs": []
    },
    {
      "cell_type": "code",
      "source": [],
      "metadata": {
        "id": "qY5JNl7gNER2"
      },
      "id": "qY5JNl7gNER2",
      "execution_count": null,
      "outputs": []
    }
  ],
  "metadata": {
    "language_info": {
      "name": "python"
    },
    "colab": {
      "provenance": [],
      "machine_shape": "hm"
    },
    "kernelspec": {
      "name": "python3",
      "display_name": "Python 3"
    }
  },
  "nbformat": 4,
  "nbformat_minor": 5
}