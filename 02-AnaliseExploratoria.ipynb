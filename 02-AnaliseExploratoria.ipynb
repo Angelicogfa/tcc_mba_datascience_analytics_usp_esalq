{
 "cells": [
  {
   "cell_type": "code",
   "execution_count": null,
   "id": "2d44ffc4",
   "metadata": {},
   "outputs": [],
   "source": [
    "print('teste')"
   ]
  }
 ],
 "metadata": {
  "language_info": {
   "name": "python"
  }
 },
 "nbformat": 4,
 "nbformat_minor": 5
}
