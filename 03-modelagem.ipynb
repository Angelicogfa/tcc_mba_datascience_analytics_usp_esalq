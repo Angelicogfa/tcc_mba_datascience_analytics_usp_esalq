{
 "cells": [
  {
   "cell_type": "markdown",
   "id": "795db2c9",
   "metadata": {},
   "source": [
    "# Modelagem"
   ]
  },
  {
   "cell_type": "markdown",
   "id": "30b309cb",
   "metadata": {},
   "source": []
  }
 ],
 "metadata": {
  "language_info": {
   "name": "python"
  }
 },
 "nbformat": 4,
 "nbformat_minor": 5
}
