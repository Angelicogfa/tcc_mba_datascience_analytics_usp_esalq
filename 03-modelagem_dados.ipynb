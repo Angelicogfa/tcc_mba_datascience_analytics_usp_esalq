{
  "cells": [
    {
      "cell_type": "code",
      "execution_count": 1,
      "id": "de222694",
      "metadata": {
        "id": "de222694"
      },
      "outputs": [],
      "source": [
        "import os\n",
        "import shutil\n",
        "import polars as pl\n",
        "from datetime import datetime, timedelta"
      ]
    },
    {
      "cell_type": "code",
      "execution_count": 40,
      "id": "6f6f5808",
      "metadata": {
        "colab": {
          "base_uri": "https://localhost:8080/"
        },
        "id": "6f6f5808",
        "outputId": "8405213d-a750-42ae-d8de-a3b614de2439"
      },
      "outputs": [
        {
          "output_type": "stream",
          "name": "stdout",
          "text": [
            "Drive already mounted at /content/drive; to attempt to forcibly remount, call drive.mount(\"/content/drive\", force_remount=True).\n"
          ]
        }
      ],
      "source": [
        "if 'google.colab' in str(get_ipython()):\n",
        "  from google.colab import drive\n",
        "\n",
        "  os.makedirs('./datasets', exist_ok=True)\n",
        "  drive.mount('/content/drive')\n",
        "\n",
        "  shutil.copy('/content/drive/MyDrive/DataScience/Analytics/Estudo Fraude/df_train_test.parquet','/content/datasets/')\n",
        "  shutil.copy('/content/drive/MyDrive/DataScience/Analytics/Estudo Fraude/df_validation.parquet','/content/datasets/')"
      ]
    },
    {
      "cell_type": "code",
      "source": [
        "df = pl.concat([pl.read_parquet('./datasets/df_train_test.parquet'), pl.read_parquet('./datasets/df_validation.parquet')])\n",
        "df.head()"
      ],
      "metadata": {
        "colab": {
          "base_uri": "https://localhost:8080/",
          "height": 483
        },
        "id": "A5HygZAqanA2",
        "outputId": "74b78327-e1b2-4e41-99cb-91b214e9bb91"
      },
      "id": "A5HygZAqanA2",
      "execution_count": 41,
      "outputs": [
        {
          "output_type": "execute_result",
          "data": {
            "text/plain": [
              "shape: (5, 38)\n",
              "┌─────────┬────────────┬───────────┬─────────┬───┬────────────┬────────────┬───────────┬───────────┐\n",
              "│ id      ┆ date       ┆ client_id ┆ card_id ┆ … ┆ credit_lim ┆ acct_open_ ┆ year_pin_ ┆ card_on_d │\n",
              "│ ---     ┆ ---        ┆ ---       ┆ ---     ┆   ┆ it         ┆ date       ┆ last_chan ┆ ark_web   │\n",
              "│ i64     ┆ datetime[n ┆ i64       ┆ i64     ┆   ┆ ---        ┆ ---        ┆ ged       ┆ ---       │\n",
              "│         ┆ s]         ┆           ┆         ┆   ┆ f64        ┆ str        ┆ ---       ┆ str       │\n",
              "│         ┆            ┆           ┆         ┆   ┆            ┆            ┆ i64       ┆           │\n",
              "╞═════════╪════════════╪═══════════╪═════════╪═══╪════════════╪════════════╪═══════════╪═══════════╡\n",
              "│ 7475327 ┆ 2010-01-01 ┆ 1556      ┆ 2972    ┆ … ┆ 55.0       ┆ 05/2008    ┆ 2008      ┆ No        │\n",
              "│         ┆ 00:01:00   ┆           ┆         ┆   ┆            ┆            ┆           ┆           │\n",
              "│ 7475328 ┆ 2010-01-01 ┆ 561       ┆ 4575    ┆ … ┆ 9100.0     ┆ 09/2005    ┆ 2015      ┆ No        │\n",
              "│         ┆ 00:02:00   ┆           ┆         ┆   ┆            ┆            ┆           ┆           │\n",
              "│ 7475329 ┆ 2010-01-01 ┆ 1129      ┆ 102     ┆ … ┆ 14802.0    ┆ 01/2006    ┆ 2008      ┆ No        │\n",
              "│         ┆ 00:02:00   ┆           ┆         ┆   ┆            ┆            ┆           ┆           │\n",
              "│ 7475332 ┆ 2010-01-01 ┆ 848       ┆ 3915    ┆ … ┆ 19113.0    ┆ 07/2009    ┆ 2014      ┆ No        │\n",
              "│         ┆ 00:06:00   ┆           ┆         ┆   ┆            ┆            ┆           ┆           │\n",
              "│ 7475333 ┆ 2010-01-01 ┆ 1807      ┆ 165     ┆ … ┆ 89.0       ┆ 01/2008    ┆ 2015      ┆ No        │\n",
              "│         ┆ 00:07:00   ┆           ┆         ┆   ┆            ┆            ┆           ┆           │\n",
              "└─────────┴────────────┴───────────┴─────────┴───┴────────────┴────────────┴───────────┴───────────┘"
            ],
            "text/html": [
              "<div><style>\n",
              ".dataframe > thead > tr,\n",
              ".dataframe > tbody > tr {\n",
              "  text-align: right;\n",
              "  white-space: pre-wrap;\n",
              "}\n",
              "</style>\n",
              "<small>shape: (5, 38)</small><table border=\"1\" class=\"dataframe\"><thead><tr><th>id</th><th>date</th><th>client_id</th><th>card_id</th><th>amount</th><th>use_chip</th><th>merchant_id</th><th>merchant_city</th><th>merchant_state</th><th>zip</th><th>mcc</th><th>errors</th><th>description</th><th>target</th><th>current_age</th><th>retirement_age</th><th>birth_year</th><th>birth_month</th><th>gender</th><th>address</th><th>latitude</th><th>longitude</th><th>per_capita_income</th><th>yearly_income</th><th>total_debt</th><th>credit_score</th><th>num_credit_cards</th><th>card_brand</th><th>card_type</th><th>card_number</th><th>expires</th><th>cvv</th><th>has_chip</th><th>num_cards_issued</th><th>credit_limit</th><th>acct_open_date</th><th>year_pin_last_changed</th><th>card_on_dark_web</th></tr><tr><td>i64</td><td>datetime[ns]</td><td>i64</td><td>i64</td><td>f64</td><td>str</td><td>i64</td><td>str</td><td>str</td><td>f64</td><td>str</td><td>str</td><td>str</td><td>str</td><td>i64</td><td>i64</td><td>i64</td><td>i64</td><td>str</td><td>str</td><td>f64</td><td>f64</td><td>f64</td><td>f64</td><td>f64</td><td>i64</td><td>i64</td><td>str</td><td>str</td><td>i64</td><td>str</td><td>i64</td><td>str</td><td>i64</td><td>f64</td><td>str</td><td>i64</td><td>str</td></tr></thead><tbody><tr><td>7475327</td><td>2010-01-01 00:01:00</td><td>1556</td><td>2972</td><td>-77.0</td><td>&quot;Swipe Transaction&quot;</td><td>59935</td><td>&quot;Beulah&quot;</td><td>&quot;ND&quot;</td><td>58523.0</td><td>&quot;5499&quot;</td><td>null</td><td>&quot;Miscellaneous Food Stores&quot;</td><td>&quot;No&quot;</td><td>30</td><td>67</td><td>1989</td><td>7</td><td>&quot;Female&quot;</td><td>&quot;594 Mountain View Street&quot;</td><td>46.8</td><td>-100.76</td><td>23679.0</td><td>48277.0</td><td>110153.0</td><td>740</td><td>4</td><td>&quot;Mastercard&quot;</td><td>&quot;Debit (Prepaid)&quot;</td><td>5497590243197280</td><td>&quot;07/2022&quot;</td><td>306</td><td>&quot;YES&quot;</td><td>2</td><td>55.0</td><td>&quot;05/2008&quot;</td><td>2008</td><td>&quot;No&quot;</td></tr><tr><td>7475328</td><td>2010-01-01 00:02:00</td><td>561</td><td>4575</td><td>14.57</td><td>&quot;Swipe Transaction&quot;</td><td>67570</td><td>&quot;Bettendorf&quot;</td><td>&quot;IA&quot;</td><td>52722.0</td><td>&quot;5311&quot;</td><td>null</td><td>&quot;Department Stores&quot;</td><td>&quot;No&quot;</td><td>48</td><td>67</td><td>1971</td><td>6</td><td>&quot;Male&quot;</td><td>&quot;604 Pine Street&quot;</td><td>40.8</td><td>-91.12</td><td>18076.0</td><td>36853.0</td><td>112139.0</td><td>834</td><td>5</td><td>&quot;Mastercard&quot;</td><td>&quot;Credit&quot;</td><td>5175842699412235</td><td>&quot;12/2024&quot;</td><td>438</td><td>&quot;YES&quot;</td><td>1</td><td>9100.0</td><td>&quot;09/2005&quot;</td><td>2015</td><td>&quot;No&quot;</td></tr><tr><td>7475329</td><td>2010-01-01 00:02:00</td><td>1129</td><td>102</td><td>80.0</td><td>&quot;Swipe Transaction&quot;</td><td>27092</td><td>&quot;Vista&quot;</td><td>&quot;CA&quot;</td><td>92084.0</td><td>&quot;4829&quot;</td><td>null</td><td>&quot;Money Transfer&quot;</td><td>&quot;No&quot;</td><td>49</td><td>65</td><td>1970</td><td>4</td><td>&quot;Male&quot;</td><td>&quot;2379 Forest Lane&quot;</td><td>33.18</td><td>-117.29</td><td>16894.0</td><td>34449.0</td><td>36540.0</td><td>686</td><td>3</td><td>&quot;Mastercard&quot;</td><td>&quot;Debit&quot;</td><td>5874992802287595</td><td>&quot;05/2020&quot;</td><td>256</td><td>&quot;YES&quot;</td><td>1</td><td>14802.0</td><td>&quot;01/2006&quot;</td><td>2008</td><td>&quot;No&quot;</td></tr><tr><td>7475332</td><td>2010-01-01 00:06:00</td><td>848</td><td>3915</td><td>46.41</td><td>&quot;Swipe Transaction&quot;</td><td>13051</td><td>&quot;Harwood&quot;</td><td>&quot;MD&quot;</td><td>20776.0</td><td>&quot;5813&quot;</td><td>null</td><td>&quot;Drinking Places (Alcoholic Bev…</td><td>&quot;No&quot;</td><td>51</td><td>69</td><td>1968</td><td>5</td><td>&quot;Male&quot;</td><td>&quot;166 River Drive&quot;</td><td>38.86</td><td>-76.6</td><td>33529.0</td><td>68362.0</td><td>96182.0</td><td>711</td><td>2</td><td>&quot;Visa&quot;</td><td>&quot;Debit&quot;</td><td>4354185735186651</td><td>&quot;01/2020&quot;</td><td>120</td><td>&quot;YES&quot;</td><td>1</td><td>19113.0</td><td>&quot;07/2009&quot;</td><td>2014</td><td>&quot;No&quot;</td></tr><tr><td>7475333</td><td>2010-01-01 00:07:00</td><td>1807</td><td>165</td><td>4.81</td><td>&quot;Swipe Transaction&quot;</td><td>20519</td><td>&quot;Bronx&quot;</td><td>&quot;NY&quot;</td><td>10464.0</td><td>&quot;5942&quot;</td><td>null</td><td>&quot;Book Stores&quot;</td><td>&quot;No&quot;</td><td>47</td><td>65</td><td>1972</td><td>12</td><td>&quot;Female&quot;</td><td>&quot;14780 Plum Lane&quot;</td><td>40.84</td><td>-73.87</td><td>25537.0</td><td>52065.0</td><td>98613.0</td><td>828</td><td>5</td><td>&quot;Mastercard&quot;</td><td>&quot;Debit (Prepaid)&quot;</td><td>5207231566469664</td><td>&quot;03/2014&quot;</td><td>198</td><td>&quot;YES&quot;</td><td>1</td><td>89.0</td><td>&quot;01/2008&quot;</td><td>2015</td><td>&quot;No&quot;</td></tr></tbody></table></div>"
            ]
          },
          "metadata": {},
          "execution_count": 41
        }
      ]
    },
    {
      "cell_type": "code",
      "source": [
        "def floor_to_15min(dt_value: datetime) -> datetime|None:\n",
        "    if dt_value is None:\n",
        "        return None\n",
        "\n",
        "    seconds_since_midnight = (dt_value - dt_value.replace(hour=0, minute=0, second=0, microsecond=0)).total_seconds()\n",
        "    interval_seconds = 15 * 60\n",
        "    floored_seconds = (seconds_since_midnight // interval_seconds) * interval_seconds\n",
        "    return dt_value.replace(hour=0, minute=0, second=0, microsecond=0) + timedelta(seconds=floored_seconds)"
      ],
      "metadata": {
        "id": "XhvCN1WwmKfm"
      },
      "id": "XhvCN1WwmKfm",
      "execution_count": 42,
      "outputs": []
    },
    {
      "cell_type": "code",
      "source": [
        "df = df.with_columns(\n",
        "    pl.col(\"date\").map_elements(floor_to_15min, return_dtype=pl.Datetime).alias(\"date_window\")\n",
        ")"
      ],
      "metadata": {
        "id": "NoAi0UNsbdvm"
      },
      "id": "NoAi0UNsbdvm",
      "execution_count": 43,
      "outputs": []
    },
    {
      "cell_type": "code",
      "source": [
        "def generate_columns_statistics(column_name: str) -> list:\n",
        "    return [\n",
        "        pl.col(column_name).mean().alias(f'mean_{column_name}'),\n",
        "        pl.col(column_name).median().alias(f'median_{column_name}'),\n",
        "        pl.col(column_name).std().alias(f'std_{column_name}'),\n",
        "        pl.col(column_name).skew().alias(f'skew_{column_name}'),\n",
        "        pl.col(column_name).kurtosis().alias(f'kurtosis_{column_name}')\n",
        "    ]"
      ],
      "metadata": {
        "id": "laLJmJHJrJkn"
      },
      "id": "laLJmJHJrJkn",
      "execution_count": 44,
      "outputs": []
    },
    {
      "cell_type": "code",
      "source": [
        "df = df.with_columns(\n",
        "    pl.when(pl.col('target') == 'Yes').then(1).otherwise(0).alias('target')\n",
        ")"
      ],
      "metadata": {
        "id": "bpv633xK48i_"
      },
      "id": "bpv633xK48i_",
      "execution_count": 45,
      "outputs": []
    },
    {
      "cell_type": "code",
      "source": [
        "aggregate = [pl.col('amount').count().alias('transactions')]\n",
        "for column in ['amount', 'current_age', 'per_capita_income', 'yearly_income', 'total_debt', 'credit_score', 'num_credit_cards', 'credit_limit']:\n",
        "  aggregate.extend(generate_columns_statistics(column))\n",
        "aggregate.append(pl.col('target').sum().alias('frauds'))"
      ],
      "metadata": {
        "id": "YkYWiYk-rjS3"
      },
      "id": "YkYWiYk-rjS3",
      "execution_count": 46,
      "outputs": []
    },
    {
      "cell_type": "code",
      "source": [
        "df_model = df.group_by('date_window').agg(\n",
        "    *aggregate\n",
        ").sort('date_window')\n",
        "df_model.head()"
      ],
      "metadata": {
        "colab": {
          "base_uri": "https://localhost:8080/",
          "height": 362
        },
        "id": "KnwKfEUihpoW",
        "outputId": "29e46fa4-2d3a-4d1d-b81d-864ea09ec805"
      },
      "id": "KnwKfEUihpoW",
      "execution_count": 47,
      "outputs": [
        {
          "output_type": "execute_result",
          "data": {
            "text/plain": [
              "shape: (5, 43)\n",
              "┌────────────┬────────────┬───────────┬───────────┬───┬───────────┬───────────┬───────────┬────────┐\n",
              "│ date_windo ┆ transactio ┆ mean_amou ┆ median_am ┆ … ┆ std_credi ┆ skew_cred ┆ kurtosis_ ┆ frauds │\n",
              "│ w          ┆ ns         ┆ nt        ┆ ount      ┆   ┆ t_limit   ┆ it_limit  ┆ credit_li ┆ ---    │\n",
              "│ ---        ┆ ---        ┆ ---       ┆ ---       ┆   ┆ ---       ┆ ---       ┆ mit       ┆ i32    │\n",
              "│ datetime[μ ┆ u32        ┆ f64       ┆ f64       ┆   ┆ f64       ┆ f64       ┆ ---       ┆        │\n",
              "│ s]         ┆            ┆           ┆           ┆   ┆           ┆           ┆ f64       ┆        │\n",
              "╞════════════╪════════════╪═══════════╪═══════════╪═══╪═══════════╪═══════════╪═══════════╪════════╡\n",
              "│ 2010-01-01 ┆ 6          ┆ 15.875    ┆ 20.515    ┆ … ┆ 8439.3960 ┆ 0.381076  ┆ -1.520432 ┆ 0      │\n",
              "│ 00:00:00   ┆            ┆           ┆           ┆   ┆ 78        ┆           ┆           ┆        │\n",
              "│ 2010-01-01 ┆ 4          ┆ 22.2625   ┆ 21.57     ┆ … ┆ 13718.592 ┆ 0.010111  ┆ -1.972188 ┆ 0      │\n",
              "│ 00:15:00   ┆            ┆           ┆           ┆   ┆ 311       ┆           ┆           ┆        │\n",
              "│ 2010-01-01 ┆ 10         ┆ 34.644    ┆ 37.73     ┆ … ┆ 6338.6096 ┆ 0.114952  ┆ -1.629159 ┆ 0      │\n",
              "│ 00:30:00   ┆            ┆           ┆           ┆   ┆           ┆           ┆           ┆        │\n",
              "│ 2010-01-01 ┆ 6          ┆ 15.388333 ┆ 11.185    ┆ … ┆ 11039.367 ┆ -0.713338 ┆ -1.100947 ┆ 0      │\n",
              "│ 00:45:00   ┆            ┆           ┆           ┆   ┆ 893       ┆           ┆           ┆        │\n",
              "│ 2010-01-01 ┆ 6          ┆ 101.01833 ┆ 82.545    ┆ … ┆ 20657.262 ┆ 1.339601  ┆ 0.337726  ┆ 0      │\n",
              "│ 01:00:00   ┆            ┆ 3         ┆           ┆   ┆ 681       ┆           ┆           ┆        │\n",
              "└────────────┴────────────┴───────────┴───────────┴───┴───────────┴───────────┴───────────┴────────┘"
            ],
            "text/html": [
              "<div><style>\n",
              ".dataframe > thead > tr,\n",
              ".dataframe > tbody > tr {\n",
              "  text-align: right;\n",
              "  white-space: pre-wrap;\n",
              "}\n",
              "</style>\n",
              "<small>shape: (5, 43)</small><table border=\"1\" class=\"dataframe\"><thead><tr><th>date_window</th><th>transactions</th><th>mean_amount</th><th>median_amount</th><th>std_amount</th><th>skew_amount</th><th>kurtosis_amount</th><th>mean_current_age</th><th>median_current_age</th><th>std_current_age</th><th>skew_current_age</th><th>kurtosis_current_age</th><th>mean_per_capita_income</th><th>median_per_capita_income</th><th>std_per_capita_income</th><th>skew_per_capita_income</th><th>kurtosis_per_capita_income</th><th>mean_yearly_income</th><th>median_yearly_income</th><th>std_yearly_income</th><th>skew_yearly_income</th><th>kurtosis_yearly_income</th><th>mean_total_debt</th><th>median_total_debt</th><th>std_total_debt</th><th>skew_total_debt</th><th>kurtosis_total_debt</th><th>mean_credit_score</th><th>median_credit_score</th><th>std_credit_score</th><th>skew_credit_score</th><th>kurtosis_credit_score</th><th>mean_num_credit_cards</th><th>median_num_credit_cards</th><th>std_num_credit_cards</th><th>skew_num_credit_cards</th><th>kurtosis_num_credit_cards</th><th>mean_credit_limit</th><th>median_credit_limit</th><th>std_credit_limit</th><th>skew_credit_limit</th><th>kurtosis_credit_limit</th><th>frauds</th></tr><tr><td>datetime[μs]</td><td>u32</td><td>f64</td><td>f64</td><td>f64</td><td>f64</td><td>f64</td><td>f64</td><td>f64</td><td>f64</td><td>f64</td><td>f64</td><td>f64</td><td>f64</td><td>f64</td><td>f64</td><td>f64</td><td>f64</td><td>f64</td><td>f64</td><td>f64</td><td>f64</td><td>f64</td><td>f64</td><td>f64</td><td>f64</td><td>f64</td><td>f64</td><td>f64</td><td>f64</td><td>f64</td><td>f64</td><td>f64</td><td>f64</td><td>f64</td><td>f64</td><td>f64</td><td>f64</td><td>f64</td><td>f64</td><td>f64</td><td>f64</td><td>i32</td></tr></thead><tbody><tr><td>2010-01-01 00:00:00</td><td>6</td><td>15.875</td><td>20.515</td><td>52.737742</td><td>-0.760483</td><td>-0.139116</td><td>46.833333</td><td>48.5</td><td>8.841191</td><td>-1.241314</td><td>0.444023</td><td>21897.166667</td><td>20877.5</td><td>7198.264219</td><td>0.522412</td><td>-0.861983</td><td>44644.5</td><td>42565.0</td><td>14677.331144</td><td>0.522292</td><td>-0.861697</td><td>93656.666667</td><td>103463.0</td><td>28711.635012</td><td>-1.594374</td><td>0.842529</td><td>763.5</td><td>761.0</td><td>61.29845</td><td>0.001812</td><td>-1.536333</td><td>4.0</td><td>4.5</td><td>1.264911</td><td>-0.649519</td><td>-1.125</td><td>7200.833333</td><td>4594.5</td><td>8439.396078</td><td>0.381076</td><td>-1.520432</td><td>0</td></tr><tr><td>2010-01-01 00:15:00</td><td>4</td><td>22.2625</td><td>21.57</td><td>22.245049</td><td>0.012927</td><td>-1.980469</td><td>49.5</td><td>50.5</td><td>16.663333</td><td>-0.134765</td><td>-1.560644</td><td>24534.0</td><td>24325.0</td><td>1301.539345</td><td>0.354425</td><td>-1.461239</td><td>45034.5</td><td>47909.5</td><td>9731.403205</td><td>-0.902371</td><td>-0.811235</td><td>60605.5</td><td>62744.5</td><td>59834.776479</td><td>-0.01997</td><td>-1.967191</td><td>724.5</td><td>732.5</td><td>24.310492</td><td>-0.830693</td><td>-0.974824</td><td>4.25</td><td>4.5</td><td>0.957427</td><td>-0.493382</td><td>-1.371901</td><td>12608.5</td><td>12360.5</td><td>13718.592311</td><td>0.010111</td><td>-1.972188</td><td>0</td></tr><tr><td>2010-01-01 00:30:00</td><td>10</td><td>34.644</td><td>37.73</td><td>45.188942</td><td>-0.779579</td><td>0.46044</td><td>48.6</td><td>48.0</td><td>4.993329</td><td>-0.461034</td><td>0.602038</td><td>21695.6</td><td>19148.0</td><td>6709.572916</td><td>0.674351</td><td>-0.812142</td><td>44235.6</td><td>39041.5</td><td>13679.761322</td><td>0.674422</td><td>-0.812128</td><td>56477.3</td><td>56937.0</td><td>48226.48252</td><td>0.235514</td><td>-1.124026</td><td>700.3</td><td>720.5</td><td>63.4421</td><td>-1.464207</td><td>2.09804</td><td>3.8</td><td>4.0</td><td>1.316561</td><td>-0.541972</td><td>0.607495</td><td>19807.9</td><td>19554.5</td><td>6338.6096</td><td>0.114952</td><td>-1.629159</td><td>0</td></tr><tr><td>2010-01-01 00:45:00</td><td>6</td><td>15.388333</td><td>11.185</td><td>14.262798</td><td>0.910151</td><td>-0.471315</td><td>70.5</td><td>68.5</td><td>18.251027</td><td>0.262932</td><td>-1.015413</td><td>19808.166667</td><td>18760.0</td><td>3592.733245</td><td>0.927645</td><td>-0.439468</td><td>30264.5</td><td>34182.5</td><td>11372.35866</td><td>-0.676415</td><td>-0.682009</td><td>40391.666667</td><td>17407.0</td><td>51012.043302</td><td>0.59751</td><td>-1.399093</td><td>772.166667</td><td>774.5</td><td>41.421814</td><td>-0.0949</td><td>-1.491414</td><td>5.333333</td><td>5.5</td><td>1.632993</td><td>-0.279508</td><td>-1.365</td><td>17533.666667</td><td>22097.0</td><td>11039.367893</td><td>-0.713338</td><td>-1.100947</td><td>0</td></tr><tr><td>2010-01-01 01:00:00</td><td>6</td><td>101.018333</td><td>82.545</td><td>97.728056</td><td>0.816882</td><td>-0.48396</td><td>54.5</td><td>52.5</td><td>9.648834</td><td>0.573632</td><td>-1.012784</td><td>26342.666667</td><td>23397.5</td><td>15248.228011</td><td>1.251008</td><td>0.412107</td><td>51599.833333</td><td>44073.0</td><td>31446.148479</td><td>1.418138</td><td>0.648661</td><td>67331.166667</td><td>55213.0</td><td>35267.904737</td><td>0.400987</td><td>-1.525858</td><td>730.333333</td><td>728.0</td><td>83.946809</td><td>0.055991</td><td>-1.513659</td><td>3.833333</td><td>4.5</td><td>1.47196</td><td>-0.519038</td><td>-1.56071</td><td>23233.333333</td><td>15679.5</td><td>20657.262681</td><td>1.339601</td><td>0.337726</td><td>0</td></tr></tbody></table></div>"
            ]
          },
          "metadata": {},
          "execution_count": 47
        }
      ]
    },
    {
      "cell_type": "code",
      "source": [
        "df_model['frauds'].value_counts().sort('frauds')"
      ],
      "metadata": {
        "colab": {
          "base_uri": "https://localhost:8080/",
          "height": 286
        },
        "id": "I2gMeKEV5Uzo",
        "outputId": "afc0165f-aad0-4c56-c6ef-41804e31361a"
      },
      "id": "I2gMeKEV5Uzo",
      "execution_count": 48,
      "outputs": [
        {
          "output_type": "execute_result",
          "data": {
            "text/plain": [
              "shape: (6, 2)\n",
              "┌────────┬────────┐\n",
              "│ frauds ┆ count  │\n",
              "│ ---    ┆ ---    │\n",
              "│ i32    ┆ u32    │\n",
              "╞════════╪════════╡\n",
              "│ 0      ┆ 333185 │\n",
              "│ 1      ┆ 9012   │\n",
              "│ 2      ┆ 1713   │\n",
              "│ 3      ┆ 234    │\n",
              "│ 4      ┆ 43     │\n",
              "│ 5      ┆ 4      │\n",
              "└────────┴────────┘"
            ],
            "text/html": [
              "<div><style>\n",
              ".dataframe > thead > tr,\n",
              ".dataframe > tbody > tr {\n",
              "  text-align: right;\n",
              "  white-space: pre-wrap;\n",
              "}\n",
              "</style>\n",
              "<small>shape: (6, 2)</small><table border=\"1\" class=\"dataframe\"><thead><tr><th>frauds</th><th>count</th></tr><tr><td>i32</td><td>u32</td></tr></thead><tbody><tr><td>0</td><td>333185</td></tr><tr><td>1</td><td>9012</td></tr><tr><td>2</td><td>1713</td></tr><tr><td>3</td><td>234</td></tr><tr><td>4</td><td>43</td></tr><tr><td>5</td><td>4</td></tr></tbody></table></div>"
            ]
          },
          "metadata": {},
          "execution_count": 48
        }
      ]
    },
    {
      "cell_type": "code",
      "source": [
        "df_model.shape"
      ],
      "metadata": {
        "colab": {
          "base_uri": "https://localhost:8080/"
        },
        "id": "Ob2kkgLCm0XG",
        "outputId": "bff7af5f-4454-437d-b550-a1dfedbfd1b1"
      },
      "id": "Ob2kkgLCm0XG",
      "execution_count": 49,
      "outputs": [
        {
          "output_type": "execute_result",
          "data": {
            "text/plain": [
              "(344191, 43)"
            ]
          },
          "metadata": {},
          "execution_count": 49
        }
      ]
    },
    {
      "cell_type": "code",
      "source": [
        "unique_use_chip = df.select('use_chip').unique().to_numpy().squeeze()"
      ],
      "metadata": {
        "id": "SNS_e7GUueBG"
      },
      "id": "SNS_e7GUueBG",
      "execution_count": 50,
      "outputs": []
    },
    {
      "cell_type": "code",
      "source": [
        "def list_structs_to_dict(list_of_structs):\n",
        "    if list_of_structs is None: # Trata casos onde a lista inteira é null\n",
        "        return None\n",
        "\n",
        "    items = {}\n",
        "    for item in list_of_structs:\n",
        "      key = item['use_chip']\n",
        "      value = round(item['proportion'], 2)\n",
        "      items[key] = value\n",
        "    return items"
      ],
      "metadata": {
        "id": "FsO88HynPNjW"
      },
      "id": "FsO88HynPNjW",
      "execution_count": 64,
      "outputs": []
    },
    {
      "cell_type": "code",
      "source": [
        "df_use_chip = df.group_by('date_window').agg(pl.col('use_chip').value_counts(normalize=True)).sort('date_window')\n",
        "df_use_chip.head()"
      ],
      "metadata": {
        "id": "UVWxImqeCfsV",
        "outputId": "46fea8a8-b771-40a7-a494-32fa2175ed6d",
        "colab": {
          "base_uri": "https://localhost:8080/",
          "height": 255
        }
      },
      "id": "UVWxImqeCfsV",
      "execution_count": 65,
      "outputs": [
        {
          "output_type": "execute_result",
          "data": {
            "text/plain": [
              "shape: (5, 2)\n",
              "┌─────────────────────┬─────────────────────────────────┐\n",
              "│ date_window         ┆ use_chip                        │\n",
              "│ ---                 ┆ ---                             │\n",
              "│ datetime[μs]        ┆ list[struct[2]]                 │\n",
              "╞═════════════════════╪═════════════════════════════════╡\n",
              "│ 2010-01-01 00:00:00 ┆ [{\"Swipe Transaction\",0.833333… │\n",
              "│ 2010-01-01 00:15:00 ┆ [{\"Swipe Transaction\",1.0}]     │\n",
              "│ 2010-01-01 00:30:00 ┆ [{\"Swipe Transaction\",0.8}, {\"… │\n",
              "│ 2010-01-01 00:45:00 ┆ [{\"Swipe Transaction\",0.833333… │\n",
              "│ 2010-01-01 01:00:00 ┆ [{\"Swipe Transaction\",0.5}, {\"… │\n",
              "└─────────────────────┴─────────────────────────────────┘"
            ],
            "text/html": [
              "<div><style>\n",
              ".dataframe > thead > tr,\n",
              ".dataframe > tbody > tr {\n",
              "  text-align: right;\n",
              "  white-space: pre-wrap;\n",
              "}\n",
              "</style>\n",
              "<small>shape: (5, 2)</small><table border=\"1\" class=\"dataframe\"><thead><tr><th>date_window</th><th>use_chip</th></tr><tr><td>datetime[μs]</td><td>list[struct[2]]</td></tr></thead><tbody><tr><td>2010-01-01 00:00:00</td><td>[{&quot;Swipe Transaction&quot;,0.833333}, {&quot;Online Transaction&quot;,0.166667}]</td></tr><tr><td>2010-01-01 00:15:00</td><td>[{&quot;Swipe Transaction&quot;,1.0}]</td></tr><tr><td>2010-01-01 00:30:00</td><td>[{&quot;Swipe Transaction&quot;,0.8}, {&quot;Online Transaction&quot;,0.2}]</td></tr><tr><td>2010-01-01 00:45:00</td><td>[{&quot;Swipe Transaction&quot;,0.833333}, {&quot;Online Transaction&quot;,0.166667}]</td></tr><tr><td>2010-01-01 01:00:00</td><td>[{&quot;Swipe Transaction&quot;,0.5}, {&quot;Online Transaction&quot;,0.5}]</td></tr></tbody></table></div>"
            ]
          },
          "metadata": {},
          "execution_count": 65
        }
      ]
    },
    {
      "cell_type": "code",
      "source": [
        " df_use_chip.with_columns(\n",
        "  pl.col('use_chip').map_elements(\n",
        "      list_structs_to_dict,\n",
        "      return_dtype=pl.Object\n",
        ").alias('use_chip'))"
      ],
      "metadata": {
        "id": "fYkNNBjXKllX",
        "outputId": "470acec0-9031-41ee-b39d-f4a2878d5bce",
        "colab": {
          "base_uri": "https://localhost:8080/",
          "height": 443
        }
      },
      "id": "fYkNNBjXKllX",
      "execution_count": 67,
      "outputs": [
        {
          "output_type": "execute_result",
          "data": {
            "text/plain": [
              "shape: (344_191, 2)\n",
              "┌─────────────────────┬─────────────────────────────────┐\n",
              "│ date_window         ┆ use_chip                        │\n",
              "│ ---                 ┆ ---                             │\n",
              "│ datetime[μs]        ┆ object                          │\n",
              "╞═════════════════════╪═════════════════════════════════╡\n",
              "│ 2010-01-01 00:00:00 ┆ {'Swipe Transaction': 0.83, 'O… │\n",
              "│ 2010-01-01 00:15:00 ┆ {'Swipe Transaction': 1.0}      │\n",
              "│ 2010-01-01 00:30:00 ┆ {'Swipe Transaction': 0.8, 'On… │\n",
              "│ 2010-01-01 00:45:00 ┆ {'Swipe Transaction': 0.83, 'O… │\n",
              "│ 2010-01-01 01:00:00 ┆ {'Swipe Transaction': 0.5, 'On… │\n",
              "│ …                   ┆ …                               │\n",
              "│ 2019-10-31 22:45:00 ┆ {'Online Transaction': 0.06, '… │\n",
              "│ 2019-10-31 23:00:00 ┆ {'Swipe Transaction': 0.33, 'C… │\n",
              "│ 2019-10-31 23:15:00 ┆ {'Online Transaction': 0.4, 'C… │\n",
              "│ 2019-10-31 23:30:00 ┆ {'Online Transaction': 0.14, '… │\n",
              "│ 2019-10-31 23:45:00 ┆ {'Swipe Transaction': 0.27, 'C… │\n",
              "└─────────────────────┴─────────────────────────────────┘"
            ],
            "text/html": [
              "<div><style>\n",
              ".dataframe > thead > tr,\n",
              ".dataframe > tbody > tr {\n",
              "  text-align: right;\n",
              "  white-space: pre-wrap;\n",
              "}\n",
              "</style>\n",
              "<small>shape: (344_191, 2)</small><table border=\"1\" class=\"dataframe\"><thead><tr><th>date_window</th><th>use_chip</th></tr><tr><td>datetime[μs]</td><td>object</td></tr></thead><tbody><tr><td>2010-01-01 00:00:00</td><td>{&#x27;Swipe Transaction&#x27;: 0.83, &#x27;Online Transaction&#x27;: 0.17}</td></tr><tr><td>2010-01-01 00:15:00</td><td>{&#x27;Swipe Transaction&#x27;: 1.0}</td></tr><tr><td>2010-01-01 00:30:00</td><td>{&#x27;Swipe Transaction&#x27;: 0.8, &#x27;Online Transaction&#x27;: 0.2}</td></tr><tr><td>2010-01-01 00:45:00</td><td>{&#x27;Swipe Transaction&#x27;: 0.83, &#x27;Online Transaction&#x27;: 0.17}</td></tr><tr><td>2010-01-01 01:00:00</td><td>{&#x27;Swipe Transaction&#x27;: 0.5, &#x27;Online Transaction&#x27;: 0.5}</td></tr><tr><td>&hellip;</td><td>&hellip;</td></tr><tr><td>2019-10-31 22:45:00</td><td>{&#x27;Online Transaction&#x27;: 0.06, &#x27;Chip Transaction&#x27;: 0.88, &#x27;Swipe Transaction&#x27;: 0.06}</td></tr><tr><td>2019-10-31 23:00:00</td><td>{&#x27;Swipe Transaction&#x27;: 0.33, &#x27;Chip Transaction&#x27;: 0.67}</td></tr><tr><td>2019-10-31 23:15:00</td><td>{&#x27;Online Transaction&#x27;: 0.4, &#x27;Chip Transaction&#x27;: 0.6}</td></tr><tr><td>2019-10-31 23:30:00</td><td>{&#x27;Online Transaction&#x27;: 0.14, &#x27;Chip Transaction&#x27;: 0.43, &#x27;Swipe Transaction&#x27;: 0.43}</td></tr><tr><td>2019-10-31 23:45:00</td><td>{&#x27;Swipe Transaction&#x27;: 0.27, &#x27;Chip Transaction&#x27;: 0.64, &#x27;Online Transaction&#x27;: 0.09}</td></tr></tbody></table></div>"
            ]
          },
          "metadata": {},
          "execution_count": 67
        }
      ]
    },
    {
      "cell_type": "code",
      "source": [
        "items = [{\"Swipe Transaction\",0.833333}, {\"Online Transaction\",0.166667}]"
      ],
      "metadata": {
        "id": "L2daOWMrLwhF"
      },
      "id": "L2daOWMrLwhF",
      "execution_count": 15,
      "outputs": []
    },
    {
      "cell_type": "code",
      "source": [
        "list_structs_to_dict(items)"
      ],
      "metadata": {
        "id": "b7dD675VMnP2",
        "outputId": "104dc1a5-0382-4793-b862-a23f2f08650d",
        "colab": {
          "base_uri": "https://localhost:8080/"
        }
      },
      "id": "b7dD675VMnP2",
      "execution_count": 16,
      "outputs": [
        {
          "output_type": "execute_result",
          "data": {
            "text/plain": [
              "{'Swipe Transaction': 0.833333, 'Online Transaction': 0.166667}"
            ]
          },
          "metadata": {},
          "execution_count": 16
        }
      ]
    },
    {
      "cell_type": "code",
      "source": [],
      "metadata": {
        "id": "7ctOF8ESeHhn"
      },
      "id": "7ctOF8ESeHhn",
      "execution_count": null,
      "outputs": []
    }
  ],
  "metadata": {
    "kernelspec": {
      "display_name": ".venv",
      "language": "python",
      "name": "python3"
    },
    "language_info": {
      "name": "python",
      "version": "3.11.7"
    },
    "colab": {
      "provenance": [],
      "machine_shape": "hm"
    }
  },
  "nbformat": 4,
  "nbformat_minor": 5
}