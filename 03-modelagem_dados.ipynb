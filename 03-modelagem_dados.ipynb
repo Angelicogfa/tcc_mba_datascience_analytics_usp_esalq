{
  "cells": [
    {
      "cell_type": "code",
      "execution_count": 13,
      "id": "de222694",
      "metadata": {
        "id": "de222694"
      },
      "outputs": [],
      "source": [
        "import os\n",
        "import shutil\n",
        "import pandas as pd\n",
        "import polars as pl\n",
        "from datetime import datetime, timedelta"
      ]
    },
    {
      "cell_type": "code",
      "execution_count": 14,
      "id": "6f6f5808",
      "metadata": {
        "colab": {
          "base_uri": "https://localhost:8080/"
        },
        "id": "6f6f5808",
        "outputId": "0789fa37-d660-42fb-e3b4-e82a37c6266e"
      },
      "outputs": [
        {
          "output_type": "stream",
          "name": "stdout",
          "text": [
            "Drive already mounted at /content/drive; to attempt to forcibly remount, call drive.mount(\"/content/drive\", force_remount=True).\n"
          ]
        }
      ],
      "source": [
        "if 'google.colab' in str(get_ipython()):\n",
        "  from google.colab import drive\n",
        "\n",
        "  os.makedirs('./datasets', exist_ok=True)\n",
        "  drive.mount('/content/drive')\n",
        "\n",
        "  shutil.copy('/content/drive/MyDrive/DataScience/Analytics/Estudo Fraude/df_train_test.parquet','/content/datasets/')\n",
        "  shutil.copy('/content/drive/MyDrive/DataScience/Analytics/Estudo Fraude/df_validation.parquet','/content/datasets/')"
      ]
    },
    {
      "cell_type": "code",
      "source": [
        "df = pl.concat([pl.read_parquet('./datasets/df_train_test.parquet'), pl.read_parquet('./datasets/df_validation.parquet')])\n",
        "df.head()"
      ],
      "metadata": {
        "colab": {
          "base_uri": "https://localhost:8080/",
          "height": 483
        },
        "id": "A5HygZAqanA2",
        "outputId": "53d76c06-fcb7-42e4-d025-41ba6613d4cc"
      },
      "id": "A5HygZAqanA2",
      "execution_count": 15,
      "outputs": [
        {
          "output_type": "execute_result",
          "data": {
            "text/plain": [
              "shape: (5, 38)\n",
              "┌─────────┬────────────┬───────────┬─────────┬───┬────────────┬────────────┬───────────┬───────────┐\n",
              "│ id      ┆ date       ┆ client_id ┆ card_id ┆ … ┆ credit_lim ┆ acct_open_ ┆ year_pin_ ┆ card_on_d │\n",
              "│ ---     ┆ ---        ┆ ---       ┆ ---     ┆   ┆ it         ┆ date       ┆ last_chan ┆ ark_web   │\n",
              "│ i64     ┆ datetime[n ┆ i64       ┆ i64     ┆   ┆ ---        ┆ ---        ┆ ged       ┆ ---       │\n",
              "│         ┆ s]         ┆           ┆         ┆   ┆ f64        ┆ str        ┆ ---       ┆ str       │\n",
              "│         ┆            ┆           ┆         ┆   ┆            ┆            ┆ i64       ┆           │\n",
              "╞═════════╪════════════╪═══════════╪═════════╪═══╪════════════╪════════════╪═══════════╪═══════════╡\n",
              "│ 7475327 ┆ 2010-01-01 ┆ 1556      ┆ 2972    ┆ … ┆ 55.0       ┆ 05/2008    ┆ 2008      ┆ No        │\n",
              "│         ┆ 00:01:00   ┆           ┆         ┆   ┆            ┆            ┆           ┆           │\n",
              "│ 7475328 ┆ 2010-01-01 ┆ 561       ┆ 4575    ┆ … ┆ 9100.0     ┆ 09/2005    ┆ 2015      ┆ No        │\n",
              "│         ┆ 00:02:00   ┆           ┆         ┆   ┆            ┆            ┆           ┆           │\n",
              "│ 7475329 ┆ 2010-01-01 ┆ 1129      ┆ 102     ┆ … ┆ 14802.0    ┆ 01/2006    ┆ 2008      ┆ No        │\n",
              "│         ┆ 00:02:00   ┆           ┆         ┆   ┆            ┆            ┆           ┆           │\n",
              "│ 7475332 ┆ 2010-01-01 ┆ 848       ┆ 3915    ┆ … ┆ 19113.0    ┆ 07/2009    ┆ 2014      ┆ No        │\n",
              "│         ┆ 00:06:00   ┆           ┆         ┆   ┆            ┆            ┆           ┆           │\n",
              "│ 7475333 ┆ 2010-01-01 ┆ 1807      ┆ 165     ┆ … ┆ 89.0       ┆ 01/2008    ┆ 2015      ┆ No        │\n",
              "│         ┆ 00:07:00   ┆           ┆         ┆   ┆            ┆            ┆           ┆           │\n",
              "└─────────┴────────────┴───────────┴─────────┴───┴────────────┴────────────┴───────────┴───────────┘"
            ],
            "text/html": [
              "<div><style>\n",
              ".dataframe > thead > tr,\n",
              ".dataframe > tbody > tr {\n",
              "  text-align: right;\n",
              "  white-space: pre-wrap;\n",
              "}\n",
              "</style>\n",
              "<small>shape: (5, 38)</small><table border=\"1\" class=\"dataframe\"><thead><tr><th>id</th><th>date</th><th>client_id</th><th>card_id</th><th>amount</th><th>use_chip</th><th>merchant_id</th><th>merchant_city</th><th>merchant_state</th><th>zip</th><th>mcc</th><th>errors</th><th>description</th><th>target</th><th>current_age</th><th>retirement_age</th><th>birth_year</th><th>birth_month</th><th>gender</th><th>address</th><th>latitude</th><th>longitude</th><th>per_capita_income</th><th>yearly_income</th><th>total_debt</th><th>credit_score</th><th>num_credit_cards</th><th>card_brand</th><th>card_type</th><th>card_number</th><th>expires</th><th>cvv</th><th>has_chip</th><th>num_cards_issued</th><th>credit_limit</th><th>acct_open_date</th><th>year_pin_last_changed</th><th>card_on_dark_web</th></tr><tr><td>i64</td><td>datetime[ns]</td><td>i64</td><td>i64</td><td>f64</td><td>str</td><td>i64</td><td>str</td><td>str</td><td>f64</td><td>str</td><td>str</td><td>str</td><td>str</td><td>i64</td><td>i64</td><td>i64</td><td>i64</td><td>str</td><td>str</td><td>f64</td><td>f64</td><td>f64</td><td>f64</td><td>f64</td><td>i64</td><td>i64</td><td>str</td><td>str</td><td>i64</td><td>str</td><td>i64</td><td>str</td><td>i64</td><td>f64</td><td>str</td><td>i64</td><td>str</td></tr></thead><tbody><tr><td>7475327</td><td>2010-01-01 00:01:00</td><td>1556</td><td>2972</td><td>-77.0</td><td>&quot;Swipe Transaction&quot;</td><td>59935</td><td>&quot;Beulah&quot;</td><td>&quot;ND&quot;</td><td>58523.0</td><td>&quot;5499&quot;</td><td>null</td><td>&quot;Miscellaneous Food Stores&quot;</td><td>&quot;No&quot;</td><td>30</td><td>67</td><td>1989</td><td>7</td><td>&quot;Female&quot;</td><td>&quot;594 Mountain View Street&quot;</td><td>46.8</td><td>-100.76</td><td>23679.0</td><td>48277.0</td><td>110153.0</td><td>740</td><td>4</td><td>&quot;Mastercard&quot;</td><td>&quot;Debit (Prepaid)&quot;</td><td>5497590243197280</td><td>&quot;07/2022&quot;</td><td>306</td><td>&quot;YES&quot;</td><td>2</td><td>55.0</td><td>&quot;05/2008&quot;</td><td>2008</td><td>&quot;No&quot;</td></tr><tr><td>7475328</td><td>2010-01-01 00:02:00</td><td>561</td><td>4575</td><td>14.57</td><td>&quot;Swipe Transaction&quot;</td><td>67570</td><td>&quot;Bettendorf&quot;</td><td>&quot;IA&quot;</td><td>52722.0</td><td>&quot;5311&quot;</td><td>null</td><td>&quot;Department Stores&quot;</td><td>&quot;No&quot;</td><td>48</td><td>67</td><td>1971</td><td>6</td><td>&quot;Male&quot;</td><td>&quot;604 Pine Street&quot;</td><td>40.8</td><td>-91.12</td><td>18076.0</td><td>36853.0</td><td>112139.0</td><td>834</td><td>5</td><td>&quot;Mastercard&quot;</td><td>&quot;Credit&quot;</td><td>5175842699412235</td><td>&quot;12/2024&quot;</td><td>438</td><td>&quot;YES&quot;</td><td>1</td><td>9100.0</td><td>&quot;09/2005&quot;</td><td>2015</td><td>&quot;No&quot;</td></tr><tr><td>7475329</td><td>2010-01-01 00:02:00</td><td>1129</td><td>102</td><td>80.0</td><td>&quot;Swipe Transaction&quot;</td><td>27092</td><td>&quot;Vista&quot;</td><td>&quot;CA&quot;</td><td>92084.0</td><td>&quot;4829&quot;</td><td>null</td><td>&quot;Money Transfer&quot;</td><td>&quot;No&quot;</td><td>49</td><td>65</td><td>1970</td><td>4</td><td>&quot;Male&quot;</td><td>&quot;2379 Forest Lane&quot;</td><td>33.18</td><td>-117.29</td><td>16894.0</td><td>34449.0</td><td>36540.0</td><td>686</td><td>3</td><td>&quot;Mastercard&quot;</td><td>&quot;Debit&quot;</td><td>5874992802287595</td><td>&quot;05/2020&quot;</td><td>256</td><td>&quot;YES&quot;</td><td>1</td><td>14802.0</td><td>&quot;01/2006&quot;</td><td>2008</td><td>&quot;No&quot;</td></tr><tr><td>7475332</td><td>2010-01-01 00:06:00</td><td>848</td><td>3915</td><td>46.41</td><td>&quot;Swipe Transaction&quot;</td><td>13051</td><td>&quot;Harwood&quot;</td><td>&quot;MD&quot;</td><td>20776.0</td><td>&quot;5813&quot;</td><td>null</td><td>&quot;Drinking Places (Alcoholic Bev…</td><td>&quot;No&quot;</td><td>51</td><td>69</td><td>1968</td><td>5</td><td>&quot;Male&quot;</td><td>&quot;166 River Drive&quot;</td><td>38.86</td><td>-76.6</td><td>33529.0</td><td>68362.0</td><td>96182.0</td><td>711</td><td>2</td><td>&quot;Visa&quot;</td><td>&quot;Debit&quot;</td><td>4354185735186651</td><td>&quot;01/2020&quot;</td><td>120</td><td>&quot;YES&quot;</td><td>1</td><td>19113.0</td><td>&quot;07/2009&quot;</td><td>2014</td><td>&quot;No&quot;</td></tr><tr><td>7475333</td><td>2010-01-01 00:07:00</td><td>1807</td><td>165</td><td>4.81</td><td>&quot;Swipe Transaction&quot;</td><td>20519</td><td>&quot;Bronx&quot;</td><td>&quot;NY&quot;</td><td>10464.0</td><td>&quot;5942&quot;</td><td>null</td><td>&quot;Book Stores&quot;</td><td>&quot;No&quot;</td><td>47</td><td>65</td><td>1972</td><td>12</td><td>&quot;Female&quot;</td><td>&quot;14780 Plum Lane&quot;</td><td>40.84</td><td>-73.87</td><td>25537.0</td><td>52065.0</td><td>98613.0</td><td>828</td><td>5</td><td>&quot;Mastercard&quot;</td><td>&quot;Debit (Prepaid)&quot;</td><td>5207231566469664</td><td>&quot;03/2014&quot;</td><td>198</td><td>&quot;YES&quot;</td><td>1</td><td>89.0</td><td>&quot;01/2008&quot;</td><td>2015</td><td>&quot;No&quot;</td></tr></tbody></table></div>"
            ]
          },
          "metadata": {},
          "execution_count": 15
        }
      ]
    },
    {
      "cell_type": "code",
      "source": [
        "df = df.with_columns(\n",
        "    pl.when(pl.col('merchant_city').str.to_lowercase() == 'online')\n",
        "    .then(pl.lit('Yes'))\n",
        "    .otherwise(pl.lit('No'))\n",
        "    .alias('online_sales')\n",
        ")"
      ],
      "metadata": {
        "id": "XkkZgfIJaLc6"
      },
      "id": "XkkZgfIJaLc6",
      "execution_count": 16,
      "outputs": []
    },
    {
      "cell_type": "code",
      "source": [
        "def floor_to_15min(dt_value: datetime) -> datetime|None:\n",
        "    if dt_value is None:\n",
        "        return None\n",
        "\n",
        "    seconds_since_midnight = (dt_value - dt_value.replace(hour=0, minute=0, second=0, microsecond=0)).total_seconds()\n",
        "    interval_seconds = 15 * 60\n",
        "    floored_seconds = (seconds_since_midnight // interval_seconds) * interval_seconds\n",
        "    return dt_value.replace(hour=0, minute=0, second=0, microsecond=0) + timedelta(seconds=floored_seconds)"
      ],
      "metadata": {
        "id": "XhvCN1WwmKfm"
      },
      "id": "XhvCN1WwmKfm",
      "execution_count": 17,
      "outputs": []
    },
    {
      "cell_type": "code",
      "source": [
        "df = df.with_columns(\n",
        "    pl.col(\"date\").map_elements(floor_to_15min, return_dtype=pl.Datetime).alias(\"date_window\")\n",
        ")"
      ],
      "metadata": {
        "id": "NoAi0UNsbdvm"
      },
      "id": "NoAi0UNsbdvm",
      "execution_count": 18,
      "outputs": []
    },
    {
      "cell_type": "code",
      "source": [
        "def generate_columns_statistics(column_name: str) -> list:\n",
        "    return [\n",
        "        pl.col(column_name).mean().alias(f'mean_{column_name}'),\n",
        "        pl.col(column_name).median().alias(f'median_{column_name}'),\n",
        "        pl.col(column_name).std().alias(f'std_{column_name}'),\n",
        "        pl.col(column_name).skew().alias(f'skew_{column_name}'),\n",
        "        pl.col(column_name).kurtosis().alias(f'kurtosis_{column_name}')\n",
        "    ]"
      ],
      "metadata": {
        "id": "laLJmJHJrJkn"
      },
      "id": "laLJmJHJrJkn",
      "execution_count": 19,
      "outputs": []
    },
    {
      "cell_type": "code",
      "source": [
        "df = df.with_columns(\n",
        "    pl.when(pl.col('target') == 'Yes').then(1).otherwise(0).alias('target')\n",
        ")"
      ],
      "metadata": {
        "id": "bpv633xK48i_"
      },
      "id": "bpv633xK48i_",
      "execution_count": 20,
      "outputs": []
    },
    {
      "cell_type": "code",
      "source": [
        "aggregate = [pl.col('amount').count().alias('transactions'), pl.col('target').sum().alias('frauds')]\n",
        "for column in ['amount', 'current_age', 'per_capita_income', 'total_debt', 'credit_score', 'num_credit_cards', 'credit_limit']:\n",
        "  aggregate.extend(generate_columns_statistics(column))"
      ],
      "metadata": {
        "id": "YkYWiYk-rjS3"
      },
      "id": "YkYWiYk-rjS3",
      "execution_count": 21,
      "outputs": []
    },
    {
      "cell_type": "code",
      "source": [
        "def list_structs_to_dict(list_of_structs, column_name):\n",
        "  if list_of_structs is None:\n",
        "      return None\n",
        "\n",
        "  items = {}\n",
        "  for item in list_of_structs:\n",
        "    key = item[column_name]\n",
        "    value = round(item['proportion'], 2)\n",
        "    items[key] = value\n",
        "\n",
        "  return items\n",
        "\n",
        "def convert_categorical_to_percent(df: pl.DataFrame, column_name: str, group_by_column) -> pl.DataFrame:\n",
        "  list_structs_to_dict_column = lambda items: list_structs_to_dict(items, column_name)\n",
        "\n",
        "  df_group = df.group_by(group_by_column).agg(pl.col(column_name).value_counts(normalize=True)).sort(group_by_column)\n",
        "\n",
        "  df_fields = df_group.with_columns(\n",
        "    pl.col(column_name).map_elements(\n",
        "        list_structs_to_dict_column,\n",
        "        return_dtype=pl.Object\n",
        "  ).alias(column_name))\n",
        "\n",
        "  fields = df_fields[column_name].to_list()\n",
        "  data = pd.DataFrame(fields).fillna(0.0)\n",
        "  data.columns = [f'{column_name}_{col.lower().replace(\" \", \"_\")}' for col in data.columns]\n",
        "  # data[group_by_column] = df_fields[group_by_column].to_list()\n",
        "  data = pl.from_pandas(data)\n",
        "  data = data.with_columns(df_fields[group_by_column].alias(group_by_column))\n",
        "  return data"
      ],
      "metadata": {
        "id": "bC63AKuCOFFx"
      },
      "id": "bC63AKuCOFFx",
      "execution_count": 22,
      "outputs": []
    },
    {
      "cell_type": "code",
      "source": [
        "df_model = df.group_by('date_window').agg(\n",
        "    *aggregate\n",
        ").sort('date_window')\n",
        "df_model.head()"
      ],
      "metadata": {
        "colab": {
          "base_uri": "https://localhost:8080/",
          "height": 362
        },
        "id": "KnwKfEUihpoW",
        "outputId": "f51d1d55-0376-4da9-be56-fd1191a2ebda"
      },
      "id": "KnwKfEUihpoW",
      "execution_count": 23,
      "outputs": [
        {
          "output_type": "execute_result",
          "data": {
            "text/plain": [
              "shape: (5, 38)\n",
              "┌────────────┬────────────┬────────┬───────────┬───┬───────────┬───────────┬───────────┬───────────┐\n",
              "│ date_windo ┆ transactio ┆ frauds ┆ mean_amou ┆ … ┆ median_cr ┆ std_credi ┆ skew_cred ┆ kurtosis_ │\n",
              "│ w          ┆ ns         ┆ ---    ┆ nt        ┆   ┆ edit_limi ┆ t_limit   ┆ it_limit  ┆ credit_li │\n",
              "│ ---        ┆ ---        ┆ i32    ┆ ---       ┆   ┆ t         ┆ ---       ┆ ---       ┆ mit       │\n",
              "│ datetime[μ ┆ u32        ┆        ┆ f64       ┆   ┆ ---       ┆ f64       ┆ f64       ┆ ---       │\n",
              "│ s]         ┆            ┆        ┆           ┆   ┆ f64       ┆           ┆           ┆ f64       │\n",
              "╞════════════╪════════════╪════════╪═══════════╪═══╪═══════════╪═══════════╪═══════════╪═══════════╡\n",
              "│ 2010-01-01 ┆ 6          ┆ 0      ┆ 15.875    ┆ … ┆ 4594.5    ┆ 8439.3960 ┆ 0.381076  ┆ -1.520432 │\n",
              "│ 00:00:00   ┆            ┆        ┆           ┆   ┆           ┆ 78        ┆           ┆           │\n",
              "│ 2010-01-01 ┆ 4          ┆ 0      ┆ 22.2625   ┆ … ┆ 12360.5   ┆ 13718.592 ┆ 0.010111  ┆ -1.972188 │\n",
              "│ 00:15:00   ┆            ┆        ┆           ┆   ┆           ┆ 311       ┆           ┆           │\n",
              "│ 2010-01-01 ┆ 10         ┆ 0      ┆ 34.644    ┆ … ┆ 19554.5   ┆ 6338.6096 ┆ 0.114952  ┆ -1.629159 │\n",
              "│ 00:30:00   ┆            ┆        ┆           ┆   ┆           ┆           ┆           ┆           │\n",
              "│ 2010-01-01 ┆ 6          ┆ 0      ┆ 15.388333 ┆ … ┆ 22097.0   ┆ 11039.367 ┆ -0.713338 ┆ -1.100947 │\n",
              "│ 00:45:00   ┆            ┆        ┆           ┆   ┆           ┆ 893       ┆           ┆           │\n",
              "│ 2010-01-01 ┆ 6          ┆ 0      ┆ 101.01833 ┆ … ┆ 15679.5   ┆ 20657.262 ┆ 1.339601  ┆ 0.337726  │\n",
              "│ 01:00:00   ┆            ┆        ┆ 3         ┆   ┆           ┆ 681       ┆           ┆           │\n",
              "└────────────┴────────────┴────────┴───────────┴───┴───────────┴───────────┴───────────┴───────────┘"
            ],
            "text/html": [
              "<div><style>\n",
              ".dataframe > thead > tr,\n",
              ".dataframe > tbody > tr {\n",
              "  text-align: right;\n",
              "  white-space: pre-wrap;\n",
              "}\n",
              "</style>\n",
              "<small>shape: (5, 38)</small><table border=\"1\" class=\"dataframe\"><thead><tr><th>date_window</th><th>transactions</th><th>frauds</th><th>mean_amount</th><th>median_amount</th><th>std_amount</th><th>skew_amount</th><th>kurtosis_amount</th><th>mean_current_age</th><th>median_current_age</th><th>std_current_age</th><th>skew_current_age</th><th>kurtosis_current_age</th><th>mean_per_capita_income</th><th>median_per_capita_income</th><th>std_per_capita_income</th><th>skew_per_capita_income</th><th>kurtosis_per_capita_income</th><th>mean_total_debt</th><th>median_total_debt</th><th>std_total_debt</th><th>skew_total_debt</th><th>kurtosis_total_debt</th><th>mean_credit_score</th><th>median_credit_score</th><th>std_credit_score</th><th>skew_credit_score</th><th>kurtosis_credit_score</th><th>mean_num_credit_cards</th><th>median_num_credit_cards</th><th>std_num_credit_cards</th><th>skew_num_credit_cards</th><th>kurtosis_num_credit_cards</th><th>mean_credit_limit</th><th>median_credit_limit</th><th>std_credit_limit</th><th>skew_credit_limit</th><th>kurtosis_credit_limit</th></tr><tr><td>datetime[μs]</td><td>u32</td><td>i32</td><td>f64</td><td>f64</td><td>f64</td><td>f64</td><td>f64</td><td>f64</td><td>f64</td><td>f64</td><td>f64</td><td>f64</td><td>f64</td><td>f64</td><td>f64</td><td>f64</td><td>f64</td><td>f64</td><td>f64</td><td>f64</td><td>f64</td><td>f64</td><td>f64</td><td>f64</td><td>f64</td><td>f64</td><td>f64</td><td>f64</td><td>f64</td><td>f64</td><td>f64</td><td>f64</td><td>f64</td><td>f64</td><td>f64</td><td>f64</td><td>f64</td></tr></thead><tbody><tr><td>2010-01-01 00:00:00</td><td>6</td><td>0</td><td>15.875</td><td>20.515</td><td>52.737742</td><td>-0.760483</td><td>-0.139116</td><td>46.833333</td><td>48.5</td><td>8.841191</td><td>-1.241314</td><td>0.444023</td><td>21897.166667</td><td>20877.5</td><td>7198.264219</td><td>0.522412</td><td>-0.861983</td><td>93656.666667</td><td>103463.0</td><td>28711.635012</td><td>-1.594374</td><td>0.842529</td><td>763.5</td><td>761.0</td><td>61.29845</td><td>0.001812</td><td>-1.536333</td><td>4.0</td><td>4.5</td><td>1.264911</td><td>-0.649519</td><td>-1.125</td><td>7200.833333</td><td>4594.5</td><td>8439.396078</td><td>0.381076</td><td>-1.520432</td></tr><tr><td>2010-01-01 00:15:00</td><td>4</td><td>0</td><td>22.2625</td><td>21.57</td><td>22.245049</td><td>0.012927</td><td>-1.980469</td><td>49.5</td><td>50.5</td><td>16.663333</td><td>-0.134765</td><td>-1.560644</td><td>24534.0</td><td>24325.0</td><td>1301.539345</td><td>0.354425</td><td>-1.461239</td><td>60605.5</td><td>62744.5</td><td>59834.776479</td><td>-0.01997</td><td>-1.967191</td><td>724.5</td><td>732.5</td><td>24.310492</td><td>-0.830693</td><td>-0.974824</td><td>4.25</td><td>4.5</td><td>0.957427</td><td>-0.493382</td><td>-1.371901</td><td>12608.5</td><td>12360.5</td><td>13718.592311</td><td>0.010111</td><td>-1.972188</td></tr><tr><td>2010-01-01 00:30:00</td><td>10</td><td>0</td><td>34.644</td><td>37.73</td><td>45.188942</td><td>-0.779579</td><td>0.46044</td><td>48.6</td><td>48.0</td><td>4.993329</td><td>-0.461034</td><td>0.602038</td><td>21695.6</td><td>19148.0</td><td>6709.572916</td><td>0.674351</td><td>-0.812142</td><td>56477.3</td><td>56937.0</td><td>48226.48252</td><td>0.235514</td><td>-1.124026</td><td>700.3</td><td>720.5</td><td>63.4421</td><td>-1.464207</td><td>2.09804</td><td>3.8</td><td>4.0</td><td>1.316561</td><td>-0.541972</td><td>0.607495</td><td>19807.9</td><td>19554.5</td><td>6338.6096</td><td>0.114952</td><td>-1.629159</td></tr><tr><td>2010-01-01 00:45:00</td><td>6</td><td>0</td><td>15.388333</td><td>11.185</td><td>14.262798</td><td>0.910151</td><td>-0.471315</td><td>70.5</td><td>68.5</td><td>18.251027</td><td>0.262932</td><td>-1.015413</td><td>19808.166667</td><td>18760.0</td><td>3592.733245</td><td>0.927645</td><td>-0.439468</td><td>40391.666667</td><td>17407.0</td><td>51012.043302</td><td>0.59751</td><td>-1.399093</td><td>772.166667</td><td>774.5</td><td>41.421814</td><td>-0.0949</td><td>-1.491414</td><td>5.333333</td><td>5.5</td><td>1.632993</td><td>-0.279508</td><td>-1.365</td><td>17533.666667</td><td>22097.0</td><td>11039.367893</td><td>-0.713338</td><td>-1.100947</td></tr><tr><td>2010-01-01 01:00:00</td><td>6</td><td>0</td><td>101.018333</td><td>82.545</td><td>97.728056</td><td>0.816882</td><td>-0.48396</td><td>54.5</td><td>52.5</td><td>9.648834</td><td>0.573632</td><td>-1.012784</td><td>26342.666667</td><td>23397.5</td><td>15248.228011</td><td>1.251008</td><td>0.412107</td><td>67331.166667</td><td>55213.0</td><td>35267.904737</td><td>0.400987</td><td>-1.525858</td><td>730.333333</td><td>728.0</td><td>83.946809</td><td>0.055991</td><td>-1.513659</td><td>3.833333</td><td>4.5</td><td>1.47196</td><td>-0.519038</td><td>-1.56071</td><td>23233.333333</td><td>15679.5</td><td>20657.262681</td><td>1.339601</td><td>0.337726</td></tr></tbody></table></div>"
            ]
          },
          "metadata": {},
          "execution_count": 23
        }
      ]
    },
    {
      "cell_type": "code",
      "source": [
        "for column in ['use_chip', 'gender', 'card_brand', 'card_type', 'has_chip', 'online_sales']:\n",
        "  df_field = convert_categorical_to_percent(df, column, 'date_window')\n",
        "  df_model = df_model.join(df_field, on='date_window', how='left')\n",
        "df_model.head(10)"
      ],
      "metadata": {
        "id": "1TyhdG4rTnLE",
        "outputId": "583f7bb6-0303-460c-c5b4-570254c6f551",
        "colab": {
          "base_uri": "https://localhost:8080/",
          "height": 605
        }
      },
      "id": "1TyhdG4rTnLE",
      "execution_count": 24,
      "outputs": [
        {
          "output_type": "execute_result",
          "data": {
            "text/plain": [
              "shape: (10, 54)\n",
              "┌────────────┬────────────┬────────┬───────────┬───┬───────────┬───────────┬───────────┬───────────┐\n",
              "│ date_windo ┆ transactio ┆ frauds ┆ mean_amou ┆ … ┆ has_chip_ ┆ has_chip_ ┆ online_sa ┆ online_sa │\n",
              "│ w          ┆ ns         ┆ ---    ┆ nt        ┆   ┆ yes       ┆ no        ┆ les_no    ┆ les_yes   │\n",
              "│ ---        ┆ ---        ┆ i32    ┆ ---       ┆   ┆ ---       ┆ ---       ┆ ---       ┆ ---       │\n",
              "│ datetime[μ ┆ u32        ┆        ┆ f64       ┆   ┆ f64       ┆ f64       ┆ f64       ┆ f64       │\n",
              "│ s]         ┆            ┆        ┆           ┆   ┆           ┆           ┆           ┆           │\n",
              "╞════════════╪════════════╪════════╪═══════════╪═══╪═══════════╪═══════════╪═══════════╪═══════════╡\n",
              "│ 2010-01-01 ┆ 6          ┆ 0      ┆ 15.875    ┆ … ┆ 1.0       ┆ 0.0       ┆ 0.83      ┆ 0.17      │\n",
              "│ 00:00:00   ┆            ┆        ┆           ┆   ┆           ┆           ┆           ┆           │\n",
              "│ 2010-01-01 ┆ 4          ┆ 0      ┆ 22.2625   ┆ … ┆ 0.75      ┆ 0.25      ┆ 1.0       ┆ 0.0       │\n",
              "│ 00:15:00   ┆            ┆        ┆           ┆   ┆           ┆           ┆           ┆           │\n",
              "│ 2010-01-01 ┆ 10         ┆ 0      ┆ 34.644    ┆ … ┆ 1.0       ┆ 0.0       ┆ 0.8       ┆ 0.2       │\n",
              "│ 00:30:00   ┆            ┆        ┆           ┆   ┆           ┆           ┆           ┆           │\n",
              "│ 2010-01-01 ┆ 6          ┆ 0      ┆ 15.388333 ┆ … ┆ 1.0       ┆ 0.0       ┆ 0.83      ┆ 0.17      │\n",
              "│ 00:45:00   ┆            ┆        ┆           ┆   ┆           ┆           ┆           ┆           │\n",
              "│ 2010-01-01 ┆ 6          ┆ 0      ┆ 101.01833 ┆ … ┆ 1.0       ┆ 0.0       ┆ 0.5       ┆ 0.5       │\n",
              "│ 01:00:00   ┆            ┆        ┆ 3         ┆   ┆           ┆           ┆           ┆           │\n",
              "│ 2010-01-01 ┆ 5          ┆ 0      ┆ 4.61      ┆ … ┆ 0.8       ┆ 0.2       ┆ 1.0       ┆ 0.0       │\n",
              "│ 01:15:00   ┆            ┆        ┆           ┆   ┆           ┆           ┆           ┆           │\n",
              "│ 2010-01-01 ┆ 4          ┆ 0      ┆ 17.535    ┆ … ┆ 1.0       ┆ 0.0       ┆ 1.0       ┆ 0.0       │\n",
              "│ 01:30:00   ┆            ┆        ┆           ┆   ┆           ┆           ┆           ┆           │\n",
              "│ 2010-01-01 ┆ 7          ┆ 0      ┆ 51.992857 ┆ … ┆ 1.0       ┆ 0.0       ┆ 0.57      ┆ 0.43      │\n",
              "│ 01:45:00   ┆            ┆        ┆           ┆   ┆           ┆           ┆           ┆           │\n",
              "│ 2010-01-01 ┆ 9          ┆ 0      ┆ 45.843333 ┆ … ┆ 1.0       ┆ 0.0       ┆ 1.0       ┆ 0.0       │\n",
              "│ 02:00:00   ┆            ┆        ┆           ┆   ┆           ┆           ┆           ┆           │\n",
              "│ 2010-01-01 ┆ 6          ┆ 0      ┆ 35.681667 ┆ … ┆ 1.0       ┆ 0.0       ┆ 0.67      ┆ 0.33      │\n",
              "│ 02:15:00   ┆            ┆        ┆           ┆   ┆           ┆           ┆           ┆           │\n",
              "└────────────┴────────────┴────────┴───────────┴───┴───────────┴───────────┴───────────┴───────────┘"
            ],
            "text/html": [
              "<div><style>\n",
              ".dataframe > thead > tr,\n",
              ".dataframe > tbody > tr {\n",
              "  text-align: right;\n",
              "  white-space: pre-wrap;\n",
              "}\n",
              "</style>\n",
              "<small>shape: (10, 54)</small><table border=\"1\" class=\"dataframe\"><thead><tr><th>date_window</th><th>transactions</th><th>frauds</th><th>mean_amount</th><th>median_amount</th><th>std_amount</th><th>skew_amount</th><th>kurtosis_amount</th><th>mean_current_age</th><th>median_current_age</th><th>std_current_age</th><th>skew_current_age</th><th>kurtosis_current_age</th><th>mean_per_capita_income</th><th>median_per_capita_income</th><th>std_per_capita_income</th><th>skew_per_capita_income</th><th>kurtosis_per_capita_income</th><th>mean_total_debt</th><th>median_total_debt</th><th>std_total_debt</th><th>skew_total_debt</th><th>kurtosis_total_debt</th><th>mean_credit_score</th><th>median_credit_score</th><th>std_credit_score</th><th>skew_credit_score</th><th>kurtosis_credit_score</th><th>mean_num_credit_cards</th><th>median_num_credit_cards</th><th>std_num_credit_cards</th><th>skew_num_credit_cards</th><th>kurtosis_num_credit_cards</th><th>mean_credit_limit</th><th>median_credit_limit</th><th>std_credit_limit</th><th>skew_credit_limit</th><th>kurtosis_credit_limit</th><th>use_chip_swipe_transaction</th><th>use_chip_online_transaction</th><th>use_chip_chip_transaction</th><th>gender_female</th><th>gender_male</th><th>card_brand_mastercard</th><th>card_brand_visa</th><th>card_brand_amex</th><th>card_brand_discover</th><th>card_type_debit_(prepaid)</th><th>card_type_debit</th><th>card_type_credit</th><th>has_chip_yes</th><th>has_chip_no</th><th>online_sales_no</th><th>online_sales_yes</th></tr><tr><td>datetime[μs]</td><td>u32</td><td>i32</td><td>f64</td><td>f64</td><td>f64</td><td>f64</td><td>f64</td><td>f64</td><td>f64</td><td>f64</td><td>f64</td><td>f64</td><td>f64</td><td>f64</td><td>f64</td><td>f64</td><td>f64</td><td>f64</td><td>f64</td><td>f64</td><td>f64</td><td>f64</td><td>f64</td><td>f64</td><td>f64</td><td>f64</td><td>f64</td><td>f64</td><td>f64</td><td>f64</td><td>f64</td><td>f64</td><td>f64</td><td>f64</td><td>f64</td><td>f64</td><td>f64</td><td>f64</td><td>f64</td><td>f64</td><td>f64</td><td>f64</td><td>f64</td><td>f64</td><td>f64</td><td>f64</td><td>f64</td><td>f64</td><td>f64</td><td>f64</td><td>f64</td><td>f64</td><td>f64</td></tr></thead><tbody><tr><td>2010-01-01 00:00:00</td><td>6</td><td>0</td><td>15.875</td><td>20.515</td><td>52.737742</td><td>-0.760483</td><td>-0.139116</td><td>46.833333</td><td>48.5</td><td>8.841191</td><td>-1.241314</td><td>0.444023</td><td>21897.166667</td><td>20877.5</td><td>7198.264219</td><td>0.522412</td><td>-0.861983</td><td>93656.666667</td><td>103463.0</td><td>28711.635012</td><td>-1.594374</td><td>0.842529</td><td>763.5</td><td>761.0</td><td>61.29845</td><td>0.001812</td><td>-1.536333</td><td>4.0</td><td>4.5</td><td>1.264911</td><td>-0.649519</td><td>-1.125</td><td>7200.833333</td><td>4594.5</td><td>8439.396078</td><td>0.381076</td><td>-1.520432</td><td>0.83</td><td>0.17</td><td>0.0</td><td>0.33</td><td>0.67</td><td>0.83</td><td>0.17</td><td>0.0</td><td>0.0</td><td>0.5</td><td>0.33</td><td>0.17</td><td>1.0</td><td>0.0</td><td>0.83</td><td>0.17</td></tr><tr><td>2010-01-01 00:15:00</td><td>4</td><td>0</td><td>22.2625</td><td>21.57</td><td>22.245049</td><td>0.012927</td><td>-1.980469</td><td>49.5</td><td>50.5</td><td>16.663333</td><td>-0.134765</td><td>-1.560644</td><td>24534.0</td><td>24325.0</td><td>1301.539345</td><td>0.354425</td><td>-1.461239</td><td>60605.5</td><td>62744.5</td><td>59834.776479</td><td>-0.01997</td><td>-1.967191</td><td>724.5</td><td>732.5</td><td>24.310492</td><td>-0.830693</td><td>-0.974824</td><td>4.25</td><td>4.5</td><td>0.957427</td><td>-0.493382</td><td>-1.371901</td><td>12608.5</td><td>12360.5</td><td>13718.592311</td><td>0.010111</td><td>-1.972188</td><td>1.0</td><td>0.0</td><td>0.0</td><td>0.25</td><td>0.75</td><td>0.25</td><td>0.75</td><td>0.0</td><td>0.0</td><td>0.25</td><td>0.75</td><td>0.0</td><td>0.75</td><td>0.25</td><td>1.0</td><td>0.0</td></tr><tr><td>2010-01-01 00:30:00</td><td>10</td><td>0</td><td>34.644</td><td>37.73</td><td>45.188942</td><td>-0.779579</td><td>0.46044</td><td>48.6</td><td>48.0</td><td>4.993329</td><td>-0.461034</td><td>0.602038</td><td>21695.6</td><td>19148.0</td><td>6709.572916</td><td>0.674351</td><td>-0.812142</td><td>56477.3</td><td>56937.0</td><td>48226.48252</td><td>0.235514</td><td>-1.124026</td><td>700.3</td><td>720.5</td><td>63.4421</td><td>-1.464207</td><td>2.09804</td><td>3.8</td><td>4.0</td><td>1.316561</td><td>-0.541972</td><td>0.607495</td><td>19807.9</td><td>19554.5</td><td>6338.6096</td><td>0.114952</td><td>-1.629159</td><td>0.8</td><td>0.2</td><td>0.0</td><td>0.5</td><td>0.5</td><td>0.8</td><td>0.2</td><td>0.0</td><td>0.0</td><td>0.0</td><td>0.6</td><td>0.4</td><td>1.0</td><td>0.0</td><td>0.8</td><td>0.2</td></tr><tr><td>2010-01-01 00:45:00</td><td>6</td><td>0</td><td>15.388333</td><td>11.185</td><td>14.262798</td><td>0.910151</td><td>-0.471315</td><td>70.5</td><td>68.5</td><td>18.251027</td><td>0.262932</td><td>-1.015413</td><td>19808.166667</td><td>18760.0</td><td>3592.733245</td><td>0.927645</td><td>-0.439468</td><td>40391.666667</td><td>17407.0</td><td>51012.043302</td><td>0.59751</td><td>-1.399093</td><td>772.166667</td><td>774.5</td><td>41.421814</td><td>-0.0949</td><td>-1.491414</td><td>5.333333</td><td>5.5</td><td>1.632993</td><td>-0.279508</td><td>-1.365</td><td>17533.666667</td><td>22097.0</td><td>11039.367893</td><td>-0.713338</td><td>-1.100947</td><td>0.83</td><td>0.17</td><td>0.0</td><td>0.5</td><td>0.5</td><td>0.5</td><td>0.33</td><td>0.17</td><td>0.0</td><td>0.17</td><td>0.67</td><td>0.17</td><td>1.0</td><td>0.0</td><td>0.83</td><td>0.17</td></tr><tr><td>2010-01-01 01:00:00</td><td>6</td><td>0</td><td>101.018333</td><td>82.545</td><td>97.728056</td><td>0.816882</td><td>-0.48396</td><td>54.5</td><td>52.5</td><td>9.648834</td><td>0.573632</td><td>-1.012784</td><td>26342.666667</td><td>23397.5</td><td>15248.228011</td><td>1.251008</td><td>0.412107</td><td>67331.166667</td><td>55213.0</td><td>35267.904737</td><td>0.400987</td><td>-1.525858</td><td>730.333333</td><td>728.0</td><td>83.946809</td><td>0.055991</td><td>-1.513659</td><td>3.833333</td><td>4.5</td><td>1.47196</td><td>-0.519038</td><td>-1.56071</td><td>23233.333333</td><td>15679.5</td><td>20657.262681</td><td>1.339601</td><td>0.337726</td><td>0.5</td><td>0.5</td><td>0.0</td><td>0.67</td><td>0.33</td><td>0.83</td><td>0.17</td><td>0.0</td><td>0.0</td><td>0.0</td><td>0.67</td><td>0.33</td><td>1.0</td><td>0.0</td><td>0.5</td><td>0.5</td></tr><tr><td>2010-01-01 01:15:00</td><td>5</td><td>0</td><td>4.61</td><td>10.34</td><td>53.67871</td><td>-0.468739</td><td>-0.482601</td><td>43.6</td><td>47.0</td><td>7.402702</td><td>-0.754216</td><td>-0.771215</td><td>23935.4</td><td>24115.0</td><td>3065.888664</td><td>0.013807</td><td>-0.528075</td><td>81437.8</td><td>65994.0</td><td>28100.092281</td><td>1.039823</td><td>-0.491354</td><td>754.0</td><td>747.0</td><td>56.178288</td><td>1.098869</td><td>-0.206714</td><td>3.0</td><td>3.0</td><td>1.0</td><td>0.0</td><td>-1.75</td><td>14693.8</td><td>15094.0</td><td>4012.619369</td><td>-0.062165</td><td>-1.724288</td><td>1.0</td><td>0.0</td><td>0.0</td><td>0.8</td><td>0.2</td><td>0.6</td><td>0.4</td><td>0.0</td><td>0.0</td><td>0.0</td><td>0.6</td><td>0.4</td><td>0.8</td><td>0.2</td><td>1.0</td><td>0.0</td></tr><tr><td>2010-01-01 01:30:00</td><td>4</td><td>0</td><td>17.535</td><td>13.425</td><td>17.586155</td><td>0.425266</td><td>-1.453984</td><td>67.0</td><td>63.5</td><td>20.314199</td><td>0.318187</td><td>-1.563732</td><td>25778.5</td><td>27677.5</td><td>6119.646749</td><td>-0.905558</td><td>-0.842706</td><td>30717.5</td><td>26900.0</td><td>34917.933869</td><td>0.121262</td><td>-1.83475</td><td>747.0</td><td>743.5</td><td>52.36411</td><td>0.19568</td><td>-1.262078</td><td>6.25</td><td>6.0</td><td>0.5</td><td>1.154701</td><td>-0.666667</td><td>24618.5</td><td>22170.5</td><td>11453.384085</td><td>0.474271</td><td>-1.360883</td><td>1.0</td><td>0.0</td><td>0.0</td><td>1.0</td><td>0.0</td><td>0.75</td><td>0.0</td><td>0.25</td><td>0.0</td><td>0.0</td><td>0.75</td><td>0.25</td><td>1.0</td><td>0.0</td><td>1.0</td><td>0.0</td></tr><tr><td>2010-01-01 01:45:00</td><td>7</td><td>0</td><td>51.992857</td><td>39.05</td><td>34.98547</td><td>1.019653</td><td>-0.01202</td><td>56.428571</td><td>56.0</td><td>11.544943</td><td>-0.075079</td><td>-1.292404</td><td>25930.0</td><td>23172.0</td><td>12385.902524</td><td>1.407045</td><td>0.814717</td><td>51734.285714</td><td>51741.0</td><td>42299.149521</td><td>0.614604</td><td>-0.406747</td><td>726.285714</td><td>731.0</td><td>37.187427</td><td>-0.51775</td><td>-0.245965</td><td>4.285714</td><td>4.0</td><td>1.704336</td><td>-0.040073</td><td>-1.64781</td><td>21924.571429</td><td>16409.0</td><td>25060.956213</td><td>1.683264</td><td>1.455575</td><td>0.57</td><td>0.43</td><td>0.0</td><td>0.57</td><td>0.43</td><td>0.57</td><td>0.29</td><td>0.14</td><td>0.0</td><td>0.14</td><td>0.71</td><td>0.14</td><td>1.0</td><td>0.0</td><td>0.57</td><td>0.43</td></tr><tr><td>2010-01-01 02:00:00</td><td>9</td><td>0</td><td>45.843333</td><td>6.63</td><td>68.940091</td><td>1.30041</td><td>0.377724</td><td>50.0</td><td>41.0</td><td>21.75431</td><td>1.61035</td><td>1.389957</td><td>26292.888889</td><td>25431.0</td><td>9833.970033</td><td>0.085912</td><td>-1.386506</td><td>100010.666667</td><td>75415.0</td><td>65040.225749</td><td>0.263371</td><td>-0.811614</td><td>727.555556</td><td>737.0</td><td>42.009258</td><td>-1.000527</td><td>0.042923</td><td>3.222222</td><td>3.0</td><td>1.481366</td><td>0.334335</td><td>-0.386717</td><td>19692.888889</td><td>16900.0</td><td>10802.17467</td><td>1.035411</td><td>-0.305904</td><td>1.0</td><td>0.0</td><td>0.0</td><td>0.44</td><td>0.56</td><td>0.44</td><td>0.56</td><td>0.0</td><td>0.0</td><td>0.0</td><td>0.67</td><td>0.33</td><td>1.0</td><td>0.0</td><td>1.0</td><td>0.0</td></tr><tr><td>2010-01-01 02:15:00</td><td>6</td><td>0</td><td>35.681667</td><td>42.3</td><td>27.537275</td><td>-0.289351</td><td>-1.570798</td><td>52.833333</td><td>49.5</td><td>13.556056</td><td>1.354773</td><td>0.540975</td><td>25255.666667</td><td>22606.5</td><td>9920.893239</td><td>0.376074</td><td>-1.370472</td><td>62937.0</td><td>66372.5</td><td>55313.380099</td><td>-0.00461</td><td>-1.55354</td><td>723.833333</td><td>713.5</td><td>37.833407</td><td>1.393735</td><td>0.511141</td><td>3.5</td><td>3.0</td><td>1.378405</td><td>1.003856</td><td>-0.049861</td><td>19874.0</td><td>16996.0</td><td>12746.423702</td><td>1.212342</td><td>0.355504</td><td>0.67</td><td>0.33</td><td>0.0</td><td>0.17</td><td>0.83</td><td>0.67</td><td>0.17</td><td>0.17</td><td>0.0</td><td>0.0</td><td>0.83</td><td>0.17</td><td>1.0</td><td>0.0</td><td>0.67</td><td>0.33</td></tr></tbody></table></div>"
            ]
          },
          "metadata": {},
          "execution_count": 24
        }
      ]
    },
    {
      "cell_type": "code",
      "source": [],
      "metadata": {
        "id": "mxbRaFC-EFOM"
      },
      "id": "mxbRaFC-EFOM",
      "execution_count": 24,
      "outputs": []
    },
    {
      "cell_type": "code",
      "source": [],
      "metadata": {
        "id": "bylyVXWBFVFd"
      },
      "id": "bylyVXWBFVFd",
      "execution_count": 24,
      "outputs": []
    }
  ],
  "metadata": {
    "kernelspec": {
      "display_name": ".venv",
      "language": "python",
      "name": "python3"
    },
    "language_info": {
      "name": "python",
      "version": "3.11.7"
    },
    "colab": {
      "provenance": [],
      "machine_shape": "hm"
    }
  },
  "nbformat": 4,
  "nbformat_minor": 5
}