{
  "cells": [
    {
      "cell_type": "code",
      "execution_count": 4,
      "id": "de222694",
      "metadata": {
        "id": "de222694"
      },
      "outputs": [],
      "source": [
        "import os\n",
        "import shutil\n",
        "import polars as pl\n",
        "from datetime import datetime, timedelta"
      ]
    },
    {
      "cell_type": "code",
      "execution_count": 2,
      "id": "6f6f5808",
      "metadata": {
        "id": "6f6f5808",
        "outputId": "94911fb5-512c-4f66-ad3d-e856201154db",
        "colab": {
          "base_uri": "https://localhost:8080/"
        }
      },
      "outputs": [
        {
          "output_type": "stream",
          "name": "stdout",
          "text": [
            "Mounted at /content/drive\n"
          ]
        }
      ],
      "source": [
        "if 'google.colab' in str(get_ipython()):\n",
        "  from google.colab import drive\n",
        "\n",
        "  os.makedirs('./datasets', exist_ok=True)\n",
        "  drive.mount('/content/drive')\n",
        "\n",
        "  shutil.copy('/content/drive/MyDrive/DataScience/Analytics/Estudo Fraude/df_train_test.parquet','/content/datasets/')\n",
        "  shutil.copy('/content/drive/MyDrive/DataScience/Analytics/Estudo Fraude/df_validation.parquet','/content/datasets/')"
      ]
    },
    {
      "cell_type": "code",
      "source": [
        "df = pl.concat([pl.read_parquet('./datasets/df_train_test.parquet'), pl.read_parquet('./datasets/df_validation.parquet')])\n",
        "df.head()"
      ],
      "metadata": {
        "id": "A5HygZAqanA2",
        "outputId": "9cbd468f-d16f-4de1-c613-7ba01a991036",
        "colab": {
          "base_uri": "https://localhost:8080/",
          "height": 483
        }
      },
      "id": "A5HygZAqanA2",
      "execution_count": 3,
      "outputs": [
        {
          "output_type": "execute_result",
          "data": {
            "text/plain": [
              "shape: (5, 38)\n",
              "┌─────────┬────────────┬───────────┬─────────┬───┬────────────┬────────────┬───────────┬───────────┐\n",
              "│ id      ┆ date       ┆ client_id ┆ card_id ┆ … ┆ credit_lim ┆ acct_open_ ┆ year_pin_ ┆ card_on_d │\n",
              "│ ---     ┆ ---        ┆ ---       ┆ ---     ┆   ┆ it         ┆ date       ┆ last_chan ┆ ark_web   │\n",
              "│ i64     ┆ datetime[n ┆ i64       ┆ i64     ┆   ┆ ---        ┆ ---        ┆ ged       ┆ ---       │\n",
              "│         ┆ s]         ┆           ┆         ┆   ┆ f64        ┆ str        ┆ ---       ┆ str       │\n",
              "│         ┆            ┆           ┆         ┆   ┆            ┆            ┆ i64       ┆           │\n",
              "╞═════════╪════════════╪═══════════╪═════════╪═══╪════════════╪════════════╪═══════════╪═══════════╡\n",
              "│ 7475327 ┆ 2010-01-01 ┆ 1556      ┆ 2972    ┆ … ┆ 55.0       ┆ 05/2008    ┆ 2008      ┆ No        │\n",
              "│         ┆ 00:01:00   ┆           ┆         ┆   ┆            ┆            ┆           ┆           │\n",
              "│ 7475328 ┆ 2010-01-01 ┆ 561       ┆ 4575    ┆ … ┆ 9100.0     ┆ 09/2005    ┆ 2015      ┆ No        │\n",
              "│         ┆ 00:02:00   ┆           ┆         ┆   ┆            ┆            ┆           ┆           │\n",
              "│ 7475329 ┆ 2010-01-01 ┆ 1129      ┆ 102     ┆ … ┆ 14802.0    ┆ 01/2006    ┆ 2008      ┆ No        │\n",
              "│         ┆ 00:02:00   ┆           ┆         ┆   ┆            ┆            ┆           ┆           │\n",
              "│ 7475332 ┆ 2010-01-01 ┆ 848       ┆ 3915    ┆ … ┆ 19113.0    ┆ 07/2009    ┆ 2014      ┆ No        │\n",
              "│         ┆ 00:06:00   ┆           ┆         ┆   ┆            ┆            ┆           ┆           │\n",
              "│ 7475333 ┆ 2010-01-01 ┆ 1807      ┆ 165     ┆ … ┆ 89.0       ┆ 01/2008    ┆ 2015      ┆ No        │\n",
              "│         ┆ 00:07:00   ┆           ┆         ┆   ┆            ┆            ┆           ┆           │\n",
              "└─────────┴────────────┴───────────┴─────────┴───┴────────────┴────────────┴───────────┴───────────┘"
            ],
            "text/html": [
              "<div><style>\n",
              ".dataframe > thead > tr,\n",
              ".dataframe > tbody > tr {\n",
              "  text-align: right;\n",
              "  white-space: pre-wrap;\n",
              "}\n",
              "</style>\n",
              "<small>shape: (5, 38)</small><table border=\"1\" class=\"dataframe\"><thead><tr><th>id</th><th>date</th><th>client_id</th><th>card_id</th><th>amount</th><th>use_chip</th><th>merchant_id</th><th>merchant_city</th><th>merchant_state</th><th>zip</th><th>mcc</th><th>errors</th><th>description</th><th>target</th><th>current_age</th><th>retirement_age</th><th>birth_year</th><th>birth_month</th><th>gender</th><th>address</th><th>latitude</th><th>longitude</th><th>per_capita_income</th><th>yearly_income</th><th>total_debt</th><th>credit_score</th><th>num_credit_cards</th><th>card_brand</th><th>card_type</th><th>card_number</th><th>expires</th><th>cvv</th><th>has_chip</th><th>num_cards_issued</th><th>credit_limit</th><th>acct_open_date</th><th>year_pin_last_changed</th><th>card_on_dark_web</th></tr><tr><td>i64</td><td>datetime[ns]</td><td>i64</td><td>i64</td><td>f64</td><td>str</td><td>i64</td><td>str</td><td>str</td><td>f64</td><td>str</td><td>str</td><td>str</td><td>str</td><td>i64</td><td>i64</td><td>i64</td><td>i64</td><td>str</td><td>str</td><td>f64</td><td>f64</td><td>f64</td><td>f64</td><td>f64</td><td>i64</td><td>i64</td><td>str</td><td>str</td><td>i64</td><td>str</td><td>i64</td><td>str</td><td>i64</td><td>f64</td><td>str</td><td>i64</td><td>str</td></tr></thead><tbody><tr><td>7475327</td><td>2010-01-01 00:01:00</td><td>1556</td><td>2972</td><td>-77.0</td><td>&quot;Swipe Transaction&quot;</td><td>59935</td><td>&quot;Beulah&quot;</td><td>&quot;ND&quot;</td><td>58523.0</td><td>&quot;5499&quot;</td><td>null</td><td>&quot;Miscellaneous Food Stores&quot;</td><td>&quot;No&quot;</td><td>30</td><td>67</td><td>1989</td><td>7</td><td>&quot;Female&quot;</td><td>&quot;594 Mountain View Street&quot;</td><td>46.8</td><td>-100.76</td><td>23679.0</td><td>48277.0</td><td>110153.0</td><td>740</td><td>4</td><td>&quot;Mastercard&quot;</td><td>&quot;Debit (Prepaid)&quot;</td><td>5497590243197280</td><td>&quot;07/2022&quot;</td><td>306</td><td>&quot;YES&quot;</td><td>2</td><td>55.0</td><td>&quot;05/2008&quot;</td><td>2008</td><td>&quot;No&quot;</td></tr><tr><td>7475328</td><td>2010-01-01 00:02:00</td><td>561</td><td>4575</td><td>14.57</td><td>&quot;Swipe Transaction&quot;</td><td>67570</td><td>&quot;Bettendorf&quot;</td><td>&quot;IA&quot;</td><td>52722.0</td><td>&quot;5311&quot;</td><td>null</td><td>&quot;Department Stores&quot;</td><td>&quot;No&quot;</td><td>48</td><td>67</td><td>1971</td><td>6</td><td>&quot;Male&quot;</td><td>&quot;604 Pine Street&quot;</td><td>40.8</td><td>-91.12</td><td>18076.0</td><td>36853.0</td><td>112139.0</td><td>834</td><td>5</td><td>&quot;Mastercard&quot;</td><td>&quot;Credit&quot;</td><td>5175842699412235</td><td>&quot;12/2024&quot;</td><td>438</td><td>&quot;YES&quot;</td><td>1</td><td>9100.0</td><td>&quot;09/2005&quot;</td><td>2015</td><td>&quot;No&quot;</td></tr><tr><td>7475329</td><td>2010-01-01 00:02:00</td><td>1129</td><td>102</td><td>80.0</td><td>&quot;Swipe Transaction&quot;</td><td>27092</td><td>&quot;Vista&quot;</td><td>&quot;CA&quot;</td><td>92084.0</td><td>&quot;4829&quot;</td><td>null</td><td>&quot;Money Transfer&quot;</td><td>&quot;No&quot;</td><td>49</td><td>65</td><td>1970</td><td>4</td><td>&quot;Male&quot;</td><td>&quot;2379 Forest Lane&quot;</td><td>33.18</td><td>-117.29</td><td>16894.0</td><td>34449.0</td><td>36540.0</td><td>686</td><td>3</td><td>&quot;Mastercard&quot;</td><td>&quot;Debit&quot;</td><td>5874992802287595</td><td>&quot;05/2020&quot;</td><td>256</td><td>&quot;YES&quot;</td><td>1</td><td>14802.0</td><td>&quot;01/2006&quot;</td><td>2008</td><td>&quot;No&quot;</td></tr><tr><td>7475332</td><td>2010-01-01 00:06:00</td><td>848</td><td>3915</td><td>46.41</td><td>&quot;Swipe Transaction&quot;</td><td>13051</td><td>&quot;Harwood&quot;</td><td>&quot;MD&quot;</td><td>20776.0</td><td>&quot;5813&quot;</td><td>null</td><td>&quot;Drinking Places (Alcoholic Bev…</td><td>&quot;No&quot;</td><td>51</td><td>69</td><td>1968</td><td>5</td><td>&quot;Male&quot;</td><td>&quot;166 River Drive&quot;</td><td>38.86</td><td>-76.6</td><td>33529.0</td><td>68362.0</td><td>96182.0</td><td>711</td><td>2</td><td>&quot;Visa&quot;</td><td>&quot;Debit&quot;</td><td>4354185735186651</td><td>&quot;01/2020&quot;</td><td>120</td><td>&quot;YES&quot;</td><td>1</td><td>19113.0</td><td>&quot;07/2009&quot;</td><td>2014</td><td>&quot;No&quot;</td></tr><tr><td>7475333</td><td>2010-01-01 00:07:00</td><td>1807</td><td>165</td><td>4.81</td><td>&quot;Swipe Transaction&quot;</td><td>20519</td><td>&quot;Bronx&quot;</td><td>&quot;NY&quot;</td><td>10464.0</td><td>&quot;5942&quot;</td><td>null</td><td>&quot;Book Stores&quot;</td><td>&quot;No&quot;</td><td>47</td><td>65</td><td>1972</td><td>12</td><td>&quot;Female&quot;</td><td>&quot;14780 Plum Lane&quot;</td><td>40.84</td><td>-73.87</td><td>25537.0</td><td>52065.0</td><td>98613.0</td><td>828</td><td>5</td><td>&quot;Mastercard&quot;</td><td>&quot;Debit (Prepaid)&quot;</td><td>5207231566469664</td><td>&quot;03/2014&quot;</td><td>198</td><td>&quot;YES&quot;</td><td>1</td><td>89.0</td><td>&quot;01/2008&quot;</td><td>2015</td><td>&quot;No&quot;</td></tr></tbody></table></div>"
            ]
          },
          "metadata": {},
          "execution_count": 3
        }
      ]
    },
    {
      "cell_type": "code",
      "source": [
        "def floor_to_15min(dt_value: datetime) -> datetime|None:\n",
        "    if dt_value is None:\n",
        "        return None\n",
        "\n",
        "    seconds_since_midnight = (dt_value - dt_value.replace(hour=0, minute=0, second=0, microsecond=0)).total_seconds()\n",
        "    interval_seconds = 15 * 60\n",
        "    floored_seconds = (seconds_since_midnight // interval_seconds) * interval_seconds\n",
        "    return dt_value.replace(hour=0, minute=0, second=0, microsecond=0) + timedelta(seconds=floored_seconds)"
      ],
      "metadata": {
        "id": "XhvCN1WwmKfm"
      },
      "id": "XhvCN1WwmKfm",
      "execution_count": 5,
      "outputs": []
    },
    {
      "cell_type": "code",
      "source": [
        "df = df.with_columns(\n",
        "    pl.col(\"date\").map_elements(floor_to_15min, return_dtype=pl.Datetime).alias(\"date_window\")\n",
        ")"
      ],
      "metadata": {
        "id": "NoAi0UNsbdvm"
      },
      "id": "NoAi0UNsbdvm",
      "execution_count": 21,
      "outputs": []
    },
    {
      "cell_type": "code",
      "source": [
        "def generate_columns_statistics(column_name: str) -> list:\n",
        "    return [\n",
        "        pl.col(column_name).mean().alias(f'mean_{column_name}'),\n",
        "        pl.col(column_name).std().alias(f'std_{column_name}'),\n",
        "        pl.col(column_name).skew().alias(f'skew_{column_name}'),\n",
        "        pl.col(column_name).kurtosis().alias(f'kurtosis_{column_name}')\n",
        "    ]"
      ],
      "metadata": {
        "id": "laLJmJHJrJkn"
      },
      "id": "laLJmJHJrJkn",
      "execution_count": 23,
      "outputs": []
    },
    {
      "cell_type": "code",
      "source": [
        "aggregate = [pl.col('amount').count().alias('transactions')]\n",
        "for column in ['amount', 'current_age']:\n",
        "  aggregate.extend(generate_columns_statistics(column))\n",
        "aggregate.append(pl.col('target').sum().alias('target'))"
      ],
      "metadata": {
        "id": "YkYWiYk-rjS3"
      },
      "id": "YkYWiYk-rjS3",
      "execution_count": 34,
      "outputs": []
    },
    {
      "cell_type": "code",
      "source": [
        "df = df.with_columns(\n",
        "    pl.when(pl.col('target') == 'Yes').then(1).otherwise(0).alias('target')\n",
        ")"
      ],
      "metadata": {
        "id": "bpv633xK48i_"
      },
      "id": "bpv633xK48i_",
      "execution_count": 61,
      "outputs": []
    },
    {
      "cell_type": "code",
      "source": [
        "df_model = df.group_by('date_window').agg(\n",
        "    *aggregate\n",
        ").sort('date_window')\n",
        "df_model.head()"
      ],
      "metadata": {
        "id": "KnwKfEUihpoW",
        "outputId": "c9952594-e724-429d-e04e-894fa1801bc4",
        "colab": {
          "base_uri": "https://localhost:8080/",
          "height": 255
        }
      },
      "id": "KnwKfEUihpoW",
      "execution_count": 62,
      "outputs": [
        {
          "output_type": "execute_result",
          "data": {
            "text/plain": [
              "shape: (5, 11)\n",
              "┌────────────┬────────────┬───────────┬───────────┬───┬───────────┬───────────┬───────────┬────────┐\n",
              "│ date_windo ┆ transactio ┆ mean_amou ┆ std_amoun ┆ … ┆ std_curre ┆ skew_curr ┆ kurtosis_ ┆ target │\n",
              "│ w          ┆ ns         ┆ nt        ┆ t         ┆   ┆ nt_age    ┆ ent_age   ┆ current_a ┆ ---    │\n",
              "│ ---        ┆ ---        ┆ ---       ┆ ---       ┆   ┆ ---       ┆ ---       ┆ ge        ┆ i32    │\n",
              "│ datetime[μ ┆ u32        ┆ f64       ┆ f64       ┆   ┆ f64       ┆ f64       ┆ ---       ┆        │\n",
              "│ s]         ┆            ┆           ┆           ┆   ┆           ┆           ┆ f64       ┆        │\n",
              "╞════════════╪════════════╪═══════════╪═══════════╪═══╪═══════════╪═══════════╪═══════════╪════════╡\n",
              "│ 2010-01-01 ┆ 6          ┆ 15.875    ┆ 52.737742 ┆ … ┆ 8.841191  ┆ -1.241314 ┆ 0.444023  ┆ 0      │\n",
              "│ 00:00:00   ┆            ┆           ┆           ┆   ┆           ┆           ┆           ┆        │\n",
              "│ 2010-01-01 ┆ 4          ┆ 22.2625   ┆ 22.245049 ┆ … ┆ 16.663333 ┆ -0.134765 ┆ -1.560644 ┆ 0      │\n",
              "│ 00:15:00   ┆            ┆           ┆           ┆   ┆           ┆           ┆           ┆        │\n",
              "│ 2010-01-01 ┆ 10         ┆ 34.644    ┆ 45.188942 ┆ … ┆ 4.993329  ┆ -0.461034 ┆ 0.602038  ┆ 0      │\n",
              "│ 00:30:00   ┆            ┆           ┆           ┆   ┆           ┆           ┆           ┆        │\n",
              "│ 2010-01-01 ┆ 6          ┆ 15.388333 ┆ 14.262798 ┆ … ┆ 18.251027 ┆ 0.262932  ┆ -1.015413 ┆ 0      │\n",
              "│ 00:45:00   ┆            ┆           ┆           ┆   ┆           ┆           ┆           ┆        │\n",
              "│ 2010-01-01 ┆ 6          ┆ 101.01833 ┆ 97.728056 ┆ … ┆ 9.648834  ┆ 0.573632  ┆ -1.012784 ┆ 0      │\n",
              "│ 01:00:00   ┆            ┆ 3         ┆           ┆   ┆           ┆           ┆           ┆        │\n",
              "└────────────┴────────────┴───────────┴───────────┴───┴───────────┴───────────┴───────────┴────────┘"
            ],
            "text/html": [
              "<div><style>\n",
              ".dataframe > thead > tr,\n",
              ".dataframe > tbody > tr {\n",
              "  text-align: right;\n",
              "  white-space: pre-wrap;\n",
              "}\n",
              "</style>\n",
              "<small>shape: (5, 11)</small><table border=\"1\" class=\"dataframe\"><thead><tr><th>date_window</th><th>transactions</th><th>mean_amount</th><th>std_amount</th><th>skew_amount</th><th>kurtosis_amount</th><th>mean_current_age</th><th>std_current_age</th><th>skew_current_age</th><th>kurtosis_current_age</th><th>target</th></tr><tr><td>datetime[μs]</td><td>u32</td><td>f64</td><td>f64</td><td>f64</td><td>f64</td><td>f64</td><td>f64</td><td>f64</td><td>f64</td><td>i32</td></tr></thead><tbody><tr><td>2010-01-01 00:00:00</td><td>6</td><td>15.875</td><td>52.737742</td><td>-0.760483</td><td>-0.139116</td><td>46.833333</td><td>8.841191</td><td>-1.241314</td><td>0.444023</td><td>0</td></tr><tr><td>2010-01-01 00:15:00</td><td>4</td><td>22.2625</td><td>22.245049</td><td>0.012927</td><td>-1.980469</td><td>49.5</td><td>16.663333</td><td>-0.134765</td><td>-1.560644</td><td>0</td></tr><tr><td>2010-01-01 00:30:00</td><td>10</td><td>34.644</td><td>45.188942</td><td>-0.779579</td><td>0.46044</td><td>48.6</td><td>4.993329</td><td>-0.461034</td><td>0.602038</td><td>0</td></tr><tr><td>2010-01-01 00:45:00</td><td>6</td><td>15.388333</td><td>14.262798</td><td>0.910151</td><td>-0.471315</td><td>70.5</td><td>18.251027</td><td>0.262932</td><td>-1.015413</td><td>0</td></tr><tr><td>2010-01-01 01:00:00</td><td>6</td><td>101.018333</td><td>97.728056</td><td>0.816882</td><td>-0.48396</td><td>54.5</td><td>9.648834</td><td>0.573632</td><td>-1.012784</td><td>0</td></tr></tbody></table></div>"
            ]
          },
          "metadata": {},
          "execution_count": 62
        }
      ]
    },
    {
      "cell_type": "code",
      "source": [
        "df_model['target'].value_counts()"
      ],
      "metadata": {
        "id": "I2gMeKEV5Uzo",
        "outputId": "35ac5bc6-5903-4e44-9c50-edaaf7581070",
        "colab": {
          "base_uri": "https://localhost:8080/",
          "height": 286
        }
      },
      "id": "I2gMeKEV5Uzo",
      "execution_count": 63,
      "outputs": [
        {
          "output_type": "execute_result",
          "data": {
            "text/plain": [
              "shape: (6, 2)\n",
              "┌────────┬────────┐\n",
              "│ target ┆ count  │\n",
              "│ ---    ┆ ---    │\n",
              "│ i32    ┆ u32    │\n",
              "╞════════╪════════╡\n",
              "│ 5      ┆ 4      │\n",
              "│ 2      ┆ 1713   │\n",
              "│ 3      ┆ 234    │\n",
              "│ 1      ┆ 9012   │\n",
              "│ 4      ┆ 43     │\n",
              "│ 0      ┆ 333185 │\n",
              "└────────┴────────┘"
            ],
            "text/html": [
              "<div><style>\n",
              ".dataframe > thead > tr,\n",
              ".dataframe > tbody > tr {\n",
              "  text-align: right;\n",
              "  white-space: pre-wrap;\n",
              "}\n",
              "</style>\n",
              "<small>shape: (6, 2)</small><table border=\"1\" class=\"dataframe\"><thead><tr><th>target</th><th>count</th></tr><tr><td>i32</td><td>u32</td></tr></thead><tbody><tr><td>5</td><td>4</td></tr><tr><td>2</td><td>1713</td></tr><tr><td>3</td><td>234</td></tr><tr><td>1</td><td>9012</td></tr><tr><td>4</td><td>43</td></tr><tr><td>0</td><td>333185</td></tr></tbody></table></div>"
            ]
          },
          "metadata": {},
          "execution_count": 63
        }
      ]
    },
    {
      "cell_type": "code",
      "source": [
        "df_model.shape"
      ],
      "metadata": {
        "id": "Ob2kkgLCm0XG",
        "outputId": "f444c60a-5fab-4957-f0c6-cc70c4023423",
        "colab": {
          "base_uri": "https://localhost:8080/"
        }
      },
      "id": "Ob2kkgLCm0XG",
      "execution_count": 28,
      "outputs": [
        {
          "output_type": "execute_result",
          "data": {
            "text/plain": [
              "(344191, 10)"
            ]
          },
          "metadata": {},
          "execution_count": 28
        }
      ]
    },
    {
      "cell_type": "code",
      "source": [],
      "metadata": {
        "id": "SNS_e7GUueBG"
      },
      "id": "SNS_e7GUueBG",
      "execution_count": null,
      "outputs": []
    }
  ],
  "metadata": {
    "kernelspec": {
      "display_name": ".venv",
      "language": "python",
      "name": "python3"
    },
    "language_info": {
      "name": "python",
      "version": "3.11.7"
    },
    "colab": {
      "provenance": []
    }
  },
  "nbformat": 4,
  "nbformat_minor": 5
}