{
 "cells": [
  {
   "cell_type": "markdown",
   "metadata": {},
   "source": [
    "https://www.kaggle.com/datasets/computingvictor/transactions-fraud-datasets"
   ]
  },
  {
   "cell_type": "markdown",
   "metadata": {},
   "source": [
    "## Importação de bibliotecas"
   ]
  },
  {
   "cell_type": "code",
   "execution_count": 1,
   "metadata": {},
   "outputs": [
    {
     "name": "stderr",
     "output_type": "stream",
     "text": [
      "c:\\Repositorios\\Particular\\analise_fraude\\.venv\\Lib\\site-packages\\tqdm\\auto.py:21: TqdmWarning: IProgress not found. Please update jupyter and ipywidgets. See https://ipywidgets.readthedocs.io/en/stable/user_install.html\n",
      "  from .autonotebook import tqdm as notebook_tqdm\n"
     ]
    }
   ],
   "source": [
    "import os\n",
    "import json\n",
    "import kagglehub\n",
    "import pandas as pd\n",
    "from shutil import move"
   ]
  },
  {
   "cell_type": "markdown",
   "metadata": {},
   "source": [
    "## Carregamento de dados"
   ]
  },
  {
   "cell_type": "code",
   "execution_count": 2,
   "metadata": {},
   "outputs": [],
   "source": [
    "FILE_PATH = './data/'"
   ]
  },
  {
   "cell_type": "code",
   "execution_count": 3,
   "metadata": {},
   "outputs": [],
   "source": [
    "DATASET_PATH = './datasets/'"
   ]
  },
  {
   "cell_type": "code",
   "execution_count": 4,
   "metadata": {},
   "outputs": [
    {
     "name": "stdout",
     "output_type": "stream",
     "text": [
      "Path to dataset files: C:\\Users\\guilherme.fernando\\.cache\\kagglehub\\datasets\\computingvictor\\transactions-fraud-datasets\\versions\\1\n"
     ]
    }
   ],
   "source": [
    "path = kagglehub.dataset_download(\"computingvictor/transactions-fraud-datasets\")\n",
    "\n",
    "print(\"Path to dataset files:\", path)"
   ]
  },
  {
   "cell_type": "code",
   "execution_count": 5,
   "metadata": {},
   "outputs": [
    {
     "name": "stdout",
     "output_type": "stream",
     "text": [
      "Pasta já existe\n"
     ]
    }
   ],
   "source": [
    "if os.path.exists(DATASET_PATH):\n",
    "    print('Pasta já existe')\n",
    "else:\n",
    "    os.mkdir(DATASET_PATH)"
   ]
  },
  {
   "cell_type": "code",
   "execution_count": 6,
   "metadata": {},
   "outputs": [
    {
     "name": "stdout",
     "output_type": "stream",
     "text": [
      "Pasta já existe\n"
     ]
    }
   ],
   "source": [
    "if os.path.exists(FILE_PATH):\n",
    "    print('Pasta já existe')\n",
    "else:\n",
    "    os.mkdir(FILE_PATH)"
   ]
  },
  {
   "cell_type": "code",
   "execution_count": 7,
   "metadata": {},
   "outputs": [],
   "source": [
    "for file in os.listdir(path):\n",
    "    file_path = os.path.join(path, file)\n",
    "    move(file_path, FILE_PATH)"
   ]
  },
  {
   "cell_type": "code",
   "execution_count": 8,
   "metadata": {},
   "outputs": [
    {
     "data": {
      "text/plain": [
       "['cards_data.csv',\n",
       " 'mcc_codes.json',\n",
       " 'train_fraud_labels.json',\n",
       " 'transactions_data.csv',\n",
       " 'users_data.csv']"
      ]
     },
     "execution_count": 8,
     "metadata": {},
     "output_type": "execute_result"
    }
   ],
   "source": [
    "os.listdir(FILE_PATH)"
   ]
  },
  {
   "cell_type": "code",
   "execution_count": 9,
   "metadata": {},
   "outputs": [
    {
     "data": {
      "text/html": [
       "<div>\n",
       "<style scoped>\n",
       "    .dataframe tbody tr th:only-of-type {\n",
       "        vertical-align: middle;\n",
       "    }\n",
       "\n",
       "    .dataframe tbody tr th {\n",
       "        vertical-align: top;\n",
       "    }\n",
       "\n",
       "    .dataframe thead th {\n",
       "        text-align: right;\n",
       "    }\n",
       "</style>\n",
       "<table border=\"1\" class=\"dataframe\">\n",
       "  <thead>\n",
       "    <tr style=\"text-align: right;\">\n",
       "      <th></th>\n",
       "      <th>id</th>\n",
       "      <th>date</th>\n",
       "      <th>client_id</th>\n",
       "      <th>card_id</th>\n",
       "      <th>amount</th>\n",
       "      <th>use_chip</th>\n",
       "      <th>merchant_id</th>\n",
       "      <th>merchant_city</th>\n",
       "      <th>merchant_state</th>\n",
       "      <th>zip</th>\n",
       "      <th>mcc</th>\n",
       "      <th>errors</th>\n",
       "    </tr>\n",
       "  </thead>\n",
       "  <tbody>\n",
       "    <tr>\n",
       "      <th>0</th>\n",
       "      <td>7475327</td>\n",
       "      <td>2010-01-01 00:01:00</td>\n",
       "      <td>1556</td>\n",
       "      <td>2972</td>\n",
       "      <td>$-77.00</td>\n",
       "      <td>Swipe Transaction</td>\n",
       "      <td>59935</td>\n",
       "      <td>Beulah</td>\n",
       "      <td>ND</td>\n",
       "      <td>58523.0</td>\n",
       "      <td>5499</td>\n",
       "      <td>NaN</td>\n",
       "    </tr>\n",
       "    <tr>\n",
       "      <th>1</th>\n",
       "      <td>7475328</td>\n",
       "      <td>2010-01-01 00:02:00</td>\n",
       "      <td>561</td>\n",
       "      <td>4575</td>\n",
       "      <td>$14.57</td>\n",
       "      <td>Swipe Transaction</td>\n",
       "      <td>67570</td>\n",
       "      <td>Bettendorf</td>\n",
       "      <td>IA</td>\n",
       "      <td>52722.0</td>\n",
       "      <td>5311</td>\n",
       "      <td>NaN</td>\n",
       "    </tr>\n",
       "    <tr>\n",
       "      <th>2</th>\n",
       "      <td>7475329</td>\n",
       "      <td>2010-01-01 00:02:00</td>\n",
       "      <td>1129</td>\n",
       "      <td>102</td>\n",
       "      <td>$80.00</td>\n",
       "      <td>Swipe Transaction</td>\n",
       "      <td>27092</td>\n",
       "      <td>Vista</td>\n",
       "      <td>CA</td>\n",
       "      <td>92084.0</td>\n",
       "      <td>4829</td>\n",
       "      <td>NaN</td>\n",
       "    </tr>\n",
       "    <tr>\n",
       "      <th>3</th>\n",
       "      <td>7475331</td>\n",
       "      <td>2010-01-01 00:05:00</td>\n",
       "      <td>430</td>\n",
       "      <td>2860</td>\n",
       "      <td>$200.00</td>\n",
       "      <td>Swipe Transaction</td>\n",
       "      <td>27092</td>\n",
       "      <td>Crown Point</td>\n",
       "      <td>IN</td>\n",
       "      <td>46307.0</td>\n",
       "      <td>4829</td>\n",
       "      <td>NaN</td>\n",
       "    </tr>\n",
       "    <tr>\n",
       "      <th>4</th>\n",
       "      <td>7475332</td>\n",
       "      <td>2010-01-01 00:06:00</td>\n",
       "      <td>848</td>\n",
       "      <td>3915</td>\n",
       "      <td>$46.41</td>\n",
       "      <td>Swipe Transaction</td>\n",
       "      <td>13051</td>\n",
       "      <td>Harwood</td>\n",
       "      <td>MD</td>\n",
       "      <td>20776.0</td>\n",
       "      <td>5813</td>\n",
       "      <td>NaN</td>\n",
       "    </tr>\n",
       "  </tbody>\n",
       "</table>\n",
       "</div>"
      ],
      "text/plain": [
       "        id                 date  client_id  card_id   amount  \\\n",
       "0  7475327  2010-01-01 00:01:00       1556     2972  $-77.00   \n",
       "1  7475328  2010-01-01 00:02:00        561     4575   $14.57   \n",
       "2  7475329  2010-01-01 00:02:00       1129      102   $80.00   \n",
       "3  7475331  2010-01-01 00:05:00        430     2860  $200.00   \n",
       "4  7475332  2010-01-01 00:06:00        848     3915   $46.41   \n",
       "\n",
       "            use_chip  merchant_id merchant_city merchant_state      zip   mcc  \\\n",
       "0  Swipe Transaction        59935        Beulah             ND  58523.0  5499   \n",
       "1  Swipe Transaction        67570    Bettendorf             IA  52722.0  5311   \n",
       "2  Swipe Transaction        27092         Vista             CA  92084.0  4829   \n",
       "3  Swipe Transaction        27092   Crown Point             IN  46307.0  4829   \n",
       "4  Swipe Transaction        13051       Harwood             MD  20776.0  5813   \n",
       "\n",
       "  errors  \n",
       "0    NaN  \n",
       "1    NaN  \n",
       "2    NaN  \n",
       "3    NaN  \n",
       "4    NaN  "
      ]
     },
     "execution_count": 9,
     "metadata": {},
     "output_type": "execute_result"
    }
   ],
   "source": [
    "df_transaction = pd.read_csv(FILE_PATH + '/transactions_data.csv')\n",
    "df_transaction.head()"
   ]
  },
  {
   "cell_type": "code",
   "execution_count": 10,
   "metadata": {},
   "outputs": [
    {
     "name": "stdout",
     "output_type": "stream",
     "text": [
      "{'5812': 'Eating Places and Restaurants', '5541': 'Service Stations', '7996': 'Amusement Parks, Carnivals, Circuses', '5411': 'Grocery Stores, Supermarkets', '4784': 'Tolls and Bridge Fees', '4900': 'Utilities - Electric, Gas, Water, Sanitary', '5942': 'Book Stores', '5814': 'Fast Food Restaurants', '4829': 'Money Transfer', '5311': 'Department Stores', '5211': 'Lumber and Building Materials', '5310': 'Discount Stores', '3780': 'Computer Network Services', '5499': 'Miscellaneous Food Stores', '4121': 'Taxicabs and Limousines', '5300': 'Wholesale Clubs', '5719': 'Miscellaneous Home Furnishing Stores', '7832': 'Motion Picture Theaters', '5813': 'Drinking Places (Alcoholic Beverages)', '4814': 'Telecommunication Services', '5661': 'Shoe Stores', '5977': 'Cosmetic Stores', '8099': 'Medical Services', '7538': 'Automotive Service Shops', '5912': 'Drug Stores and Pharmacies', '4111': 'Local and Suburban Commuter Transportation', '5815': 'Digital Goods - Media, Books, Apps', '8021': 'Dentists and Orthodontists', '5921': 'Package Stores, Beer, Wine, Liquor', '5655': 'Sports Apparel, Riding Apparel Stores', '7230': 'Beauty and Barber Shops', '3390': 'Miscellaneous Metalwork', '7922': 'Theatrical Producers', '3722': 'Passenger Railways', '5651': 'Family Clothing Stores', '4899': 'Cable, Satellite, and Other Pay Television Services', '5251': 'Hardware Stores', '7995': 'Betting (including Lottery Tickets, Casinos)', '3596': 'Miscellaneous Machinery and Parts Manufacturing', '3730': 'Ship Chandlers', '9402': 'Postal Services - Government Only', '7801': 'Athletic Fields, Commercial Sports', '5970': 'Artist Supply Stores, Craft Shops', '5932': 'Antique Shops', '5621': \"Women's Ready-To-Wear Stores\", '7349': 'Cleaning and Maintenance Services', '4722': 'Travel Agencies', '5193': 'Florists Supplies, Nursery Stock and Flowers', '3775': 'Railroad Freight', '3684': 'Semiconductors and Related Devices', '5045': 'Computers, Computer Peripheral Equipment', '3504': 'Gardening Supplies', '7011': 'Lodging - Hotels, Motels, Resorts', '8041': 'Chiropractors', '4214': 'Motor Freight Carriers and Trucking', '6300': 'Insurance Sales, Underwriting', '8011': 'Doctors, Physicians', '3509': 'Industrial Equipment and Supplies', '7210': 'Laundry Services', '5192': 'Books, Periodicals, Newspapers', '7542': 'Car Washes', '3640': 'Lighting, Fixtures, Electrical Supplies', '7393': 'Detective Agencies, Security Services', '8111': 'Legal Services and Attorneys', '3771': 'Railroad Passenger Transport', '5732': 'Electronics Stores', '5094': 'Precious Stones and Metals', '5712': 'Furniture, Home Furnishings, and Equipment Stores', '5816': 'Digital Goods - Games', '7802': 'Recreational Sports, Clubs', '3389': 'Non-Precious Metal Services', '8043': 'Optometrists, Optical Goods and Eyeglasses', '3393': 'Heat Treating Metal Services', '3174': 'Upholstery and Drapery Stores', '3001': 'Steel Products Manufacturing', '3395': 'Welding Repair', '3058': 'Tools, Parts, Supplies Manufacturing', '8049': 'Podiatrists', '3387': 'Electroplating, Plating, Polishing Services', '4112': 'Passenger Railways', '3405': 'Ironwork', '5261': 'Lawn and Garden Supply Stores', '3144': 'Floor Covering Stores', '3132': 'Leather Goods', '3359': 'Non-Ferrous Metal Foundries', '8931': 'Accounting, Auditing, and Bookkeeping Services', '8062': 'Hospitals', '7276': 'Tax Preparation Services', '4131': 'Bus Lines', '3260': 'Pottery and Ceramics', '3256': 'Brick, Stone, and Related Materials', '3006': 'Miscellaneous Fabricated Metal Products', '7531': 'Automotive Body Repair Shops', '1711': 'Heating, Plumbing, Air Conditioning Contractors', '5947': 'Gift, Card, Novelty Stores', '3007': 'Coated and Laminated Products', '4511': 'Airlines', '3075': 'Bolt, Nut, Screw, Rivet Manufacturing', '3066': 'Miscellaneous Metals', '3005': 'Miscellaneous Metal Fabrication', '4411': 'Cruise Lines', '3000': 'Steelworks', '5533': 'Automotive Parts and Accessories Stores', '3008': 'Steel Drums and Barrels', '7549': 'Towing Services', '5941': 'Sporting Goods Stores', '5722': 'Household Appliance Stores', '3009': 'Fabricated Structural Metal Products', '5733': 'Music Stores - Musical Instruments'}\n"
     ]
    }
   ],
   "source": [
    "with open(FILE_PATH + '/mcc_codes.json', mode='r', encoding='utf-8') as f:\n",
    "    codes = json.load(f)\n",
    "    print(codes)"
   ]
  },
  {
   "cell_type": "code",
   "execution_count": 11,
   "metadata": {},
   "outputs": [
    {
     "data": {
      "text/html": [
       "<div>\n",
       "<style scoped>\n",
       "    .dataframe tbody tr th:only-of-type {\n",
       "        vertical-align: middle;\n",
       "    }\n",
       "\n",
       "    .dataframe tbody tr th {\n",
       "        vertical-align: top;\n",
       "    }\n",
       "\n",
       "    .dataframe thead th {\n",
       "        text-align: right;\n",
       "    }\n",
       "</style>\n",
       "<table border=\"1\" class=\"dataframe\">\n",
       "  <thead>\n",
       "    <tr style=\"text-align: right;\">\n",
       "      <th></th>\n",
       "      <th>mcc</th>\n",
       "      <th>description</th>\n",
       "    </tr>\n",
       "  </thead>\n",
       "  <tbody>\n",
       "    <tr>\n",
       "      <th>0</th>\n",
       "      <td>5812</td>\n",
       "      <td>Eating Places and Restaurants</td>\n",
       "    </tr>\n",
       "    <tr>\n",
       "      <th>1</th>\n",
       "      <td>5541</td>\n",
       "      <td>Service Stations</td>\n",
       "    </tr>\n",
       "    <tr>\n",
       "      <th>2</th>\n",
       "      <td>7996</td>\n",
       "      <td>Amusement Parks, Carnivals, Circuses</td>\n",
       "    </tr>\n",
       "    <tr>\n",
       "      <th>3</th>\n",
       "      <td>5411</td>\n",
       "      <td>Grocery Stores, Supermarkets</td>\n",
       "    </tr>\n",
       "    <tr>\n",
       "      <th>4</th>\n",
       "      <td>4784</td>\n",
       "      <td>Tolls and Bridge Fees</td>\n",
       "    </tr>\n",
       "  </tbody>\n",
       "</table>\n",
       "</div>"
      ],
      "text/plain": [
       "    mcc                           description\n",
       "0  5812         Eating Places and Restaurants\n",
       "1  5541                      Service Stations\n",
       "2  7996  Amusement Parks, Carnivals, Circuses\n",
       "3  5411          Grocery Stores, Supermarkets\n",
       "4  4784                 Tolls and Bridge Fees"
      ]
     },
     "execution_count": 11,
     "metadata": {},
     "output_type": "execute_result"
    }
   ],
   "source": [
    "df_cods = pd.DataFrame.from_dict(codes.items())\n",
    "df_cods.columns = ['mcc', 'description']\n",
    "df_cods['mcc'] = df_cods['mcc'].astype(int)\n",
    "df_cods.head()"
   ]
  },
  {
   "cell_type": "code",
   "execution_count": 12,
   "metadata": {},
   "outputs": [
    {
     "data": {
      "text/html": [
       "<div>\n",
       "<style scoped>\n",
       "    .dataframe tbody tr th:only-of-type {\n",
       "        vertical-align: middle;\n",
       "    }\n",
       "\n",
       "    .dataframe tbody tr th {\n",
       "        vertical-align: top;\n",
       "    }\n",
       "\n",
       "    .dataframe thead th {\n",
       "        text-align: right;\n",
       "    }\n",
       "</style>\n",
       "<table border=\"1\" class=\"dataframe\">\n",
       "  <thead>\n",
       "    <tr style=\"text-align: right;\">\n",
       "      <th></th>\n",
       "      <th>id</th>\n",
       "      <th>date</th>\n",
       "      <th>client_id</th>\n",
       "      <th>card_id</th>\n",
       "      <th>amount</th>\n",
       "      <th>use_chip</th>\n",
       "      <th>merchant_id</th>\n",
       "      <th>merchant_city</th>\n",
       "      <th>merchant_state</th>\n",
       "      <th>zip</th>\n",
       "      <th>mcc</th>\n",
       "      <th>errors</th>\n",
       "      <th>description</th>\n",
       "    </tr>\n",
       "  </thead>\n",
       "  <tbody>\n",
       "    <tr>\n",
       "      <th>0</th>\n",
       "      <td>7475327</td>\n",
       "      <td>2010-01-01 00:01:00</td>\n",
       "      <td>1556</td>\n",
       "      <td>2972</td>\n",
       "      <td>$-77.00</td>\n",
       "      <td>Swipe Transaction</td>\n",
       "      <td>59935</td>\n",
       "      <td>Beulah</td>\n",
       "      <td>ND</td>\n",
       "      <td>58523.0</td>\n",
       "      <td>5499</td>\n",
       "      <td>NaN</td>\n",
       "      <td>Miscellaneous Food Stores</td>\n",
       "    </tr>\n",
       "    <tr>\n",
       "      <th>1</th>\n",
       "      <td>7475328</td>\n",
       "      <td>2010-01-01 00:02:00</td>\n",
       "      <td>561</td>\n",
       "      <td>4575</td>\n",
       "      <td>$14.57</td>\n",
       "      <td>Swipe Transaction</td>\n",
       "      <td>67570</td>\n",
       "      <td>Bettendorf</td>\n",
       "      <td>IA</td>\n",
       "      <td>52722.0</td>\n",
       "      <td>5311</td>\n",
       "      <td>NaN</td>\n",
       "      <td>Department Stores</td>\n",
       "    </tr>\n",
       "    <tr>\n",
       "      <th>2</th>\n",
       "      <td>7475329</td>\n",
       "      <td>2010-01-01 00:02:00</td>\n",
       "      <td>1129</td>\n",
       "      <td>102</td>\n",
       "      <td>$80.00</td>\n",
       "      <td>Swipe Transaction</td>\n",
       "      <td>27092</td>\n",
       "      <td>Vista</td>\n",
       "      <td>CA</td>\n",
       "      <td>92084.0</td>\n",
       "      <td>4829</td>\n",
       "      <td>NaN</td>\n",
       "      <td>Money Transfer</td>\n",
       "    </tr>\n",
       "    <tr>\n",
       "      <th>3</th>\n",
       "      <td>7475331</td>\n",
       "      <td>2010-01-01 00:05:00</td>\n",
       "      <td>430</td>\n",
       "      <td>2860</td>\n",
       "      <td>$200.00</td>\n",
       "      <td>Swipe Transaction</td>\n",
       "      <td>27092</td>\n",
       "      <td>Crown Point</td>\n",
       "      <td>IN</td>\n",
       "      <td>46307.0</td>\n",
       "      <td>4829</td>\n",
       "      <td>NaN</td>\n",
       "      <td>Money Transfer</td>\n",
       "    </tr>\n",
       "    <tr>\n",
       "      <th>4</th>\n",
       "      <td>7475332</td>\n",
       "      <td>2010-01-01 00:06:00</td>\n",
       "      <td>848</td>\n",
       "      <td>3915</td>\n",
       "      <td>$46.41</td>\n",
       "      <td>Swipe Transaction</td>\n",
       "      <td>13051</td>\n",
       "      <td>Harwood</td>\n",
       "      <td>MD</td>\n",
       "      <td>20776.0</td>\n",
       "      <td>5813</td>\n",
       "      <td>NaN</td>\n",
       "      <td>Drinking Places (Alcoholic Beverages)</td>\n",
       "    </tr>\n",
       "  </tbody>\n",
       "</table>\n",
       "</div>"
      ],
      "text/plain": [
       "        id                 date  client_id  card_id   amount  \\\n",
       "0  7475327  2010-01-01 00:01:00       1556     2972  $-77.00   \n",
       "1  7475328  2010-01-01 00:02:00        561     4575   $14.57   \n",
       "2  7475329  2010-01-01 00:02:00       1129      102   $80.00   \n",
       "3  7475331  2010-01-01 00:05:00        430     2860  $200.00   \n",
       "4  7475332  2010-01-01 00:06:00        848     3915   $46.41   \n",
       "\n",
       "            use_chip  merchant_id merchant_city merchant_state      zip   mcc  \\\n",
       "0  Swipe Transaction        59935        Beulah             ND  58523.0  5499   \n",
       "1  Swipe Transaction        67570    Bettendorf             IA  52722.0  5311   \n",
       "2  Swipe Transaction        27092         Vista             CA  92084.0  4829   \n",
       "3  Swipe Transaction        27092   Crown Point             IN  46307.0  4829   \n",
       "4  Swipe Transaction        13051       Harwood             MD  20776.0  5813   \n",
       "\n",
       "  errors                            description  \n",
       "0    NaN              Miscellaneous Food Stores  \n",
       "1    NaN                      Department Stores  \n",
       "2    NaN                         Money Transfer  \n",
       "3    NaN                         Money Transfer  \n",
       "4    NaN  Drinking Places (Alcoholic Beverages)  "
      ]
     },
     "execution_count": 12,
     "metadata": {},
     "output_type": "execute_result"
    }
   ],
   "source": [
    "df = pd.merge(df_transaction, df_cods, on='mcc', how='left')\n",
    "df.head()"
   ]
  },
  {
   "cell_type": "code",
   "execution_count": 13,
   "metadata": {},
   "outputs": [],
   "source": [
    "del df_transaction, df_cods, codes"
   ]
  },
  {
   "cell_type": "code",
   "execution_count": 14,
   "metadata": {},
   "outputs": [
    {
     "data": {
      "text/html": [
       "<div>\n",
       "<style scoped>\n",
       "    .dataframe tbody tr th:only-of-type {\n",
       "        vertical-align: middle;\n",
       "    }\n",
       "\n",
       "    .dataframe tbody tr th {\n",
       "        vertical-align: top;\n",
       "    }\n",
       "\n",
       "    .dataframe thead th {\n",
       "        text-align: right;\n",
       "    }\n",
       "</style>\n",
       "<table border=\"1\" class=\"dataframe\">\n",
       "  <thead>\n",
       "    <tr style=\"text-align: right;\">\n",
       "      <th></th>\n",
       "      <th>card_id</th>\n",
       "      <th>client_id</th>\n",
       "      <th>card_brand</th>\n",
       "      <th>card_type</th>\n",
       "      <th>card_number</th>\n",
       "      <th>expires</th>\n",
       "      <th>cvv</th>\n",
       "      <th>has_chip</th>\n",
       "      <th>num_cards_issued</th>\n",
       "      <th>credit_limit</th>\n",
       "      <th>acct_open_date</th>\n",
       "      <th>year_pin_last_changed</th>\n",
       "      <th>card_on_dark_web</th>\n",
       "    </tr>\n",
       "  </thead>\n",
       "  <tbody>\n",
       "    <tr>\n",
       "      <th>0</th>\n",
       "      <td>4524</td>\n",
       "      <td>825</td>\n",
       "      <td>Visa</td>\n",
       "      <td>Debit</td>\n",
       "      <td>4344676511950444</td>\n",
       "      <td>12/2022</td>\n",
       "      <td>623</td>\n",
       "      <td>YES</td>\n",
       "      <td>2</td>\n",
       "      <td>$24295</td>\n",
       "      <td>09/2002</td>\n",
       "      <td>2008</td>\n",
       "      <td>No</td>\n",
       "    </tr>\n",
       "    <tr>\n",
       "      <th>1</th>\n",
       "      <td>2731</td>\n",
       "      <td>825</td>\n",
       "      <td>Visa</td>\n",
       "      <td>Debit</td>\n",
       "      <td>4956965974959986</td>\n",
       "      <td>12/2020</td>\n",
       "      <td>393</td>\n",
       "      <td>YES</td>\n",
       "      <td>2</td>\n",
       "      <td>$21968</td>\n",
       "      <td>04/2014</td>\n",
       "      <td>2014</td>\n",
       "      <td>No</td>\n",
       "    </tr>\n",
       "    <tr>\n",
       "      <th>2</th>\n",
       "      <td>3701</td>\n",
       "      <td>825</td>\n",
       "      <td>Visa</td>\n",
       "      <td>Debit</td>\n",
       "      <td>4582313478255491</td>\n",
       "      <td>02/2024</td>\n",
       "      <td>719</td>\n",
       "      <td>YES</td>\n",
       "      <td>2</td>\n",
       "      <td>$46414</td>\n",
       "      <td>07/2003</td>\n",
       "      <td>2004</td>\n",
       "      <td>No</td>\n",
       "    </tr>\n",
       "    <tr>\n",
       "      <th>3</th>\n",
       "      <td>42</td>\n",
       "      <td>825</td>\n",
       "      <td>Visa</td>\n",
       "      <td>Credit</td>\n",
       "      <td>4879494103069057</td>\n",
       "      <td>08/2024</td>\n",
       "      <td>693</td>\n",
       "      <td>NO</td>\n",
       "      <td>1</td>\n",
       "      <td>$12400</td>\n",
       "      <td>01/2003</td>\n",
       "      <td>2012</td>\n",
       "      <td>No</td>\n",
       "    </tr>\n",
       "    <tr>\n",
       "      <th>4</th>\n",
       "      <td>4659</td>\n",
       "      <td>825</td>\n",
       "      <td>Mastercard</td>\n",
       "      <td>Debit (Prepaid)</td>\n",
       "      <td>5722874738736011</td>\n",
       "      <td>03/2009</td>\n",
       "      <td>75</td>\n",
       "      <td>YES</td>\n",
       "      <td>1</td>\n",
       "      <td>$28</td>\n",
       "      <td>09/2008</td>\n",
       "      <td>2009</td>\n",
       "      <td>No</td>\n",
       "    </tr>\n",
       "  </tbody>\n",
       "</table>\n",
       "</div>"
      ],
      "text/plain": [
       "   card_id  client_id  card_brand        card_type       card_number  expires  \\\n",
       "0     4524        825        Visa            Debit  4344676511950444  12/2022   \n",
       "1     2731        825        Visa            Debit  4956965974959986  12/2020   \n",
       "2     3701        825        Visa            Debit  4582313478255491  02/2024   \n",
       "3       42        825        Visa           Credit  4879494103069057  08/2024   \n",
       "4     4659        825  Mastercard  Debit (Prepaid)  5722874738736011  03/2009   \n",
       "\n",
       "   cvv has_chip  num_cards_issued credit_limit acct_open_date  \\\n",
       "0  623      YES                 2       $24295        09/2002   \n",
       "1  393      YES                 2       $21968        04/2014   \n",
       "2  719      YES                 2       $46414        07/2003   \n",
       "3  693       NO                 1       $12400        01/2003   \n",
       "4   75      YES                 1          $28        09/2008   \n",
       "\n",
       "   year_pin_last_changed card_on_dark_web  \n",
       "0                   2008               No  \n",
       "1                   2014               No  \n",
       "2                   2004               No  \n",
       "3                   2012               No  \n",
       "4                   2009               No  "
      ]
     },
     "execution_count": 14,
     "metadata": {},
     "output_type": "execute_result"
    }
   ],
   "source": [
    "df_cards = pd.read_csv(FILE_PATH + '/cards_data.csv')\n",
    "df_cards.rename(columns={'id': 'card_id'}, inplace=True)\n",
    "df_cards.head()"
   ]
  },
  {
   "cell_type": "code",
   "execution_count": 15,
   "metadata": {},
   "outputs": [
    {
     "data": {
      "text/html": [
       "<div>\n",
       "<style scoped>\n",
       "    .dataframe tbody tr th:only-of-type {\n",
       "        vertical-align: middle;\n",
       "    }\n",
       "\n",
       "    .dataframe tbody tr th {\n",
       "        vertical-align: top;\n",
       "    }\n",
       "\n",
       "    .dataframe thead th {\n",
       "        text-align: right;\n",
       "    }\n",
       "</style>\n",
       "<table border=\"1\" class=\"dataframe\">\n",
       "  <thead>\n",
       "    <tr style=\"text-align: right;\">\n",
       "      <th></th>\n",
       "      <th>client_id</th>\n",
       "      <th>current_age</th>\n",
       "      <th>retirement_age</th>\n",
       "      <th>birth_year</th>\n",
       "      <th>birth_month</th>\n",
       "      <th>gender</th>\n",
       "      <th>address</th>\n",
       "      <th>latitude</th>\n",
       "      <th>longitude</th>\n",
       "      <th>per_capita_income</th>\n",
       "      <th>yearly_income</th>\n",
       "      <th>total_debt</th>\n",
       "      <th>credit_score</th>\n",
       "      <th>num_credit_cards</th>\n",
       "    </tr>\n",
       "  </thead>\n",
       "  <tbody>\n",
       "    <tr>\n",
       "      <th>0</th>\n",
       "      <td>825</td>\n",
       "      <td>53</td>\n",
       "      <td>66</td>\n",
       "      <td>1966</td>\n",
       "      <td>11</td>\n",
       "      <td>Female</td>\n",
       "      <td>462 Rose Lane</td>\n",
       "      <td>34.15</td>\n",
       "      <td>-117.76</td>\n",
       "      <td>$29278</td>\n",
       "      <td>$59696</td>\n",
       "      <td>$127613</td>\n",
       "      <td>787</td>\n",
       "      <td>5</td>\n",
       "    </tr>\n",
       "    <tr>\n",
       "      <th>1</th>\n",
       "      <td>1746</td>\n",
       "      <td>53</td>\n",
       "      <td>68</td>\n",
       "      <td>1966</td>\n",
       "      <td>12</td>\n",
       "      <td>Female</td>\n",
       "      <td>3606 Federal Boulevard</td>\n",
       "      <td>40.76</td>\n",
       "      <td>-73.74</td>\n",
       "      <td>$37891</td>\n",
       "      <td>$77254</td>\n",
       "      <td>$191349</td>\n",
       "      <td>701</td>\n",
       "      <td>5</td>\n",
       "    </tr>\n",
       "    <tr>\n",
       "      <th>2</th>\n",
       "      <td>1718</td>\n",
       "      <td>81</td>\n",
       "      <td>67</td>\n",
       "      <td>1938</td>\n",
       "      <td>11</td>\n",
       "      <td>Female</td>\n",
       "      <td>766 Third Drive</td>\n",
       "      <td>34.02</td>\n",
       "      <td>-117.89</td>\n",
       "      <td>$22681</td>\n",
       "      <td>$33483</td>\n",
       "      <td>$196</td>\n",
       "      <td>698</td>\n",
       "      <td>5</td>\n",
       "    </tr>\n",
       "    <tr>\n",
       "      <th>3</th>\n",
       "      <td>708</td>\n",
       "      <td>63</td>\n",
       "      <td>63</td>\n",
       "      <td>1957</td>\n",
       "      <td>1</td>\n",
       "      <td>Female</td>\n",
       "      <td>3 Madison Street</td>\n",
       "      <td>40.71</td>\n",
       "      <td>-73.99</td>\n",
       "      <td>$163145</td>\n",
       "      <td>$249925</td>\n",
       "      <td>$202328</td>\n",
       "      <td>722</td>\n",
       "      <td>4</td>\n",
       "    </tr>\n",
       "    <tr>\n",
       "      <th>4</th>\n",
       "      <td>1164</td>\n",
       "      <td>43</td>\n",
       "      <td>70</td>\n",
       "      <td>1976</td>\n",
       "      <td>9</td>\n",
       "      <td>Male</td>\n",
       "      <td>9620 Valley Stream Drive</td>\n",
       "      <td>37.76</td>\n",
       "      <td>-122.44</td>\n",
       "      <td>$53797</td>\n",
       "      <td>$109687</td>\n",
       "      <td>$183855</td>\n",
       "      <td>675</td>\n",
       "      <td>1</td>\n",
       "    </tr>\n",
       "  </tbody>\n",
       "</table>\n",
       "</div>"
      ],
      "text/plain": [
       "   client_id  current_age  retirement_age  birth_year  birth_month  gender  \\\n",
       "0        825           53              66        1966           11  Female   \n",
       "1       1746           53              68        1966           12  Female   \n",
       "2       1718           81              67        1938           11  Female   \n",
       "3        708           63              63        1957            1  Female   \n",
       "4       1164           43              70        1976            9    Male   \n",
       "\n",
       "                    address  latitude  longitude per_capita_income  \\\n",
       "0             462 Rose Lane     34.15    -117.76            $29278   \n",
       "1    3606 Federal Boulevard     40.76     -73.74            $37891   \n",
       "2           766 Third Drive     34.02    -117.89            $22681   \n",
       "3          3 Madison Street     40.71     -73.99           $163145   \n",
       "4  9620 Valley Stream Drive     37.76    -122.44            $53797   \n",
       "\n",
       "  yearly_income total_debt  credit_score  num_credit_cards  \n",
       "0        $59696    $127613           787                 5  \n",
       "1        $77254    $191349           701                 5  \n",
       "2        $33483       $196           698                 5  \n",
       "3       $249925    $202328           722                 4  \n",
       "4       $109687    $183855           675                 1  "
      ]
     },
     "execution_count": 15,
     "metadata": {},
     "output_type": "execute_result"
    }
   ],
   "source": [
    "df_users = pd.read_csv(FILE_PATH + '/users_data.csv')\n",
    "df_users.rename(columns={'id': 'client_id'}, inplace=True)\n",
    "df_users.head()"
   ]
  },
  {
   "cell_type": "code",
   "execution_count": 16,
   "metadata": {},
   "outputs": [
    {
     "data": {
      "text/html": [
       "<div>\n",
       "<style scoped>\n",
       "    .dataframe tbody tr th:only-of-type {\n",
       "        vertical-align: middle;\n",
       "    }\n",
       "\n",
       "    .dataframe tbody tr th {\n",
       "        vertical-align: top;\n",
       "    }\n",
       "\n",
       "    .dataframe thead th {\n",
       "        text-align: right;\n",
       "    }\n",
       "</style>\n",
       "<table border=\"1\" class=\"dataframe\">\n",
       "  <thead>\n",
       "    <tr style=\"text-align: right;\">\n",
       "      <th></th>\n",
       "      <th>id</th>\n",
       "      <th>target</th>\n",
       "    </tr>\n",
       "  </thead>\n",
       "  <tbody>\n",
       "    <tr>\n",
       "      <th>0</th>\n",
       "      <td>10649266</td>\n",
       "      <td>No</td>\n",
       "    </tr>\n",
       "    <tr>\n",
       "      <th>1</th>\n",
       "      <td>23410063</td>\n",
       "      <td>No</td>\n",
       "    </tr>\n",
       "    <tr>\n",
       "      <th>2</th>\n",
       "      <td>9316588</td>\n",
       "      <td>No</td>\n",
       "    </tr>\n",
       "    <tr>\n",
       "      <th>3</th>\n",
       "      <td>12478022</td>\n",
       "      <td>No</td>\n",
       "    </tr>\n",
       "    <tr>\n",
       "      <th>4</th>\n",
       "      <td>9558530</td>\n",
       "      <td>No</td>\n",
       "    </tr>\n",
       "  </tbody>\n",
       "</table>\n",
       "</div>"
      ],
      "text/plain": [
       "         id target\n",
       "0  10649266     No\n",
       "1  23410063     No\n",
       "2   9316588     No\n",
       "3  12478022     No\n",
       "4   9558530     No"
      ]
     },
     "execution_count": 16,
     "metadata": {},
     "output_type": "execute_result"
    }
   ],
   "source": [
    "df_frauds = pd.read_json(FILE_PATH + '/train_fraud_labels.json').reset_index()\n",
    "df_frauds.columns = ['id', 'target']\n",
    "df_frauds.head()"
   ]
  },
  {
   "cell_type": "code",
   "execution_count": 17,
   "metadata": {},
   "outputs": [
    {
     "data": {
      "text/plain": [
       "target\n",
       "No     0.998505\n",
       "Yes    0.001495\n",
       "Name: proportion, dtype: float64"
      ]
     },
     "execution_count": 17,
     "metadata": {},
     "output_type": "execute_result"
    }
   ],
   "source": [
    "df_frauds['target'].value_counts(normalize=True)"
   ]
  },
  {
   "cell_type": "code",
   "execution_count": 18,
   "metadata": {},
   "outputs": [],
   "source": [
    "df = pd.merge(df, df_frauds, on='id', how='left')\n",
    "del df_frauds"
   ]
  },
  {
   "cell_type": "code",
   "execution_count": 19,
   "metadata": {},
   "outputs": [
    {
     "data": {
      "text/html": [
       "<div>\n",
       "<style scoped>\n",
       "    .dataframe tbody tr th:only-of-type {\n",
       "        vertical-align: middle;\n",
       "    }\n",
       "\n",
       "    .dataframe tbody tr th {\n",
       "        vertical-align: top;\n",
       "    }\n",
       "\n",
       "    .dataframe thead th {\n",
       "        text-align: right;\n",
       "    }\n",
       "</style>\n",
       "<table border=\"1\" class=\"dataframe\">\n",
       "  <thead>\n",
       "    <tr style=\"text-align: right;\">\n",
       "      <th></th>\n",
       "      <th>id</th>\n",
       "      <th>date</th>\n",
       "      <th>client_id</th>\n",
       "      <th>card_id</th>\n",
       "      <th>amount</th>\n",
       "      <th>use_chip</th>\n",
       "      <th>merchant_id</th>\n",
       "      <th>merchant_city</th>\n",
       "      <th>merchant_state</th>\n",
       "      <th>zip</th>\n",
       "      <th>mcc</th>\n",
       "      <th>errors</th>\n",
       "      <th>description</th>\n",
       "      <th>target</th>\n",
       "    </tr>\n",
       "  </thead>\n",
       "  <tbody>\n",
       "    <tr>\n",
       "      <th>0</th>\n",
       "      <td>7475327</td>\n",
       "      <td>2010-01-01 00:01:00</td>\n",
       "      <td>1556</td>\n",
       "      <td>2972</td>\n",
       "      <td>$-77.00</td>\n",
       "      <td>Swipe Transaction</td>\n",
       "      <td>59935</td>\n",
       "      <td>Beulah</td>\n",
       "      <td>ND</td>\n",
       "      <td>58523.0</td>\n",
       "      <td>5499</td>\n",
       "      <td>NaN</td>\n",
       "      <td>Miscellaneous Food Stores</td>\n",
       "      <td>No</td>\n",
       "    </tr>\n",
       "    <tr>\n",
       "      <th>1</th>\n",
       "      <td>7475328</td>\n",
       "      <td>2010-01-01 00:02:00</td>\n",
       "      <td>561</td>\n",
       "      <td>4575</td>\n",
       "      <td>$14.57</td>\n",
       "      <td>Swipe Transaction</td>\n",
       "      <td>67570</td>\n",
       "      <td>Bettendorf</td>\n",
       "      <td>IA</td>\n",
       "      <td>52722.0</td>\n",
       "      <td>5311</td>\n",
       "      <td>NaN</td>\n",
       "      <td>Department Stores</td>\n",
       "      <td>No</td>\n",
       "    </tr>\n",
       "    <tr>\n",
       "      <th>2</th>\n",
       "      <td>7475329</td>\n",
       "      <td>2010-01-01 00:02:00</td>\n",
       "      <td>1129</td>\n",
       "      <td>102</td>\n",
       "      <td>$80.00</td>\n",
       "      <td>Swipe Transaction</td>\n",
       "      <td>27092</td>\n",
       "      <td>Vista</td>\n",
       "      <td>CA</td>\n",
       "      <td>92084.0</td>\n",
       "      <td>4829</td>\n",
       "      <td>NaN</td>\n",
       "      <td>Money Transfer</td>\n",
       "      <td>No</td>\n",
       "    </tr>\n",
       "    <tr>\n",
       "      <th>3</th>\n",
       "      <td>7475331</td>\n",
       "      <td>2010-01-01 00:05:00</td>\n",
       "      <td>430</td>\n",
       "      <td>2860</td>\n",
       "      <td>$200.00</td>\n",
       "      <td>Swipe Transaction</td>\n",
       "      <td>27092</td>\n",
       "      <td>Crown Point</td>\n",
       "      <td>IN</td>\n",
       "      <td>46307.0</td>\n",
       "      <td>4829</td>\n",
       "      <td>NaN</td>\n",
       "      <td>Money Transfer</td>\n",
       "      <td>NaN</td>\n",
       "    </tr>\n",
       "    <tr>\n",
       "      <th>4</th>\n",
       "      <td>7475332</td>\n",
       "      <td>2010-01-01 00:06:00</td>\n",
       "      <td>848</td>\n",
       "      <td>3915</td>\n",
       "      <td>$46.41</td>\n",
       "      <td>Swipe Transaction</td>\n",
       "      <td>13051</td>\n",
       "      <td>Harwood</td>\n",
       "      <td>MD</td>\n",
       "      <td>20776.0</td>\n",
       "      <td>5813</td>\n",
       "      <td>NaN</td>\n",
       "      <td>Drinking Places (Alcoholic Beverages)</td>\n",
       "      <td>No</td>\n",
       "    </tr>\n",
       "  </tbody>\n",
       "</table>\n",
       "</div>"
      ],
      "text/plain": [
       "        id                 date  client_id  card_id   amount  \\\n",
       "0  7475327  2010-01-01 00:01:00       1556     2972  $-77.00   \n",
       "1  7475328  2010-01-01 00:02:00        561     4575   $14.57   \n",
       "2  7475329  2010-01-01 00:02:00       1129      102   $80.00   \n",
       "3  7475331  2010-01-01 00:05:00        430     2860  $200.00   \n",
       "4  7475332  2010-01-01 00:06:00        848     3915   $46.41   \n",
       "\n",
       "            use_chip  merchant_id merchant_city merchant_state      zip   mcc  \\\n",
       "0  Swipe Transaction        59935        Beulah             ND  58523.0  5499   \n",
       "1  Swipe Transaction        67570    Bettendorf             IA  52722.0  5311   \n",
       "2  Swipe Transaction        27092         Vista             CA  92084.0  4829   \n",
       "3  Swipe Transaction        27092   Crown Point             IN  46307.0  4829   \n",
       "4  Swipe Transaction        13051       Harwood             MD  20776.0  5813   \n",
       "\n",
       "  errors                            description target  \n",
       "0    NaN              Miscellaneous Food Stores     No  \n",
       "1    NaN                      Department Stores     No  \n",
       "2    NaN                         Money Transfer     No  \n",
       "3    NaN                         Money Transfer    NaN  \n",
       "4    NaN  Drinking Places (Alcoholic Beverages)     No  "
      ]
     },
     "execution_count": 19,
     "metadata": {},
     "output_type": "execute_result"
    }
   ],
   "source": [
    "df.head()"
   ]
  },
  {
   "cell_type": "markdown",
   "metadata": {},
   "source": [
    "## Ajuste nos tipos de dados de Transações (df), usuários (df_users) e cartoes (df_cards)"
   ]
  },
  {
   "cell_type": "code",
   "execution_count": 20,
   "metadata": {},
   "outputs": [
    {
     "name": "stdout",
     "output_type": "stream",
     "text": [
      "<class 'pandas.core.frame.DataFrame'>\n",
      "RangeIndex: 2000 entries, 0 to 1999\n",
      "Data columns (total 14 columns):\n",
      " #   Column             Non-Null Count  Dtype  \n",
      "---  ------             --------------  -----  \n",
      " 0   client_id          2000 non-null   int64  \n",
      " 1   current_age        2000 non-null   int64  \n",
      " 2   retirement_age     2000 non-null   int64  \n",
      " 3   birth_year         2000 non-null   int64  \n",
      " 4   birth_month        2000 non-null   int64  \n",
      " 5   gender             2000 non-null   object \n",
      " 6   address            2000 non-null   object \n",
      " 7   latitude           2000 non-null   float64\n",
      " 8   longitude          2000 non-null   float64\n",
      " 9   per_capita_income  2000 non-null   object \n",
      " 10  yearly_income      2000 non-null   object \n",
      " 11  total_debt         2000 non-null   object \n",
      " 12  credit_score       2000 non-null   int64  \n",
      " 13  num_credit_cards   2000 non-null   int64  \n",
      "dtypes: float64(2), int64(7), object(5)\n",
      "memory usage: 218.9+ KB\n"
     ]
    }
   ],
   "source": [
    "df_users.info()"
   ]
  },
  {
   "cell_type": "code",
   "execution_count": 21,
   "metadata": {},
   "outputs": [
    {
     "name": "stdout",
     "output_type": "stream",
     "text": [
      "<class 'pandas.core.frame.DataFrame'>\n",
      "RangeIndex: 6146 entries, 0 to 6145\n",
      "Data columns (total 13 columns):\n",
      " #   Column                 Non-Null Count  Dtype \n",
      "---  ------                 --------------  ----- \n",
      " 0   card_id                6146 non-null   int64 \n",
      " 1   client_id              6146 non-null   int64 \n",
      " 2   card_brand             6146 non-null   object\n",
      " 3   card_type              6146 non-null   object\n",
      " 4   card_number            6146 non-null   int64 \n",
      " 5   expires                6146 non-null   object\n",
      " 6   cvv                    6146 non-null   int64 \n",
      " 7   has_chip               6146 non-null   object\n",
      " 8   num_cards_issued       6146 non-null   int64 \n",
      " 9   credit_limit           6146 non-null   object\n",
      " 10  acct_open_date         6146 non-null   object\n",
      " 11  year_pin_last_changed  6146 non-null   int64 \n",
      " 12  card_on_dark_web       6146 non-null   object\n",
      "dtypes: int64(6), object(7)\n",
      "memory usage: 624.3+ KB\n"
     ]
    }
   ],
   "source": [
    "df_cards.info()"
   ]
  },
  {
   "cell_type": "code",
   "execution_count": 22,
   "metadata": {},
   "outputs": [
    {
     "name": "stdout",
     "output_type": "stream",
     "text": [
      "<class 'pandas.core.frame.DataFrame'>\n",
      "RangeIndex: 13305915 entries, 0 to 13305914\n",
      "Data columns (total 14 columns):\n",
      " #   Column          Dtype  \n",
      "---  ------          -----  \n",
      " 0   id              int64  \n",
      " 1   date            object \n",
      " 2   client_id       int64  \n",
      " 3   card_id         int64  \n",
      " 4   amount          object \n",
      " 5   use_chip        object \n",
      " 6   merchant_id     int64  \n",
      " 7   merchant_city   object \n",
      " 8   merchant_state  object \n",
      " 9   zip             float64\n",
      " 10  mcc             int64  \n",
      " 11  errors          object \n",
      " 12  description     object \n",
      " 13  target          object \n",
      "dtypes: float64(1), int64(5), object(8)\n",
      "memory usage: 1.4+ GB\n"
     ]
    }
   ],
   "source": [
    "df.info()"
   ]
  },
  {
   "cell_type": "code",
   "execution_count": 23,
   "metadata": {},
   "outputs": [],
   "source": [
    "df['date'] = pd.to_datetime(df['date'])"
   ]
  },
  {
   "cell_type": "code",
   "execution_count": 24,
   "metadata": {},
   "outputs": [],
   "source": [
    "def format_value_decimal(value_decimal: str|float) -> float:\n",
    "    return float(str(value_decimal).replace('$', ''))"
   ]
  },
  {
   "cell_type": "code",
   "execution_count": 25,
   "metadata": {},
   "outputs": [],
   "source": [
    "df['amount'] = df['amount'].apply(format_value_decimal)\n",
    "df['mcc'] =  df['mcc'].apply(str)"
   ]
  },
  {
   "cell_type": "code",
   "execution_count": 26,
   "metadata": {},
   "outputs": [],
   "source": [
    "df_users['per_capita_income'] = df_users['per_capita_income'].apply(format_value_decimal)\n",
    "df_users['yearly_income'] = df_users['yearly_income'].apply(format_value_decimal)\n",
    "df_users['total_debt'] = df_users['total_debt'].apply(format_value_decimal)"
   ]
  },
  {
   "cell_type": "code",
   "execution_count": 27,
   "metadata": {},
   "outputs": [],
   "source": [
    "df_cards['credit_limit'] = df_cards['credit_limit'].apply(format_value_decimal)"
   ]
  },
  {
   "cell_type": "code",
   "execution_count": 28,
   "metadata": {},
   "outputs": [
    {
     "name": "stdout",
     "output_type": "stream",
     "text": [
      "<class 'pandas.core.frame.DataFrame'>\n",
      "RangeIndex: 13305915 entries, 0 to 13305914\n",
      "Data columns (total 14 columns):\n",
      " #   Column          Dtype         \n",
      "---  ------          -----         \n",
      " 0   id              int64         \n",
      " 1   date            datetime64[ns]\n",
      " 2   client_id       int64         \n",
      " 3   card_id         int64         \n",
      " 4   amount          float64       \n",
      " 5   use_chip        object        \n",
      " 6   merchant_id     int64         \n",
      " 7   merchant_city   object        \n",
      " 8   merchant_state  object        \n",
      " 9   zip             float64       \n",
      " 10  mcc             object        \n",
      " 11  errors          object        \n",
      " 12  description     object        \n",
      " 13  target          object        \n",
      "dtypes: datetime64[ns](1), float64(2), int64(4), object(7)\n",
      "memory usage: 1.4+ GB\n"
     ]
    }
   ],
   "source": [
    "df.info()"
   ]
  },
  {
   "cell_type": "code",
   "execution_count": 29,
   "metadata": {},
   "outputs": [
    {
     "name": "stdout",
     "output_type": "stream",
     "text": [
      "<class 'pandas.core.frame.DataFrame'>\n",
      "RangeIndex: 2000 entries, 0 to 1999\n",
      "Data columns (total 14 columns):\n",
      " #   Column             Non-Null Count  Dtype  \n",
      "---  ------             --------------  -----  \n",
      " 0   client_id          2000 non-null   int64  \n",
      " 1   current_age        2000 non-null   int64  \n",
      " 2   retirement_age     2000 non-null   int64  \n",
      " 3   birth_year         2000 non-null   int64  \n",
      " 4   birth_month        2000 non-null   int64  \n",
      " 5   gender             2000 non-null   object \n",
      " 6   address            2000 non-null   object \n",
      " 7   latitude           2000 non-null   float64\n",
      " 8   longitude          2000 non-null   float64\n",
      " 9   per_capita_income  2000 non-null   float64\n",
      " 10  yearly_income      2000 non-null   float64\n",
      " 11  total_debt         2000 non-null   float64\n",
      " 12  credit_score       2000 non-null   int64  \n",
      " 13  num_credit_cards   2000 non-null   int64  \n",
      "dtypes: float64(5), int64(7), object(2)\n",
      "memory usage: 218.9+ KB\n"
     ]
    }
   ],
   "source": [
    "df_users.info()"
   ]
  },
  {
   "cell_type": "code",
   "execution_count": 30,
   "metadata": {},
   "outputs": [
    {
     "name": "stdout",
     "output_type": "stream",
     "text": [
      "<class 'pandas.core.frame.DataFrame'>\n",
      "RangeIndex: 6146 entries, 0 to 6145\n",
      "Data columns (total 13 columns):\n",
      " #   Column                 Non-Null Count  Dtype  \n",
      "---  ------                 --------------  -----  \n",
      " 0   card_id                6146 non-null   int64  \n",
      " 1   client_id              6146 non-null   int64  \n",
      " 2   card_brand             6146 non-null   object \n",
      " 3   card_type              6146 non-null   object \n",
      " 4   card_number            6146 non-null   int64  \n",
      " 5   expires                6146 non-null   object \n",
      " 6   cvv                    6146 non-null   int64  \n",
      " 7   has_chip               6146 non-null   object \n",
      " 8   num_cards_issued       6146 non-null   int64  \n",
      " 9   credit_limit           6146 non-null   float64\n",
      " 10  acct_open_date         6146 non-null   object \n",
      " 11  year_pin_last_changed  6146 non-null   int64  \n",
      " 12  card_on_dark_web       6146 non-null   object \n",
      "dtypes: float64(1), int64(6), object(6)\n",
      "memory usage: 624.3+ KB\n"
     ]
    }
   ],
   "source": [
    "df_cards.info()"
   ]
  },
  {
   "cell_type": "code",
   "execution_count": 31,
   "metadata": {},
   "outputs": [
    {
     "data": {
      "text/plain": [
       "target\n",
       "No     8901631\n",
       "NaN    4390952\n",
       "Yes      13332\n",
       "Name: count, dtype: int64"
      ]
     },
     "execution_count": 31,
     "metadata": {},
     "output_type": "execute_result"
    }
   ],
   "source": [
    "df['target'].value_counts(dropna=False)"
   ]
  },
  {
   "cell_type": "markdown",
   "metadata": {},
   "source": [
    "## Segmentação de dados (treino, teste, validação)"
   ]
  },
  {
   "cell_type": "code",
   "execution_count": 32,
   "metadata": {},
   "outputs": [
    {
     "data": {
      "text/plain": [
       "Timestamp('2018-03-21 02:57:24.000000256')"
      ]
     },
     "execution_count": 32,
     "metadata": {},
     "output_type": "execute_result"
    }
   ],
   "source": [
    "limit_train_test_date = df.sort_values(by='date', ascending=True).query('target == \"Yes\"')['date'].quantile(0.8)\n",
    "limit_train_test_date"
   ]
  },
  {
   "cell_type": "code",
   "execution_count": 33,
   "metadata": {},
   "outputs": [
    {
     "data": {
      "text/plain": [
       "(4390952, 14)"
      ]
     },
     "execution_count": 33,
     "metadata": {},
     "output_type": "execute_result"
    }
   ],
   "source": [
    "df_no_target = df.query('target.isna()')\n",
    "df_no_target.shape"
   ]
  },
  {
   "cell_type": "code",
   "execution_count": 34,
   "metadata": {},
   "outputs": [
    {
     "data": {
      "text/plain": [
       "(8914963, 14)"
      ]
     },
     "execution_count": 34,
     "metadata": {},
     "output_type": "execute_result"
    }
   ],
   "source": [
    "df.query('not target.isna()', inplace=True)\n",
    "df.shape"
   ]
  },
  {
   "cell_type": "code",
   "execution_count": 35,
   "metadata": {},
   "outputs": [
    {
     "data": {
      "text/plain": [
       "(1509593, 14)"
      ]
     },
     "execution_count": 35,
     "metadata": {},
     "output_type": "execute_result"
    }
   ],
   "source": [
    "df_vadalite_date = df.sort_values(by='date', ascending=True).query('date > @limit_train_test_date')\n",
    "df_vadalite_date.shape"
   ]
  },
  {
   "cell_type": "code",
   "execution_count": 36,
   "metadata": {},
   "outputs": [
    {
     "data": {
      "text/plain": [
       "(7405370, 14)"
      ]
     },
     "execution_count": 36,
     "metadata": {},
     "output_type": "execute_result"
    }
   ],
   "source": [
    "df_train_test_date = df.sort_values(by='date', ascending=True).query('date <= @limit_train_test_date')\n",
    "df_train_test_date.shape"
   ]
  },
  {
   "cell_type": "code",
   "execution_count": 37,
   "metadata": {},
   "outputs": [
    {
     "data": {
      "text/plain": [
       "(1219, 14)"
      ]
     },
     "execution_count": 37,
     "metadata": {},
     "output_type": "execute_result"
    }
   ],
   "source": [
    "df_user_notarget = df_users[df_users['client_id'].isin(df_no_target['client_id'].values)]\n",
    "df_user_notarget .shape"
   ]
  },
  {
   "cell_type": "code",
   "execution_count": 38,
   "metadata": {},
   "outputs": [
    {
     "data": {
      "text/plain": [
       "(1207, 14)"
      ]
     },
     "execution_count": 38,
     "metadata": {},
     "output_type": "execute_result"
    }
   ],
   "source": [
    "df_user_validation = df_users[df_users['client_id'].isin(df_vadalite_date['client_id'].values)]\n",
    "df_user_validation.shape"
   ]
  },
  {
   "cell_type": "code",
   "execution_count": 39,
   "metadata": {},
   "outputs": [
    {
     "data": {
      "text/plain": [
       "(1219, 14)"
      ]
     },
     "execution_count": 39,
     "metadata": {},
     "output_type": "execute_result"
    }
   ],
   "source": [
    "df_user_train_test = df_users[df_users['client_id'].isin(df_train_test_date['client_id'].values)]\n",
    "df_user_train_test.shape"
   ]
  },
  {
   "cell_type": "code",
   "execution_count": 40,
   "metadata": {},
   "outputs": [
    {
     "data": {
      "text/plain": [
       "(4071, 13)"
      ]
     },
     "execution_count": 40,
     "metadata": {},
     "output_type": "execute_result"
    }
   ],
   "source": [
    "df_cards_notarget = df_cards[df_cards['card_id'].isin(df_no_target['card_id'])]\n",
    "df_cards_notarget.shape"
   ]
  },
  {
   "cell_type": "code",
   "execution_count": 41,
   "metadata": {},
   "outputs": [
    {
     "data": {
      "text/plain": [
       "(3525, 13)"
      ]
     },
     "execution_count": 41,
     "metadata": {},
     "output_type": "execute_result"
    }
   ],
   "source": [
    "df_cards_validation = df_cards[df_cards['card_id'].isin(df_vadalite_date['card_id'])]\n",
    "df_cards_validation.shape"
   ]
  },
  {
   "cell_type": "code",
   "execution_count": 42,
   "metadata": {},
   "outputs": [
    {
     "data": {
      "text/plain": [
       "(3976, 13)"
      ]
     },
     "execution_count": 42,
     "metadata": {},
     "output_type": "execute_result"
    }
   ],
   "source": [
    "df_cards_train_test = df_cards[df_cards['card_id'].isin(df_train_test_date['card_id'])]\n",
    "df_cards_train_test.shape"
   ]
  },
  {
   "cell_type": "code",
   "execution_count": 43,
   "metadata": {},
   "outputs": [],
   "source": [
    "del df, df_users, df_cards"
   ]
  },
  {
   "cell_type": "code",
   "execution_count": 44,
   "metadata": {},
   "outputs": [
    {
     "data": {
      "text/plain": [
       "(4390952, 38)"
      ]
     },
     "execution_count": 44,
     "metadata": {},
     "output_type": "execute_result"
    }
   ],
   "source": [
    "df_notarget = df_no_target \\\n",
    "    .merge(df_user_notarget, how='left', on=['client_id']) \\\n",
    "    .merge(df_cards_notarget, how='left', on=['card_id', 'client_id'])\n",
    "df_notarget.shape"
   ]
  },
  {
   "cell_type": "code",
   "execution_count": 45,
   "metadata": {},
   "outputs": [],
   "source": [
    "del df_no_target, df_user_notarget, df_cards_notarget"
   ]
  },
  {
   "cell_type": "code",
   "execution_count": 46,
   "metadata": {},
   "outputs": [
    {
     "data": {
      "text/plain": [
       "(7405370, 38)"
      ]
     },
     "execution_count": 46,
     "metadata": {},
     "output_type": "execute_result"
    }
   ],
   "source": [
    "df_train_test = df_train_test_date \\\n",
    "    .merge(df_user_train_test, how='left', on=['client_id']) \\\n",
    "    .merge(df_cards_train_test, how='left', on=['card_id', 'client_id'])\n",
    "df_train_test.shape"
   ]
  },
  {
   "cell_type": "code",
   "execution_count": 47,
   "metadata": {},
   "outputs": [],
   "source": [
    "del df_train_test_date, df_user_train_test, df_cards_train_test"
   ]
  },
  {
   "cell_type": "code",
   "execution_count": 48,
   "metadata": {},
   "outputs": [
    {
     "data": {
      "text/plain": [
       "(1509593, 38)"
      ]
     },
     "execution_count": 48,
     "metadata": {},
     "output_type": "execute_result"
    }
   ],
   "source": [
    "df_validation = df_vadalite_date \\\n",
    "    .merge(df_user_validation, how='left', on=['client_id']) \\\n",
    "    .merge(df_cards_validation, how='left', on=['card_id', 'client_id'])\n",
    "df_validation.shape"
   ]
  },
  {
   "cell_type": "code",
   "execution_count": 49,
   "metadata": {},
   "outputs": [],
   "source": [
    "del df_vadalite_date, df_user_validation, df_cards_validation"
   ]
  },
  {
   "cell_type": "code",
   "execution_count": 50,
   "metadata": {},
   "outputs": [],
   "source": [
    "df_notarget.to_parquet(os.path.join(DATASET_PATH, 'df_notarget.parquet'), engine='pyarrow')"
   ]
  },
  {
   "cell_type": "code",
   "execution_count": 51,
   "metadata": {},
   "outputs": [],
   "source": [
    "df_train_test.to_parquet(os.path.join(DATASET_PATH, 'df_train_test.parquet'), engine='pyarrow')"
   ]
  },
  {
   "cell_type": "code",
   "execution_count": 52,
   "metadata": {},
   "outputs": [],
   "source": [
    "df_validation.to_parquet(os.path.join(DATASET_PATH, 'df_validation.parquet'), engine='pyarrow')"
   ]
  },
  {
   "cell_type": "code",
   "execution_count": 53,
   "metadata": {},
   "outputs": [],
   "source": [
    "import shutil"
   ]
  },
  {
   "cell_type": "code",
   "execution_count": 60,
   "metadata": {},
   "outputs": [
    {
     "data": {
      "text/plain": [
       "'c:\\\\Repositorios\\\\Particular\\\\analise_fraude\\\\datasets\\\\.tar'"
      ]
     },
     "execution_count": 60,
     "metadata": {},
     "output_type": "execute_result"
    }
   ],
   "source": [
    "shutil.make_archive(DATASET_PATH, 'tar', DATASET_PATH)"
   ]
  },
  {
   "cell_type": "code",
   "execution_count": null,
   "metadata": {},
   "outputs": [],
   "source": []
  }
 ],
 "metadata": {
  "kernelspec": {
   "display_name": ".venv",
   "language": "python",
   "name": "python3"
  },
  "language_info": {
   "codemirror_mode": {
    "name": "ipython",
    "version": 3
   },
   "file_extension": ".py",
   "mimetype": "text/x-python",
   "name": "python",
   "nbconvert_exporter": "python",
   "pygments_lexer": "ipython3",
   "version": "3.11.7"
  }
 },
 "nbformat": 4,
 "nbformat_minor": 2
}
