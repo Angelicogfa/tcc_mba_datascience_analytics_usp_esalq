{
  "cells": [
    {
      "cell_type": "markdown",
      "metadata": {
        "id": "xkHYupV52NJQ"
      },
      "source": [
        "https://www.kaggle.com/datasets/computingvictor/transactions-fraud-datasets?select=mcc_codes.json"
      ]
    },
    {
      "cell_type": "markdown",
      "metadata": {
        "id": "5wVFnMaF4u6m"
      },
      "source": [
        "## Importação de bibliotecas"
      ]
    },
    {
      "cell_type": "code",
      "execution_count": 3,
      "metadata": {
        "id": "eEKjHYLX4hdz"
      },
      "outputs": [],
      "source": [
        "import os\n",
        "import json\n",
        "import kagglehub\n",
        "import pandas as pd\n",
        "from shutil import move"
      ]
    },
    {
      "cell_type": "code",
      "execution_count": 4,
      "metadata": {},
      "outputs": [],
      "source": [
        "pd.set_option('display.max_columns', None)"
      ]
    },
    {
      "cell_type": "markdown",
      "metadata": {
        "id": "8Ozryjq54x8s"
      },
      "source": [
        "## Carregamento de dados"
      ]
    },
    {
      "cell_type": "code",
      "execution_count": 5,
      "metadata": {},
      "outputs": [],
      "source": [
        "FILE_PATH = './data/'"
      ]
    },
    {
      "cell_type": "code",
      "execution_count": 6,
      "metadata": {
        "colab": {
          "base_uri": "https://localhost:8080/"
        },
        "id": "aJRFfElYz65n",
        "outputId": "feb2f7d7-219a-4327-80c5-c15d850080d9"
      },
      "outputs": [
        {
          "name": "stdout",
          "output_type": "stream",
          "text": [
            "Path to dataset files: C:\\Users\\Guilherme\\.cache\\kagglehub\\datasets\\computingvictor\\transactions-fraud-datasets\\versions\\1\n"
          ]
        }
      ],
      "source": [
        "# Download latest version\n",
        "path = kagglehub.dataset_download(\"computingvictor/transactions-fraud-datasets\")\n",
        "\n",
        "print(\"Path to dataset files:\", path)"
      ]
    },
    {
      "cell_type": "code",
      "execution_count": 7,
      "metadata": {},
      "outputs": [],
      "source": [
        "for file in os.listdir(path):\n",
        "    file_path = os.path.join(path, file)\n",
        "    move(file_path, FILE_PATH)"
      ]
    },
    {
      "cell_type": "code",
      "execution_count": 8,
      "metadata": {
        "colab": {
          "base_uri": "https://localhost:8080/"
        },
        "id": "5-d5Xze30mjS",
        "outputId": "2c0befb3-56f1-4080-aa74-6be9ea4fff37"
      },
      "outputs": [
        {
          "data": {
            "text/plain": [
              "['cards_data.csv',\n",
              " 'mcc_codes.json',\n",
              " 'train_fraud_labels.json',\n",
              " 'transactions_data.csv',\n",
              " 'users_data.csv']"
            ]
          },
          "execution_count": 8,
          "metadata": {},
          "output_type": "execute_result"
        }
      ],
      "source": [
        "os.listdir(FILE_PATH)"
      ]
    },
    {
      "cell_type": "code",
      "execution_count": 9,
      "metadata": {
        "colab": {
          "base_uri": "https://localhost:8080/",
          "height": 400
        },
        "id": "97DmQzm61mLk",
        "outputId": "177762fb-b667-4303-958b-d7ea74669a02"
      },
      "outputs": [
        {
          "data": {
            "text/html": [
              "<div>\n",
              "<style scoped>\n",
              "    .dataframe tbody tr th:only-of-type {\n",
              "        vertical-align: middle;\n",
              "    }\n",
              "\n",
              "    .dataframe tbody tr th {\n",
              "        vertical-align: top;\n",
              "    }\n",
              "\n",
              "    .dataframe thead th {\n",
              "        text-align: right;\n",
              "    }\n",
              "</style>\n",
              "<table border=\"1\" class=\"dataframe\">\n",
              "  <thead>\n",
              "    <tr style=\"text-align: right;\">\n",
              "      <th></th>\n",
              "      <th>id</th>\n",
              "      <th>date</th>\n",
              "      <th>client_id</th>\n",
              "      <th>card_id</th>\n",
              "      <th>amount</th>\n",
              "      <th>use_chip</th>\n",
              "      <th>merchant_id</th>\n",
              "      <th>merchant_city</th>\n",
              "      <th>merchant_state</th>\n",
              "      <th>zip</th>\n",
              "      <th>mcc</th>\n",
              "      <th>errors</th>\n",
              "    </tr>\n",
              "  </thead>\n",
              "  <tbody>\n",
              "    <tr>\n",
              "      <th>0</th>\n",
              "      <td>7475327</td>\n",
              "      <td>2010-01-01 00:01:00</td>\n",
              "      <td>1556</td>\n",
              "      <td>2972</td>\n",
              "      <td>$-77.00</td>\n",
              "      <td>Swipe Transaction</td>\n",
              "      <td>59935</td>\n",
              "      <td>Beulah</td>\n",
              "      <td>ND</td>\n",
              "      <td>58523.0</td>\n",
              "      <td>5499</td>\n",
              "      <td>NaN</td>\n",
              "    </tr>\n",
              "    <tr>\n",
              "      <th>1</th>\n",
              "      <td>7475328</td>\n",
              "      <td>2010-01-01 00:02:00</td>\n",
              "      <td>561</td>\n",
              "      <td>4575</td>\n",
              "      <td>$14.57</td>\n",
              "      <td>Swipe Transaction</td>\n",
              "      <td>67570</td>\n",
              "      <td>Bettendorf</td>\n",
              "      <td>IA</td>\n",
              "      <td>52722.0</td>\n",
              "      <td>5311</td>\n",
              "      <td>NaN</td>\n",
              "    </tr>\n",
              "    <tr>\n",
              "      <th>2</th>\n",
              "      <td>7475329</td>\n",
              "      <td>2010-01-01 00:02:00</td>\n",
              "      <td>1129</td>\n",
              "      <td>102</td>\n",
              "      <td>$80.00</td>\n",
              "      <td>Swipe Transaction</td>\n",
              "      <td>27092</td>\n",
              "      <td>Vista</td>\n",
              "      <td>CA</td>\n",
              "      <td>92084.0</td>\n",
              "      <td>4829</td>\n",
              "      <td>NaN</td>\n",
              "    </tr>\n",
              "    <tr>\n",
              "      <th>3</th>\n",
              "      <td>7475331</td>\n",
              "      <td>2010-01-01 00:05:00</td>\n",
              "      <td>430</td>\n",
              "      <td>2860</td>\n",
              "      <td>$200.00</td>\n",
              "      <td>Swipe Transaction</td>\n",
              "      <td>27092</td>\n",
              "      <td>Crown Point</td>\n",
              "      <td>IN</td>\n",
              "      <td>46307.0</td>\n",
              "      <td>4829</td>\n",
              "      <td>NaN</td>\n",
              "    </tr>\n",
              "    <tr>\n",
              "      <th>4</th>\n",
              "      <td>7475332</td>\n",
              "      <td>2010-01-01 00:06:00</td>\n",
              "      <td>848</td>\n",
              "      <td>3915</td>\n",
              "      <td>$46.41</td>\n",
              "      <td>Swipe Transaction</td>\n",
              "      <td>13051</td>\n",
              "      <td>Harwood</td>\n",
              "      <td>MD</td>\n",
              "      <td>20776.0</td>\n",
              "      <td>5813</td>\n",
              "      <td>NaN</td>\n",
              "    </tr>\n",
              "  </tbody>\n",
              "</table>\n",
              "</div>"
            ],
            "text/plain": [
              "        id                 date  client_id  card_id   amount  \\\n",
              "0  7475327  2010-01-01 00:01:00       1556     2972  $-77.00   \n",
              "1  7475328  2010-01-01 00:02:00        561     4575   $14.57   \n",
              "2  7475329  2010-01-01 00:02:00       1129      102   $80.00   \n",
              "3  7475331  2010-01-01 00:05:00        430     2860  $200.00   \n",
              "4  7475332  2010-01-01 00:06:00        848     3915   $46.41   \n",
              "\n",
              "            use_chip  merchant_id merchant_city merchant_state      zip   mcc  \\\n",
              "0  Swipe Transaction        59935        Beulah             ND  58523.0  5499   \n",
              "1  Swipe Transaction        67570    Bettendorf             IA  52722.0  5311   \n",
              "2  Swipe Transaction        27092         Vista             CA  92084.0  4829   \n",
              "3  Swipe Transaction        27092   Crown Point             IN  46307.0  4829   \n",
              "4  Swipe Transaction        13051       Harwood             MD  20776.0  5813   \n",
              "\n",
              "  errors  \n",
              "0    NaN  \n",
              "1    NaN  \n",
              "2    NaN  \n",
              "3    NaN  \n",
              "4    NaN  "
            ]
          },
          "execution_count": 9,
          "metadata": {},
          "output_type": "execute_result"
        }
      ],
      "source": [
        "df_transaction = pd.read_csv(FILE_PATH + '/transactions_data.csv')\n",
        "df_transaction.head()"
      ]
    },
    {
      "cell_type": "code",
      "execution_count": 10,
      "metadata": {
        "colab": {
          "base_uri": "https://localhost:8080/"
        },
        "id": "kYVROAKj-mTz",
        "outputId": "179c0411-279b-4a53-8045-26278a7d5c57"
      },
      "outputs": [
        {
          "name": "stdout",
          "output_type": "stream",
          "text": [
            "{'5812': 'Eating Places and Restaurants', '5541': 'Service Stations', '7996': 'Amusement Parks, Carnivals, Circuses', '5411': 'Grocery Stores, Supermarkets', '4784': 'Tolls and Bridge Fees', '4900': 'Utilities - Electric, Gas, Water, Sanitary', '5942': 'Book Stores', '5814': 'Fast Food Restaurants', '4829': 'Money Transfer', '5311': 'Department Stores', '5211': 'Lumber and Building Materials', '5310': 'Discount Stores', '3780': 'Computer Network Services', '5499': 'Miscellaneous Food Stores', '4121': 'Taxicabs and Limousines', '5300': 'Wholesale Clubs', '5719': 'Miscellaneous Home Furnishing Stores', '7832': 'Motion Picture Theaters', '5813': 'Drinking Places (Alcoholic Beverages)', '4814': 'Telecommunication Services', '5661': 'Shoe Stores', '5977': 'Cosmetic Stores', '8099': 'Medical Services', '7538': 'Automotive Service Shops', '5912': 'Drug Stores and Pharmacies', '4111': 'Local and Suburban Commuter Transportation', '5815': 'Digital Goods - Media, Books, Apps', '8021': 'Dentists and Orthodontists', '5921': 'Package Stores, Beer, Wine, Liquor', '5655': 'Sports Apparel, Riding Apparel Stores', '7230': 'Beauty and Barber Shops', '3390': 'Miscellaneous Metalwork', '7922': 'Theatrical Producers', '3722': 'Passenger Railways', '5651': 'Family Clothing Stores', '4899': 'Cable, Satellite, and Other Pay Television Services', '5251': 'Hardware Stores', '7995': 'Betting (including Lottery Tickets, Casinos)', '3596': 'Miscellaneous Machinery and Parts Manufacturing', '3730': 'Ship Chandlers', '9402': 'Postal Services - Government Only', '7801': 'Athletic Fields, Commercial Sports', '5970': 'Artist Supply Stores, Craft Shops', '5932': 'Antique Shops', '5621': \"Women's Ready-To-Wear Stores\", '7349': 'Cleaning and Maintenance Services', '4722': 'Travel Agencies', '5193': 'Florists Supplies, Nursery Stock and Flowers', '3775': 'Railroad Freight', '3684': 'Semiconductors and Related Devices', '5045': 'Computers, Computer Peripheral Equipment', '3504': 'Gardening Supplies', '7011': 'Lodging - Hotels, Motels, Resorts', '8041': 'Chiropractors', '4214': 'Motor Freight Carriers and Trucking', '6300': 'Insurance Sales, Underwriting', '8011': 'Doctors, Physicians', '3509': 'Industrial Equipment and Supplies', '7210': 'Laundry Services', '5192': 'Books, Periodicals, Newspapers', '7542': 'Car Washes', '3640': 'Lighting, Fixtures, Electrical Supplies', '7393': 'Detective Agencies, Security Services', '8111': 'Legal Services and Attorneys', '3771': 'Railroad Passenger Transport', '5732': 'Electronics Stores', '5094': 'Precious Stones and Metals', '5712': 'Furniture, Home Furnishings, and Equipment Stores', '5816': 'Digital Goods - Games', '7802': 'Recreational Sports, Clubs', '3389': 'Non-Precious Metal Services', '8043': 'Optometrists, Optical Goods and Eyeglasses', '3393': 'Heat Treating Metal Services', '3174': 'Upholstery and Drapery Stores', '3001': 'Steel Products Manufacturing', '3395': 'Welding Repair', '3058': 'Tools, Parts, Supplies Manufacturing', '8049': 'Podiatrists', '3387': 'Electroplating, Plating, Polishing Services', '4112': 'Passenger Railways', '3405': 'Ironwork', '5261': 'Lawn and Garden Supply Stores', '3144': 'Floor Covering Stores', '3132': 'Leather Goods', '3359': 'Non-Ferrous Metal Foundries', '8931': 'Accounting, Auditing, and Bookkeeping Services', '8062': 'Hospitals', '7276': 'Tax Preparation Services', '4131': 'Bus Lines', '3260': 'Pottery and Ceramics', '3256': 'Brick, Stone, and Related Materials', '3006': 'Miscellaneous Fabricated Metal Products', '7531': 'Automotive Body Repair Shops', '1711': 'Heating, Plumbing, Air Conditioning Contractors', '5947': 'Gift, Card, Novelty Stores', '3007': 'Coated and Laminated Products', '4511': 'Airlines', '3075': 'Bolt, Nut, Screw, Rivet Manufacturing', '3066': 'Miscellaneous Metals', '3005': 'Miscellaneous Metal Fabrication', '4411': 'Cruise Lines', '3000': 'Steelworks', '5533': 'Automotive Parts and Accessories Stores', '3008': 'Steel Drums and Barrels', '7549': 'Towing Services', '5941': 'Sporting Goods Stores', '5722': 'Household Appliance Stores', '3009': 'Fabricated Structural Metal Products', '5733': 'Music Stores - Musical Instruments'}\n"
          ]
        }
      ],
      "source": [
        "with open(FILE_PATH + '/mcc_codes.json', mode='r', encoding='utf-8') as f:\n",
        "    codes = json.load(f)\n",
        "    print(codes)"
      ]
    },
    {
      "cell_type": "code",
      "execution_count": 11,
      "metadata": {
        "colab": {
          "base_uri": "https://localhost:8080/",
          "height": 206
        },
        "id": "zEJ9OGQD-otj",
        "outputId": "b899762d-4174-4f8d-c8c7-042974df9e71"
      },
      "outputs": [
        {
          "data": {
            "text/html": [
              "<div>\n",
              "<style scoped>\n",
              "    .dataframe tbody tr th:only-of-type {\n",
              "        vertical-align: middle;\n",
              "    }\n",
              "\n",
              "    .dataframe tbody tr th {\n",
              "        vertical-align: top;\n",
              "    }\n",
              "\n",
              "    .dataframe thead th {\n",
              "        text-align: right;\n",
              "    }\n",
              "</style>\n",
              "<table border=\"1\" class=\"dataframe\">\n",
              "  <thead>\n",
              "    <tr style=\"text-align: right;\">\n",
              "      <th></th>\n",
              "      <th>mcc</th>\n",
              "      <th>description</th>\n",
              "    </tr>\n",
              "  </thead>\n",
              "  <tbody>\n",
              "    <tr>\n",
              "      <th>0</th>\n",
              "      <td>5812</td>\n",
              "      <td>Eating Places and Restaurants</td>\n",
              "    </tr>\n",
              "    <tr>\n",
              "      <th>1</th>\n",
              "      <td>5541</td>\n",
              "      <td>Service Stations</td>\n",
              "    </tr>\n",
              "    <tr>\n",
              "      <th>2</th>\n",
              "      <td>7996</td>\n",
              "      <td>Amusement Parks, Carnivals, Circuses</td>\n",
              "    </tr>\n",
              "    <tr>\n",
              "      <th>3</th>\n",
              "      <td>5411</td>\n",
              "      <td>Grocery Stores, Supermarkets</td>\n",
              "    </tr>\n",
              "    <tr>\n",
              "      <th>4</th>\n",
              "      <td>4784</td>\n",
              "      <td>Tolls and Bridge Fees</td>\n",
              "    </tr>\n",
              "  </tbody>\n",
              "</table>\n",
              "</div>"
            ],
            "text/plain": [
              "    mcc                           description\n",
              "0  5812         Eating Places and Restaurants\n",
              "1  5541                      Service Stations\n",
              "2  7996  Amusement Parks, Carnivals, Circuses\n",
              "3  5411          Grocery Stores, Supermarkets\n",
              "4  4784                 Tolls and Bridge Fees"
            ]
          },
          "execution_count": 11,
          "metadata": {},
          "output_type": "execute_result"
        }
      ],
      "source": [
        "df_cods = pd.DataFrame.from_dict(codes.items())\n",
        "df_cods.columns = ['mcc', 'description']\n",
        "df_cods['mcc'] = df_cods['mcc'].astype(int)\n",
        "df_cods.head()"
      ]
    },
    {
      "cell_type": "code",
      "execution_count": 12,
      "metadata": {
        "colab": {
          "base_uri": "https://localhost:8080/",
          "height": 400
        },
        "id": "VqVwP_gl-sMT",
        "outputId": "39d313e9-a457-47e8-c35e-c0af4c17bfb3"
      },
      "outputs": [
        {
          "data": {
            "text/html": [
              "<div>\n",
              "<style scoped>\n",
              "    .dataframe tbody tr th:only-of-type {\n",
              "        vertical-align: middle;\n",
              "    }\n",
              "\n",
              "    .dataframe tbody tr th {\n",
              "        vertical-align: top;\n",
              "    }\n",
              "\n",
              "    .dataframe thead th {\n",
              "        text-align: right;\n",
              "    }\n",
              "</style>\n",
              "<table border=\"1\" class=\"dataframe\">\n",
              "  <thead>\n",
              "    <tr style=\"text-align: right;\">\n",
              "      <th></th>\n",
              "      <th>id</th>\n",
              "      <th>date</th>\n",
              "      <th>client_id</th>\n",
              "      <th>card_id</th>\n",
              "      <th>amount</th>\n",
              "      <th>use_chip</th>\n",
              "      <th>merchant_id</th>\n",
              "      <th>merchant_city</th>\n",
              "      <th>merchant_state</th>\n",
              "      <th>zip</th>\n",
              "      <th>mcc</th>\n",
              "      <th>errors</th>\n",
              "      <th>description</th>\n",
              "    </tr>\n",
              "  </thead>\n",
              "  <tbody>\n",
              "    <tr>\n",
              "      <th>0</th>\n",
              "      <td>7475327</td>\n",
              "      <td>2010-01-01 00:01:00</td>\n",
              "      <td>1556</td>\n",
              "      <td>2972</td>\n",
              "      <td>$-77.00</td>\n",
              "      <td>Swipe Transaction</td>\n",
              "      <td>59935</td>\n",
              "      <td>Beulah</td>\n",
              "      <td>ND</td>\n",
              "      <td>58523.0</td>\n",
              "      <td>5499</td>\n",
              "      <td>NaN</td>\n",
              "      <td>Miscellaneous Food Stores</td>\n",
              "    </tr>\n",
              "    <tr>\n",
              "      <th>1</th>\n",
              "      <td>7475328</td>\n",
              "      <td>2010-01-01 00:02:00</td>\n",
              "      <td>561</td>\n",
              "      <td>4575</td>\n",
              "      <td>$14.57</td>\n",
              "      <td>Swipe Transaction</td>\n",
              "      <td>67570</td>\n",
              "      <td>Bettendorf</td>\n",
              "      <td>IA</td>\n",
              "      <td>52722.0</td>\n",
              "      <td>5311</td>\n",
              "      <td>NaN</td>\n",
              "      <td>Department Stores</td>\n",
              "    </tr>\n",
              "    <tr>\n",
              "      <th>2</th>\n",
              "      <td>7475329</td>\n",
              "      <td>2010-01-01 00:02:00</td>\n",
              "      <td>1129</td>\n",
              "      <td>102</td>\n",
              "      <td>$80.00</td>\n",
              "      <td>Swipe Transaction</td>\n",
              "      <td>27092</td>\n",
              "      <td>Vista</td>\n",
              "      <td>CA</td>\n",
              "      <td>92084.0</td>\n",
              "      <td>4829</td>\n",
              "      <td>NaN</td>\n",
              "      <td>Money Transfer</td>\n",
              "    </tr>\n",
              "    <tr>\n",
              "      <th>3</th>\n",
              "      <td>7475331</td>\n",
              "      <td>2010-01-01 00:05:00</td>\n",
              "      <td>430</td>\n",
              "      <td>2860</td>\n",
              "      <td>$200.00</td>\n",
              "      <td>Swipe Transaction</td>\n",
              "      <td>27092</td>\n",
              "      <td>Crown Point</td>\n",
              "      <td>IN</td>\n",
              "      <td>46307.0</td>\n",
              "      <td>4829</td>\n",
              "      <td>NaN</td>\n",
              "      <td>Money Transfer</td>\n",
              "    </tr>\n",
              "    <tr>\n",
              "      <th>4</th>\n",
              "      <td>7475332</td>\n",
              "      <td>2010-01-01 00:06:00</td>\n",
              "      <td>848</td>\n",
              "      <td>3915</td>\n",
              "      <td>$46.41</td>\n",
              "      <td>Swipe Transaction</td>\n",
              "      <td>13051</td>\n",
              "      <td>Harwood</td>\n",
              "      <td>MD</td>\n",
              "      <td>20776.0</td>\n",
              "      <td>5813</td>\n",
              "      <td>NaN</td>\n",
              "      <td>Drinking Places (Alcoholic Beverages)</td>\n",
              "    </tr>\n",
              "  </tbody>\n",
              "</table>\n",
              "</div>"
            ],
            "text/plain": [
              "        id                 date  client_id  card_id   amount  \\\n",
              "0  7475327  2010-01-01 00:01:00       1556     2972  $-77.00   \n",
              "1  7475328  2010-01-01 00:02:00        561     4575   $14.57   \n",
              "2  7475329  2010-01-01 00:02:00       1129      102   $80.00   \n",
              "3  7475331  2010-01-01 00:05:00        430     2860  $200.00   \n",
              "4  7475332  2010-01-01 00:06:00        848     3915   $46.41   \n",
              "\n",
              "            use_chip  merchant_id merchant_city merchant_state      zip   mcc  \\\n",
              "0  Swipe Transaction        59935        Beulah             ND  58523.0  5499   \n",
              "1  Swipe Transaction        67570    Bettendorf             IA  52722.0  5311   \n",
              "2  Swipe Transaction        27092         Vista             CA  92084.0  4829   \n",
              "3  Swipe Transaction        27092   Crown Point             IN  46307.0  4829   \n",
              "4  Swipe Transaction        13051       Harwood             MD  20776.0  5813   \n",
              "\n",
              "  errors                            description  \n",
              "0    NaN              Miscellaneous Food Stores  \n",
              "1    NaN                      Department Stores  \n",
              "2    NaN                         Money Transfer  \n",
              "3    NaN                         Money Transfer  \n",
              "4    NaN  Drinking Places (Alcoholic Beverages)  "
            ]
          },
          "execution_count": 12,
          "metadata": {},
          "output_type": "execute_result"
        }
      ],
      "source": [
        "df = pd.merge(df_transaction, df_cods, on='mcc', how='left')\n",
        "df.head()"
      ]
    },
    {
      "cell_type": "code",
      "execution_count": 13,
      "metadata": {
        "id": "CeDB1rUX-tPj"
      },
      "outputs": [],
      "source": [
        "del df_transaction, df_cods, codes"
      ]
    },
    {
      "cell_type": "code",
      "execution_count": 14,
      "metadata": {
        "colab": {
          "base_uri": "https://localhost:8080/",
          "height": 244
        },
        "id": "N4uGq3pC1ra0",
        "outputId": "0eb22f61-0cd8-4c31-8c28-1a569c240329"
      },
      "outputs": [
        {
          "data": {
            "text/html": [
              "<div>\n",
              "<style scoped>\n",
              "    .dataframe tbody tr th:only-of-type {\n",
              "        vertical-align: middle;\n",
              "    }\n",
              "\n",
              "    .dataframe tbody tr th {\n",
              "        vertical-align: top;\n",
              "    }\n",
              "\n",
              "    .dataframe thead th {\n",
              "        text-align: right;\n",
              "    }\n",
              "</style>\n",
              "<table border=\"1\" class=\"dataframe\">\n",
              "  <thead>\n",
              "    <tr style=\"text-align: right;\">\n",
              "      <th></th>\n",
              "      <th>card_id</th>\n",
              "      <th>client_id</th>\n",
              "      <th>card_brand</th>\n",
              "      <th>card_type</th>\n",
              "      <th>card_number</th>\n",
              "      <th>expires</th>\n",
              "      <th>cvv</th>\n",
              "      <th>has_chip</th>\n",
              "      <th>num_cards_issued</th>\n",
              "      <th>credit_limit</th>\n",
              "      <th>acct_open_date</th>\n",
              "      <th>year_pin_last_changed</th>\n",
              "      <th>card_on_dark_web</th>\n",
              "    </tr>\n",
              "  </thead>\n",
              "  <tbody>\n",
              "    <tr>\n",
              "      <th>0</th>\n",
              "      <td>4524</td>\n",
              "      <td>825</td>\n",
              "      <td>Visa</td>\n",
              "      <td>Debit</td>\n",
              "      <td>4344676511950444</td>\n",
              "      <td>12/2022</td>\n",
              "      <td>623</td>\n",
              "      <td>YES</td>\n",
              "      <td>2</td>\n",
              "      <td>$24295</td>\n",
              "      <td>09/2002</td>\n",
              "      <td>2008</td>\n",
              "      <td>No</td>\n",
              "    </tr>\n",
              "    <tr>\n",
              "      <th>1</th>\n",
              "      <td>2731</td>\n",
              "      <td>825</td>\n",
              "      <td>Visa</td>\n",
              "      <td>Debit</td>\n",
              "      <td>4956965974959986</td>\n",
              "      <td>12/2020</td>\n",
              "      <td>393</td>\n",
              "      <td>YES</td>\n",
              "      <td>2</td>\n",
              "      <td>$21968</td>\n",
              "      <td>04/2014</td>\n",
              "      <td>2014</td>\n",
              "      <td>No</td>\n",
              "    </tr>\n",
              "    <tr>\n",
              "      <th>2</th>\n",
              "      <td>3701</td>\n",
              "      <td>825</td>\n",
              "      <td>Visa</td>\n",
              "      <td>Debit</td>\n",
              "      <td>4582313478255491</td>\n",
              "      <td>02/2024</td>\n",
              "      <td>719</td>\n",
              "      <td>YES</td>\n",
              "      <td>2</td>\n",
              "      <td>$46414</td>\n",
              "      <td>07/2003</td>\n",
              "      <td>2004</td>\n",
              "      <td>No</td>\n",
              "    </tr>\n",
              "    <tr>\n",
              "      <th>3</th>\n",
              "      <td>42</td>\n",
              "      <td>825</td>\n",
              "      <td>Visa</td>\n",
              "      <td>Credit</td>\n",
              "      <td>4879494103069057</td>\n",
              "      <td>08/2024</td>\n",
              "      <td>693</td>\n",
              "      <td>NO</td>\n",
              "      <td>1</td>\n",
              "      <td>$12400</td>\n",
              "      <td>01/2003</td>\n",
              "      <td>2012</td>\n",
              "      <td>No</td>\n",
              "    </tr>\n",
              "    <tr>\n",
              "      <th>4</th>\n",
              "      <td>4659</td>\n",
              "      <td>825</td>\n",
              "      <td>Mastercard</td>\n",
              "      <td>Debit (Prepaid)</td>\n",
              "      <td>5722874738736011</td>\n",
              "      <td>03/2009</td>\n",
              "      <td>75</td>\n",
              "      <td>YES</td>\n",
              "      <td>1</td>\n",
              "      <td>$28</td>\n",
              "      <td>09/2008</td>\n",
              "      <td>2009</td>\n",
              "      <td>No</td>\n",
              "    </tr>\n",
              "  </tbody>\n",
              "</table>\n",
              "</div>"
            ],
            "text/plain": [
              "   card_id  client_id  card_brand        card_type       card_number  expires  \\\n",
              "0     4524        825        Visa            Debit  4344676511950444  12/2022   \n",
              "1     2731        825        Visa            Debit  4956965974959986  12/2020   \n",
              "2     3701        825        Visa            Debit  4582313478255491  02/2024   \n",
              "3       42        825        Visa           Credit  4879494103069057  08/2024   \n",
              "4     4659        825  Mastercard  Debit (Prepaid)  5722874738736011  03/2009   \n",
              "\n",
              "   cvv has_chip  num_cards_issued credit_limit acct_open_date  \\\n",
              "0  623      YES                 2       $24295        09/2002   \n",
              "1  393      YES                 2       $21968        04/2014   \n",
              "2  719      YES                 2       $46414        07/2003   \n",
              "3  693       NO                 1       $12400        01/2003   \n",
              "4   75      YES                 1          $28        09/2008   \n",
              "\n",
              "   year_pin_last_changed card_on_dark_web  \n",
              "0                   2008               No  \n",
              "1                   2014               No  \n",
              "2                   2004               No  \n",
              "3                   2012               No  \n",
              "4                   2009               No  "
            ]
          },
          "execution_count": 14,
          "metadata": {},
          "output_type": "execute_result"
        }
      ],
      "source": [
        "df_cards = pd.read_csv(FILE_PATH + '/cards_data.csv')\n",
        "df_cards.rename(columns={'id': 'card_id'}, inplace=True)\n",
        "df_cards.head()"
      ]
    },
    {
      "cell_type": "code",
      "execution_count": 15,
      "metadata": {
        "colab": {
          "base_uri": "https://localhost:8080/",
          "height": 382
        },
        "id": "GHtim86-13wG",
        "outputId": "92694416-f814-4ab4-b14e-da0bff6c9512"
      },
      "outputs": [
        {
          "data": {
            "text/html": [
              "<div>\n",
              "<style scoped>\n",
              "    .dataframe tbody tr th:only-of-type {\n",
              "        vertical-align: middle;\n",
              "    }\n",
              "\n",
              "    .dataframe tbody tr th {\n",
              "        vertical-align: top;\n",
              "    }\n",
              "\n",
              "    .dataframe thead th {\n",
              "        text-align: right;\n",
              "    }\n",
              "</style>\n",
              "<table border=\"1\" class=\"dataframe\">\n",
              "  <thead>\n",
              "    <tr style=\"text-align: right;\">\n",
              "      <th></th>\n",
              "      <th>client_id</th>\n",
              "      <th>current_age</th>\n",
              "      <th>retirement_age</th>\n",
              "      <th>birth_year</th>\n",
              "      <th>birth_month</th>\n",
              "      <th>gender</th>\n",
              "      <th>address</th>\n",
              "      <th>latitude</th>\n",
              "      <th>longitude</th>\n",
              "      <th>per_capita_income</th>\n",
              "      <th>yearly_income</th>\n",
              "      <th>total_debt</th>\n",
              "      <th>credit_score</th>\n",
              "      <th>num_credit_cards</th>\n",
              "    </tr>\n",
              "  </thead>\n",
              "  <tbody>\n",
              "    <tr>\n",
              "      <th>0</th>\n",
              "      <td>825</td>\n",
              "      <td>53</td>\n",
              "      <td>66</td>\n",
              "      <td>1966</td>\n",
              "      <td>11</td>\n",
              "      <td>Female</td>\n",
              "      <td>462 Rose Lane</td>\n",
              "      <td>34.15</td>\n",
              "      <td>-117.76</td>\n",
              "      <td>$29278</td>\n",
              "      <td>$59696</td>\n",
              "      <td>$127613</td>\n",
              "      <td>787</td>\n",
              "      <td>5</td>\n",
              "    </tr>\n",
              "    <tr>\n",
              "      <th>1</th>\n",
              "      <td>1746</td>\n",
              "      <td>53</td>\n",
              "      <td>68</td>\n",
              "      <td>1966</td>\n",
              "      <td>12</td>\n",
              "      <td>Female</td>\n",
              "      <td>3606 Federal Boulevard</td>\n",
              "      <td>40.76</td>\n",
              "      <td>-73.74</td>\n",
              "      <td>$37891</td>\n",
              "      <td>$77254</td>\n",
              "      <td>$191349</td>\n",
              "      <td>701</td>\n",
              "      <td>5</td>\n",
              "    </tr>\n",
              "    <tr>\n",
              "      <th>2</th>\n",
              "      <td>1718</td>\n",
              "      <td>81</td>\n",
              "      <td>67</td>\n",
              "      <td>1938</td>\n",
              "      <td>11</td>\n",
              "      <td>Female</td>\n",
              "      <td>766 Third Drive</td>\n",
              "      <td>34.02</td>\n",
              "      <td>-117.89</td>\n",
              "      <td>$22681</td>\n",
              "      <td>$33483</td>\n",
              "      <td>$196</td>\n",
              "      <td>698</td>\n",
              "      <td>5</td>\n",
              "    </tr>\n",
              "    <tr>\n",
              "      <th>3</th>\n",
              "      <td>708</td>\n",
              "      <td>63</td>\n",
              "      <td>63</td>\n",
              "      <td>1957</td>\n",
              "      <td>1</td>\n",
              "      <td>Female</td>\n",
              "      <td>3 Madison Street</td>\n",
              "      <td>40.71</td>\n",
              "      <td>-73.99</td>\n",
              "      <td>$163145</td>\n",
              "      <td>$249925</td>\n",
              "      <td>$202328</td>\n",
              "      <td>722</td>\n",
              "      <td>4</td>\n",
              "    </tr>\n",
              "    <tr>\n",
              "      <th>4</th>\n",
              "      <td>1164</td>\n",
              "      <td>43</td>\n",
              "      <td>70</td>\n",
              "      <td>1976</td>\n",
              "      <td>9</td>\n",
              "      <td>Male</td>\n",
              "      <td>9620 Valley Stream Drive</td>\n",
              "      <td>37.76</td>\n",
              "      <td>-122.44</td>\n",
              "      <td>$53797</td>\n",
              "      <td>$109687</td>\n",
              "      <td>$183855</td>\n",
              "      <td>675</td>\n",
              "      <td>1</td>\n",
              "    </tr>\n",
              "  </tbody>\n",
              "</table>\n",
              "</div>"
            ],
            "text/plain": [
              "   client_id  current_age  retirement_age  birth_year  birth_month  gender  \\\n",
              "0        825           53              66        1966           11  Female   \n",
              "1       1746           53              68        1966           12  Female   \n",
              "2       1718           81              67        1938           11  Female   \n",
              "3        708           63              63        1957            1  Female   \n",
              "4       1164           43              70        1976            9    Male   \n",
              "\n",
              "                    address  latitude  longitude per_capita_income  \\\n",
              "0             462 Rose Lane     34.15    -117.76            $29278   \n",
              "1    3606 Federal Boulevard     40.76     -73.74            $37891   \n",
              "2           766 Third Drive     34.02    -117.89            $22681   \n",
              "3          3 Madison Street     40.71     -73.99           $163145   \n",
              "4  9620 Valley Stream Drive     37.76    -122.44            $53797   \n",
              "\n",
              "  yearly_income total_debt  credit_score  num_credit_cards  \n",
              "0        $59696    $127613           787                 5  \n",
              "1        $77254    $191349           701                 5  \n",
              "2        $33483       $196           698                 5  \n",
              "3       $249925    $202328           722                 4  \n",
              "4       $109687    $183855           675                 1  "
            ]
          },
          "execution_count": 15,
          "metadata": {},
          "output_type": "execute_result"
        }
      ],
      "source": [
        "df_users = pd.read_csv(FILE_PATH + '/users_data.csv')\n",
        "df_users.rename(columns={'id': 'client_id'}, inplace=True)\n",
        "df_users.head()"
      ]
    },
    {
      "cell_type": "code",
      "execution_count": 16,
      "metadata": {
        "colab": {
          "base_uri": "https://localhost:8080/",
          "height": 206
        },
        "id": "DhRDXuxu17_W",
        "outputId": "c5bf845c-e951-4771-c2c4-51cc4a6e9183"
      },
      "outputs": [
        {
          "data": {
            "text/html": [
              "<div>\n",
              "<style scoped>\n",
              "    .dataframe tbody tr th:only-of-type {\n",
              "        vertical-align: middle;\n",
              "    }\n",
              "\n",
              "    .dataframe tbody tr th {\n",
              "        vertical-align: top;\n",
              "    }\n",
              "\n",
              "    .dataframe thead th {\n",
              "        text-align: right;\n",
              "    }\n",
              "</style>\n",
              "<table border=\"1\" class=\"dataframe\">\n",
              "  <thead>\n",
              "    <tr style=\"text-align: right;\">\n",
              "      <th></th>\n",
              "      <th>id</th>\n",
              "      <th>target</th>\n",
              "    </tr>\n",
              "  </thead>\n",
              "  <tbody>\n",
              "    <tr>\n",
              "      <th>0</th>\n",
              "      <td>10649266</td>\n",
              "      <td>No</td>\n",
              "    </tr>\n",
              "    <tr>\n",
              "      <th>1</th>\n",
              "      <td>23410063</td>\n",
              "      <td>No</td>\n",
              "    </tr>\n",
              "    <tr>\n",
              "      <th>2</th>\n",
              "      <td>9316588</td>\n",
              "      <td>No</td>\n",
              "    </tr>\n",
              "    <tr>\n",
              "      <th>3</th>\n",
              "      <td>12478022</td>\n",
              "      <td>No</td>\n",
              "    </tr>\n",
              "    <tr>\n",
              "      <th>4</th>\n",
              "      <td>9558530</td>\n",
              "      <td>No</td>\n",
              "    </tr>\n",
              "  </tbody>\n",
              "</table>\n",
              "</div>"
            ],
            "text/plain": [
              "         id target\n",
              "0  10649266     No\n",
              "1  23410063     No\n",
              "2   9316588     No\n",
              "3  12478022     No\n",
              "4   9558530     No"
            ]
          },
          "execution_count": 16,
          "metadata": {},
          "output_type": "execute_result"
        }
      ],
      "source": [
        "df_frauds = pd.read_json(FILE_PATH + '/train_fraud_labels.json').reset_index()\n",
        "df_frauds.columns = ['id', 'target']\n",
        "df_frauds.head()"
      ]
    },
    {
      "cell_type": "code",
      "execution_count": 17,
      "metadata": {
        "colab": {
          "base_uri": "https://localhost:8080/",
          "height": 178
        },
        "id": "2UagTeq_2Zjp",
        "outputId": "8b0be763-f208-411a-d12d-73c7c57d3616"
      },
      "outputs": [
        {
          "data": {
            "text/plain": [
              "target\n",
              "No     0.998505\n",
              "Yes    0.001495\n",
              "Name: proportion, dtype: float64"
            ]
          },
          "execution_count": 17,
          "metadata": {},
          "output_type": "execute_result"
        }
      ],
      "source": [
        "df_frauds['target'].value_counts(normalize=True)"
      ]
    },
    {
      "cell_type": "code",
      "execution_count": 18,
      "metadata": {
        "id": "gwfkN2659l9u"
      },
      "outputs": [],
      "source": [
        "df = pd.merge(df, df_frauds, on='id', how='left')\n",
        "del df_frauds"
      ]
    },
    {
      "cell_type": "code",
      "execution_count": 19,
      "metadata": {
        "id": "iY0tkrmS9otm"
      },
      "outputs": [
        {
          "data": {
            "text/html": [
              "<div>\n",
              "<style scoped>\n",
              "    .dataframe tbody tr th:only-of-type {\n",
              "        vertical-align: middle;\n",
              "    }\n",
              "\n",
              "    .dataframe tbody tr th {\n",
              "        vertical-align: top;\n",
              "    }\n",
              "\n",
              "    .dataframe thead th {\n",
              "        text-align: right;\n",
              "    }\n",
              "</style>\n",
              "<table border=\"1\" class=\"dataframe\">\n",
              "  <thead>\n",
              "    <tr style=\"text-align: right;\">\n",
              "      <th></th>\n",
              "      <th>id</th>\n",
              "      <th>date</th>\n",
              "      <th>client_id</th>\n",
              "      <th>card_id</th>\n",
              "      <th>amount</th>\n",
              "      <th>use_chip</th>\n",
              "      <th>merchant_id</th>\n",
              "      <th>merchant_city</th>\n",
              "      <th>merchant_state</th>\n",
              "      <th>zip</th>\n",
              "      <th>mcc</th>\n",
              "      <th>errors</th>\n",
              "      <th>description</th>\n",
              "      <th>target</th>\n",
              "    </tr>\n",
              "  </thead>\n",
              "  <tbody>\n",
              "    <tr>\n",
              "      <th>0</th>\n",
              "      <td>7475327</td>\n",
              "      <td>2010-01-01 00:01:00</td>\n",
              "      <td>1556</td>\n",
              "      <td>2972</td>\n",
              "      <td>$-77.00</td>\n",
              "      <td>Swipe Transaction</td>\n",
              "      <td>59935</td>\n",
              "      <td>Beulah</td>\n",
              "      <td>ND</td>\n",
              "      <td>58523.0</td>\n",
              "      <td>5499</td>\n",
              "      <td>NaN</td>\n",
              "      <td>Miscellaneous Food Stores</td>\n",
              "      <td>No</td>\n",
              "    </tr>\n",
              "    <tr>\n",
              "      <th>1</th>\n",
              "      <td>7475328</td>\n",
              "      <td>2010-01-01 00:02:00</td>\n",
              "      <td>561</td>\n",
              "      <td>4575</td>\n",
              "      <td>$14.57</td>\n",
              "      <td>Swipe Transaction</td>\n",
              "      <td>67570</td>\n",
              "      <td>Bettendorf</td>\n",
              "      <td>IA</td>\n",
              "      <td>52722.0</td>\n",
              "      <td>5311</td>\n",
              "      <td>NaN</td>\n",
              "      <td>Department Stores</td>\n",
              "      <td>No</td>\n",
              "    </tr>\n",
              "    <tr>\n",
              "      <th>2</th>\n",
              "      <td>7475329</td>\n",
              "      <td>2010-01-01 00:02:00</td>\n",
              "      <td>1129</td>\n",
              "      <td>102</td>\n",
              "      <td>$80.00</td>\n",
              "      <td>Swipe Transaction</td>\n",
              "      <td>27092</td>\n",
              "      <td>Vista</td>\n",
              "      <td>CA</td>\n",
              "      <td>92084.0</td>\n",
              "      <td>4829</td>\n",
              "      <td>NaN</td>\n",
              "      <td>Money Transfer</td>\n",
              "      <td>No</td>\n",
              "    </tr>\n",
              "    <tr>\n",
              "      <th>3</th>\n",
              "      <td>7475331</td>\n",
              "      <td>2010-01-01 00:05:00</td>\n",
              "      <td>430</td>\n",
              "      <td>2860</td>\n",
              "      <td>$200.00</td>\n",
              "      <td>Swipe Transaction</td>\n",
              "      <td>27092</td>\n",
              "      <td>Crown Point</td>\n",
              "      <td>IN</td>\n",
              "      <td>46307.0</td>\n",
              "      <td>4829</td>\n",
              "      <td>NaN</td>\n",
              "      <td>Money Transfer</td>\n",
              "      <td>NaN</td>\n",
              "    </tr>\n",
              "    <tr>\n",
              "      <th>4</th>\n",
              "      <td>7475332</td>\n",
              "      <td>2010-01-01 00:06:00</td>\n",
              "      <td>848</td>\n",
              "      <td>3915</td>\n",
              "      <td>$46.41</td>\n",
              "      <td>Swipe Transaction</td>\n",
              "      <td>13051</td>\n",
              "      <td>Harwood</td>\n",
              "      <td>MD</td>\n",
              "      <td>20776.0</td>\n",
              "      <td>5813</td>\n",
              "      <td>NaN</td>\n",
              "      <td>Drinking Places (Alcoholic Beverages)</td>\n",
              "      <td>No</td>\n",
              "    </tr>\n",
              "  </tbody>\n",
              "</table>\n",
              "</div>"
            ],
            "text/plain": [
              "        id                 date  client_id  card_id   amount  \\\n",
              "0  7475327  2010-01-01 00:01:00       1556     2972  $-77.00   \n",
              "1  7475328  2010-01-01 00:02:00        561     4575   $14.57   \n",
              "2  7475329  2010-01-01 00:02:00       1129      102   $80.00   \n",
              "3  7475331  2010-01-01 00:05:00        430     2860  $200.00   \n",
              "4  7475332  2010-01-01 00:06:00        848     3915   $46.41   \n",
              "\n",
              "            use_chip  merchant_id merchant_city merchant_state      zip   mcc  \\\n",
              "0  Swipe Transaction        59935        Beulah             ND  58523.0  5499   \n",
              "1  Swipe Transaction        67570    Bettendorf             IA  52722.0  5311   \n",
              "2  Swipe Transaction        27092         Vista             CA  92084.0  4829   \n",
              "3  Swipe Transaction        27092   Crown Point             IN  46307.0  4829   \n",
              "4  Swipe Transaction        13051       Harwood             MD  20776.0  5813   \n",
              "\n",
              "  errors                            description target  \n",
              "0    NaN              Miscellaneous Food Stores     No  \n",
              "1    NaN                      Department Stores     No  \n",
              "2    NaN                         Money Transfer     No  \n",
              "3    NaN                         Money Transfer    NaN  \n",
              "4    NaN  Drinking Places (Alcoholic Beverages)     No  "
            ]
          },
          "execution_count": 19,
          "metadata": {},
          "output_type": "execute_result"
        }
      ],
      "source": [
        "df.head()"
      ]
    },
    {
      "cell_type": "markdown",
      "metadata": {},
      "source": [
        "## Ajuste nos tipos de dados de Transações (df), usuários (df_users) e cartoes (df_cards)"
      ]
    },
    {
      "cell_type": "code",
      "execution_count": 20,
      "metadata": {},
      "outputs": [
        {
          "name": "stdout",
          "output_type": "stream",
          "text": [
            "<class 'pandas.core.frame.DataFrame'>\n",
            "RangeIndex: 2000 entries, 0 to 1999\n",
            "Data columns (total 14 columns):\n",
            " #   Column             Non-Null Count  Dtype  \n",
            "---  ------             --------------  -----  \n",
            " 0   client_id          2000 non-null   int64  \n",
            " 1   current_age        2000 non-null   int64  \n",
            " 2   retirement_age     2000 non-null   int64  \n",
            " 3   birth_year         2000 non-null   int64  \n",
            " 4   birth_month        2000 non-null   int64  \n",
            " 5   gender             2000 non-null   object \n",
            " 6   address            2000 non-null   object \n",
            " 7   latitude           2000 non-null   float64\n",
            " 8   longitude          2000 non-null   float64\n",
            " 9   per_capita_income  2000 non-null   object \n",
            " 10  yearly_income      2000 non-null   object \n",
            " 11  total_debt         2000 non-null   object \n",
            " 12  credit_score       2000 non-null   int64  \n",
            " 13  num_credit_cards   2000 non-null   int64  \n",
            "dtypes: float64(2), int64(7), object(5)\n",
            "memory usage: 218.9+ KB\n"
          ]
        }
      ],
      "source": [
        "df_users.info()"
      ]
    },
    {
      "cell_type": "code",
      "execution_count": 21,
      "metadata": {},
      "outputs": [
        {
          "name": "stdout",
          "output_type": "stream",
          "text": [
            "<class 'pandas.core.frame.DataFrame'>\n",
            "RangeIndex: 6146 entries, 0 to 6145\n",
            "Data columns (total 13 columns):\n",
            " #   Column                 Non-Null Count  Dtype \n",
            "---  ------                 --------------  ----- \n",
            " 0   card_id                6146 non-null   int64 \n",
            " 1   client_id              6146 non-null   int64 \n",
            " 2   card_brand             6146 non-null   object\n",
            " 3   card_type              6146 non-null   object\n",
            " 4   card_number            6146 non-null   int64 \n",
            " 5   expires                6146 non-null   object\n",
            " 6   cvv                    6146 non-null   int64 \n",
            " 7   has_chip               6146 non-null   object\n",
            " 8   num_cards_issued       6146 non-null   int64 \n",
            " 9   credit_limit           6146 non-null   object\n",
            " 10  acct_open_date         6146 non-null   object\n",
            " 11  year_pin_last_changed  6146 non-null   int64 \n",
            " 12  card_on_dark_web       6146 non-null   object\n",
            "dtypes: int64(6), object(7)\n",
            "memory usage: 624.3+ KB\n"
          ]
        }
      ],
      "source": [
        "df_cards.info()"
      ]
    },
    {
      "cell_type": "code",
      "execution_count": 22,
      "metadata": {},
      "outputs": [
        {
          "name": "stdout",
          "output_type": "stream",
          "text": [
            "<class 'pandas.core.frame.DataFrame'>\n",
            "RangeIndex: 13305915 entries, 0 to 13305914\n",
            "Data columns (total 14 columns):\n",
            " #   Column          Dtype  \n",
            "---  ------          -----  \n",
            " 0   id              int64  \n",
            " 1   date            object \n",
            " 2   client_id       int64  \n",
            " 3   card_id         int64  \n",
            " 4   amount          object \n",
            " 5   use_chip        object \n",
            " 6   merchant_id     int64  \n",
            " 7   merchant_city   object \n",
            " 8   merchant_state  object \n",
            " 9   zip             float64\n",
            " 10  mcc             int64  \n",
            " 11  errors          object \n",
            " 12  description     object \n",
            " 13  target          object \n",
            "dtypes: float64(1), int64(5), object(8)\n",
            "memory usage: 1.4+ GB\n"
          ]
        }
      ],
      "source": [
        "df.info()"
      ]
    },
    {
      "cell_type": "code",
      "execution_count": 23,
      "metadata": {},
      "outputs": [],
      "source": [
        "df['date'] = pd.to_datetime(df['date'])"
      ]
    },
    {
      "cell_type": "code",
      "execution_count": 24,
      "metadata": {},
      "outputs": [],
      "source": [
        "def format_value_decimal(value_decimal: str|float) -> float:\n",
        "    return float(str(value_decimal).replace('$', ''))"
      ]
    },
    {
      "cell_type": "code",
      "execution_count": 25,
      "metadata": {},
      "outputs": [],
      "source": [
        "df['amount'] = df['amount'].apply(format_value_decimal)\n",
        "df['mcc'] =  df['mcc'].apply(str)"
      ]
    },
    {
      "cell_type": "code",
      "execution_count": 26,
      "metadata": {},
      "outputs": [],
      "source": [
        "df_users['per_capita_income'] = df_users['per_capita_income'].apply(format_value_decimal)\n",
        "df_users['yearly_income'] = df_users['yearly_income'].apply(format_value_decimal)\n",
        "df_users['total_debt'] = df_users['total_debt'].apply(format_value_decimal)"
      ]
    },
    {
      "cell_type": "code",
      "execution_count": 27,
      "metadata": {},
      "outputs": [],
      "source": [
        "df_cards['credit_limit'] = df_cards['credit_limit'].apply(format_value_decimal)"
      ]
    },
    {
      "cell_type": "code",
      "execution_count": 28,
      "metadata": {},
      "outputs": [
        {
          "name": "stdout",
          "output_type": "stream",
          "text": [
            "<class 'pandas.core.frame.DataFrame'>\n",
            "RangeIndex: 13305915 entries, 0 to 13305914\n",
            "Data columns (total 14 columns):\n",
            " #   Column          Dtype         \n",
            "---  ------          -----         \n",
            " 0   id              int64         \n",
            " 1   date            datetime64[ns]\n",
            " 2   client_id       int64         \n",
            " 3   card_id         int64         \n",
            " 4   amount          float64       \n",
            " 5   use_chip        object        \n",
            " 6   merchant_id     int64         \n",
            " 7   merchant_city   object        \n",
            " 8   merchant_state  object        \n",
            " 9   zip             float64       \n",
            " 10  mcc             object        \n",
            " 11  errors          object        \n",
            " 12  description     object        \n",
            " 13  target          object        \n",
            "dtypes: datetime64[ns](1), float64(2), int64(4), object(7)\n",
            "memory usage: 1.4+ GB\n"
          ]
        }
      ],
      "source": [
        "df.info()"
      ]
    },
    {
      "cell_type": "code",
      "execution_count": 29,
      "metadata": {},
      "outputs": [
        {
          "name": "stdout",
          "output_type": "stream",
          "text": [
            "<class 'pandas.core.frame.DataFrame'>\n",
            "RangeIndex: 2000 entries, 0 to 1999\n",
            "Data columns (total 14 columns):\n",
            " #   Column             Non-Null Count  Dtype  \n",
            "---  ------             --------------  -----  \n",
            " 0   client_id          2000 non-null   int64  \n",
            " 1   current_age        2000 non-null   int64  \n",
            " 2   retirement_age     2000 non-null   int64  \n",
            " 3   birth_year         2000 non-null   int64  \n",
            " 4   birth_month        2000 non-null   int64  \n",
            " 5   gender             2000 non-null   object \n",
            " 6   address            2000 non-null   object \n",
            " 7   latitude           2000 non-null   float64\n",
            " 8   longitude          2000 non-null   float64\n",
            " 9   per_capita_income  2000 non-null   float64\n",
            " 10  yearly_income      2000 non-null   float64\n",
            " 11  total_debt         2000 non-null   float64\n",
            " 12  credit_score       2000 non-null   int64  \n",
            " 13  num_credit_cards   2000 non-null   int64  \n",
            "dtypes: float64(5), int64(7), object(2)\n",
            "memory usage: 218.9+ KB\n"
          ]
        }
      ],
      "source": [
        "df_users.info()"
      ]
    },
    {
      "cell_type": "code",
      "execution_count": 30,
      "metadata": {},
      "outputs": [
        {
          "data": {
            "text/plain": [
              "target\n",
              "No     8901631\n",
              "NaN    4390952\n",
              "Yes      13332\n",
              "Name: count, dtype: int64"
            ]
          },
          "execution_count": 30,
          "metadata": {},
          "output_type": "execute_result"
        }
      ],
      "source": [
        "df['target'].value_counts(dropna=False)"
      ]
    },
    {
      "cell_type": "code",
      "execution_count": 31,
      "metadata": {},
      "outputs": [
        {
          "data": {
            "text/plain": [
              "target\n",
              "No     8901631\n",
              "Yes      13332\n",
              "Name: count, dtype: int64"
            ]
          },
          "execution_count": 31,
          "metadata": {},
          "output_type": "execute_result"
        }
      ],
      "source": [
        "df.query('not target.isna()')['target'].value_counts(dropna=False)"
      ]
    },
    {
      "cell_type": "code",
      "execution_count": 32,
      "metadata": {},
      "outputs": [],
      "source": [
        "df.query('not target.isna()', inplace=True)"
      ]
    },
    {
      "cell_type": "markdown",
      "metadata": {},
      "source": [
        "## Segmentação de dados (treino, teste, validação)"
      ]
    },
    {
      "cell_type": "code",
      "execution_count": 33,
      "metadata": {},
      "outputs": [
        {
          "data": {
            "text/plain": [
              "Timestamp('2018-03-21 02:57:24.000000256')"
            ]
          },
          "execution_count": 33,
          "metadata": {},
          "output_type": "execute_result"
        }
      ],
      "source": [
        "limit_train_test_date = df.sort_values(by='date', ascending=True).query('target == \"Yes\"')['date'].quantile(0.8)\n",
        "limit_train_test_date"
      ]
    },
    {
      "cell_type": "code",
      "execution_count": 34,
      "metadata": {},
      "outputs": [
        {
          "data": {
            "text/plain": [
              "(1509593, 14)"
            ]
          },
          "execution_count": 34,
          "metadata": {},
          "output_type": "execute_result"
        }
      ],
      "source": [
        "df_vadalite_date = df.sort_values(by='date', ascending=True).query('date > @limit_train_test_date')\n",
        "df_vadalite_date.shape"
      ]
    },
    {
      "cell_type": "code",
      "execution_count": 35,
      "metadata": {},
      "outputs": [
        {
          "data": {
            "text/plain": [
              "target\n",
              "No     0.998233\n",
              "Yes    0.001767\n",
              "Name: proportion, dtype: float64"
            ]
          },
          "execution_count": 35,
          "metadata": {},
          "output_type": "execute_result"
        }
      ],
      "source": [
        "df_vadalite_date['target'].value_counts(normalize=True)"
      ]
    },
    {
      "cell_type": "code",
      "execution_count": 36,
      "metadata": {},
      "outputs": [
        {
          "data": {
            "text/plain": [
              "(7405370, 14)"
            ]
          },
          "execution_count": 36,
          "metadata": {},
          "output_type": "execute_result"
        }
      ],
      "source": [
        "df_train_test_date = df.sort_values(by='date', ascending=True).query('date <= @limit_train_test_date')\n",
        "df_train_test_date.shape"
      ]
    },
    {
      "cell_type": "code",
      "execution_count": 37,
      "metadata": {},
      "outputs": [
        {
          "data": {
            "text/plain": [
              "target\n",
              "No     0.99856\n",
              "Yes    0.00144\n",
              "Name: proportion, dtype: float64"
            ]
          },
          "execution_count": 37,
          "metadata": {},
          "output_type": "execute_result"
        }
      ],
      "source": [
        "df_train_test_date['target'].value_counts(normalize=True)"
      ]
    },
    {
      "cell_type": "code",
      "execution_count": 38,
      "metadata": {},
      "outputs": [
        {
          "data": {
            "text/plain": [
              "(1207, 14)"
            ]
          },
          "execution_count": 38,
          "metadata": {},
          "output_type": "execute_result"
        }
      ],
      "source": [
        "df_user_validation = df_users[df_users['client_id'].isin(df_vadalite_date['client_id'].values)]\n",
        "df_user_validation.shape"
      ]
    },
    {
      "cell_type": "code",
      "execution_count": 39,
      "metadata": {},
      "outputs": [
        {
          "data": {
            "text/plain": [
              "(1219, 14)"
            ]
          },
          "execution_count": 39,
          "metadata": {},
          "output_type": "execute_result"
        }
      ],
      "source": [
        "df_user_train_test = df_users[df_users['client_id'].isin(df_train_test_date['client_id'].values)]\n",
        "df_user_train_test.shape"
      ]
    },
    {
      "cell_type": "code",
      "execution_count": 40,
      "metadata": {},
      "outputs": [
        {
          "data": {
            "text/plain": [
              "(3525, 13)"
            ]
          },
          "execution_count": 40,
          "metadata": {},
          "output_type": "execute_result"
        }
      ],
      "source": [
        "df_cards_validation = df_cards[df_cards['card_id'].isin(df_vadalite_date['card_id'])]\n",
        "df_cards_validation.shape"
      ]
    },
    {
      "cell_type": "code",
      "execution_count": 41,
      "metadata": {},
      "outputs": [
        {
          "data": {
            "text/plain": [
              "(3976, 13)"
            ]
          },
          "execution_count": 41,
          "metadata": {},
          "output_type": "execute_result"
        }
      ],
      "source": [
        "df_cards_train_test = df_cards[df_cards['card_id'].isin(df_train_test_date['card_id'])]\n",
        "df_cards_train_test.shape"
      ]
    },
    {
      "cell_type": "code",
      "execution_count": 42,
      "metadata": {},
      "outputs": [],
      "source": [
        "del df, df_users, df_cards"
      ]
    },
    {
      "cell_type": "code",
      "execution_count": 43,
      "metadata": {},
      "outputs": [
        {
          "data": {
            "text/plain": [
              "(7405370, 38)"
            ]
          },
          "execution_count": 43,
          "metadata": {},
          "output_type": "execute_result"
        }
      ],
      "source": [
        "df_train_test = df_train_test_date \\\n",
        "    .merge(df_user_train_test, how='left', on=['client_id']) \\\n",
        "    .merge(df_cards_train_test, how='left', on=['card_id', 'client_id'])\n",
        "df_train_test.shape"
      ]
    },
    {
      "cell_type": "code",
      "execution_count": 44,
      "metadata": {},
      "outputs": [],
      "source": [
        "df_train_test.to_csv('./database/train_test_data.csv', sep=';', index=False)"
      ]
    },
    {
      "cell_type": "code",
      "execution_count": 45,
      "metadata": {},
      "outputs": [],
      "source": [
        "del df_train_test"
      ]
    },
    {
      "cell_type": "code",
      "execution_count": 46,
      "metadata": {},
      "outputs": [],
      "source": [
        "del df_train_test_date, df_user_train_test, df_cards_train_test"
      ]
    },
    {
      "cell_type": "code",
      "execution_count": 47,
      "metadata": {},
      "outputs": [
        {
          "data": {
            "text/plain": [
              "(1509593, 38)"
            ]
          },
          "execution_count": 47,
          "metadata": {},
          "output_type": "execute_result"
        }
      ],
      "source": [
        "df_validation = df_vadalite_date \\\n",
        "    .merge(df_user_validation, how='left', on=['client_id']) \\\n",
        "    .merge(df_cards_validation, how='left', on=['card_id', 'client_id'])\n",
        "df_validation.shape"
      ]
    },
    {
      "cell_type": "code",
      "execution_count": 48,
      "metadata": {},
      "outputs": [],
      "source": [
        "del df_vadalite_date, df_user_validation, df_cards_validation"
      ]
    },
    {
      "cell_type": "code",
      "execution_count": 49,
      "metadata": {},
      "outputs": [],
      "source": [
        "df_validation.to_csv('./database/validation_data.csv', sep=';', index=False)"
      ]
    },
    {
      "cell_type": "code",
      "execution_count": 50,
      "metadata": {},
      "outputs": [],
      "source": [
        "del df_validation"
      ]
    },
    {
      "cell_type": "markdown",
      "metadata": {},
      "source": [
        "## Análise dos dados de Treino/Teste"
      ]
    },
    {
      "cell_type": "code",
      "execution_count": 102,
      "metadata": {},
      "outputs": [],
      "source": [
        "import tqdm\n",
        "import prince\n",
        "import numpy as np\n",
        "import pandas as pd\n",
        "import seaborn as sns\n",
        "import scipy.stats as stats\n",
        "from itertools import combinations\n",
        "from matplotlib import pyplot as plt\n",
        "from scipy.stats import chi2_contingency\n",
        "from statsmodels.tsa.seasonal import seasonal_decompose"
      ]
    },
    {
      "cell_type": "code",
      "execution_count": 2,
      "metadata": {},
      "outputs": [],
      "source": [
        "tqdm.tqdm.pandas()\n",
        "pd.set_option('display.max_columns', None)"
      ]
    },
    {
      "cell_type": "code",
      "execution_count": 3,
      "metadata": {},
      "outputs": [
        {
          "data": {
            "text/html": [
              "<div>\n",
              "<style scoped>\n",
              "    .dataframe tbody tr th:only-of-type {\n",
              "        vertical-align: middle;\n",
              "    }\n",
              "\n",
              "    .dataframe tbody tr th {\n",
              "        vertical-align: top;\n",
              "    }\n",
              "\n",
              "    .dataframe thead th {\n",
              "        text-align: right;\n",
              "    }\n",
              "</style>\n",
              "<table border=\"1\" class=\"dataframe\">\n",
              "  <thead>\n",
              "    <tr style=\"text-align: right;\">\n",
              "      <th></th>\n",
              "      <th>id</th>\n",
              "      <th>date</th>\n",
              "      <th>client_id</th>\n",
              "      <th>card_id</th>\n",
              "      <th>amount</th>\n",
              "      <th>use_chip</th>\n",
              "      <th>merchant_id</th>\n",
              "      <th>merchant_city</th>\n",
              "      <th>merchant_state</th>\n",
              "      <th>zip</th>\n",
              "      <th>mcc</th>\n",
              "      <th>errors</th>\n",
              "      <th>description</th>\n",
              "      <th>target</th>\n",
              "      <th>current_age</th>\n",
              "      <th>retirement_age</th>\n",
              "      <th>birth_year</th>\n",
              "      <th>birth_month</th>\n",
              "      <th>gender</th>\n",
              "      <th>address</th>\n",
              "      <th>latitude</th>\n",
              "      <th>longitude</th>\n",
              "      <th>per_capita_income</th>\n",
              "      <th>yearly_income</th>\n",
              "      <th>total_debt</th>\n",
              "      <th>credit_score</th>\n",
              "      <th>num_credit_cards</th>\n",
              "      <th>card_brand</th>\n",
              "      <th>card_type</th>\n",
              "      <th>card_number</th>\n",
              "      <th>expires</th>\n",
              "      <th>cvv</th>\n",
              "      <th>has_chip</th>\n",
              "      <th>num_cards_issued</th>\n",
              "      <th>credit_limit</th>\n",
              "      <th>acct_open_date</th>\n",
              "      <th>year_pin_last_changed</th>\n",
              "      <th>card_on_dark_web</th>\n",
              "    </tr>\n",
              "  </thead>\n",
              "  <tbody>\n",
              "    <tr>\n",
              "      <th>0</th>\n",
              "      <td>7475327</td>\n",
              "      <td>2010-01-01 00:01:00</td>\n",
              "      <td>1556</td>\n",
              "      <td>2972</td>\n",
              "      <td>-77.00</td>\n",
              "      <td>Swipe Transaction</td>\n",
              "      <td>59935</td>\n",
              "      <td>Beulah</td>\n",
              "      <td>ND</td>\n",
              "      <td>58523.0</td>\n",
              "      <td>5499</td>\n",
              "      <td>NaN</td>\n",
              "      <td>Miscellaneous Food Stores</td>\n",
              "      <td>No</td>\n",
              "      <td>30</td>\n",
              "      <td>67</td>\n",
              "      <td>1989</td>\n",
              "      <td>7</td>\n",
              "      <td>Female</td>\n",
              "      <td>594 Mountain View Street</td>\n",
              "      <td>46.80</td>\n",
              "      <td>-100.76</td>\n",
              "      <td>23679.0</td>\n",
              "      <td>48277.0</td>\n",
              "      <td>110153.0</td>\n",
              "      <td>740</td>\n",
              "      <td>4</td>\n",
              "      <td>Mastercard</td>\n",
              "      <td>Debit (Prepaid)</td>\n",
              "      <td>5497590243197280</td>\n",
              "      <td>2022-07-01</td>\n",
              "      <td>306</td>\n",
              "      <td>YES</td>\n",
              "      <td>2</td>\n",
              "      <td>55.0</td>\n",
              "      <td>2008-05-01</td>\n",
              "      <td>2008</td>\n",
              "      <td>No</td>\n",
              "    </tr>\n",
              "    <tr>\n",
              "      <th>1</th>\n",
              "      <td>7475328</td>\n",
              "      <td>2010-01-01 00:02:00</td>\n",
              "      <td>561</td>\n",
              "      <td>4575</td>\n",
              "      <td>14.57</td>\n",
              "      <td>Swipe Transaction</td>\n",
              "      <td>67570</td>\n",
              "      <td>Bettendorf</td>\n",
              "      <td>IA</td>\n",
              "      <td>52722.0</td>\n",
              "      <td>5311</td>\n",
              "      <td>NaN</td>\n",
              "      <td>Department Stores</td>\n",
              "      <td>No</td>\n",
              "      <td>48</td>\n",
              "      <td>67</td>\n",
              "      <td>1971</td>\n",
              "      <td>6</td>\n",
              "      <td>Male</td>\n",
              "      <td>604 Pine Street</td>\n",
              "      <td>40.80</td>\n",
              "      <td>-91.12</td>\n",
              "      <td>18076.0</td>\n",
              "      <td>36853.0</td>\n",
              "      <td>112139.0</td>\n",
              "      <td>834</td>\n",
              "      <td>5</td>\n",
              "      <td>Mastercard</td>\n",
              "      <td>Credit</td>\n",
              "      <td>5175842699412235</td>\n",
              "      <td>2024-12-01</td>\n",
              "      <td>438</td>\n",
              "      <td>YES</td>\n",
              "      <td>1</td>\n",
              "      <td>9100.0</td>\n",
              "      <td>2005-09-01</td>\n",
              "      <td>2015</td>\n",
              "      <td>No</td>\n",
              "    </tr>\n",
              "    <tr>\n",
              "      <th>2</th>\n",
              "      <td>7475329</td>\n",
              "      <td>2010-01-01 00:02:00</td>\n",
              "      <td>1129</td>\n",
              "      <td>102</td>\n",
              "      <td>80.00</td>\n",
              "      <td>Swipe Transaction</td>\n",
              "      <td>27092</td>\n",
              "      <td>Vista</td>\n",
              "      <td>CA</td>\n",
              "      <td>92084.0</td>\n",
              "      <td>4829</td>\n",
              "      <td>NaN</td>\n",
              "      <td>Money Transfer</td>\n",
              "      <td>No</td>\n",
              "      <td>49</td>\n",
              "      <td>65</td>\n",
              "      <td>1970</td>\n",
              "      <td>4</td>\n",
              "      <td>Male</td>\n",
              "      <td>2379 Forest Lane</td>\n",
              "      <td>33.18</td>\n",
              "      <td>-117.29</td>\n",
              "      <td>16894.0</td>\n",
              "      <td>34449.0</td>\n",
              "      <td>36540.0</td>\n",
              "      <td>686</td>\n",
              "      <td>3</td>\n",
              "      <td>Mastercard</td>\n",
              "      <td>Debit</td>\n",
              "      <td>5874992802287595</td>\n",
              "      <td>2020-05-01</td>\n",
              "      <td>256</td>\n",
              "      <td>YES</td>\n",
              "      <td>1</td>\n",
              "      <td>14802.0</td>\n",
              "      <td>2006-01-01</td>\n",
              "      <td>2008</td>\n",
              "      <td>No</td>\n",
              "    </tr>\n",
              "    <tr>\n",
              "      <th>3</th>\n",
              "      <td>7475332</td>\n",
              "      <td>2010-01-01 00:06:00</td>\n",
              "      <td>848</td>\n",
              "      <td>3915</td>\n",
              "      <td>46.41</td>\n",
              "      <td>Swipe Transaction</td>\n",
              "      <td>13051</td>\n",
              "      <td>Harwood</td>\n",
              "      <td>MD</td>\n",
              "      <td>20776.0</td>\n",
              "      <td>5813</td>\n",
              "      <td>NaN</td>\n",
              "      <td>Drinking Places (Alcoholic Beverages)</td>\n",
              "      <td>No</td>\n",
              "      <td>51</td>\n",
              "      <td>69</td>\n",
              "      <td>1968</td>\n",
              "      <td>5</td>\n",
              "      <td>Male</td>\n",
              "      <td>166 River Drive</td>\n",
              "      <td>38.86</td>\n",
              "      <td>-76.60</td>\n",
              "      <td>33529.0</td>\n",
              "      <td>68362.0</td>\n",
              "      <td>96182.0</td>\n",
              "      <td>711</td>\n",
              "      <td>2</td>\n",
              "      <td>Visa</td>\n",
              "      <td>Debit</td>\n",
              "      <td>4354185735186651</td>\n",
              "      <td>2020-01-01</td>\n",
              "      <td>120</td>\n",
              "      <td>YES</td>\n",
              "      <td>1</td>\n",
              "      <td>19113.0</td>\n",
              "      <td>2009-07-01</td>\n",
              "      <td>2014</td>\n",
              "      <td>No</td>\n",
              "    </tr>\n",
              "    <tr>\n",
              "      <th>4</th>\n",
              "      <td>7475333</td>\n",
              "      <td>2010-01-01 00:07:00</td>\n",
              "      <td>1807</td>\n",
              "      <td>165</td>\n",
              "      <td>4.81</td>\n",
              "      <td>Swipe Transaction</td>\n",
              "      <td>20519</td>\n",
              "      <td>Bronx</td>\n",
              "      <td>NY</td>\n",
              "      <td>10464.0</td>\n",
              "      <td>5942</td>\n",
              "      <td>NaN</td>\n",
              "      <td>Book Stores</td>\n",
              "      <td>No</td>\n",
              "      <td>47</td>\n",
              "      <td>65</td>\n",
              "      <td>1972</td>\n",
              "      <td>12</td>\n",
              "      <td>Female</td>\n",
              "      <td>14780 Plum Lane</td>\n",
              "      <td>40.84</td>\n",
              "      <td>-73.87</td>\n",
              "      <td>25537.0</td>\n",
              "      <td>52065.0</td>\n",
              "      <td>98613.0</td>\n",
              "      <td>828</td>\n",
              "      <td>5</td>\n",
              "      <td>Mastercard</td>\n",
              "      <td>Debit (Prepaid)</td>\n",
              "      <td>5207231566469664</td>\n",
              "      <td>2014-03-01</td>\n",
              "      <td>198</td>\n",
              "      <td>YES</td>\n",
              "      <td>1</td>\n",
              "      <td>89.0</td>\n",
              "      <td>2008-01-01</td>\n",
              "      <td>2015</td>\n",
              "      <td>No</td>\n",
              "    </tr>\n",
              "  </tbody>\n",
              "</table>\n",
              "</div>"
            ],
            "text/plain": [
              "        id                date  client_id  card_id  amount           use_chip  \\\n",
              "0  7475327 2010-01-01 00:01:00       1556     2972  -77.00  Swipe Transaction   \n",
              "1  7475328 2010-01-01 00:02:00        561     4575   14.57  Swipe Transaction   \n",
              "2  7475329 2010-01-01 00:02:00       1129      102   80.00  Swipe Transaction   \n",
              "3  7475332 2010-01-01 00:06:00        848     3915   46.41  Swipe Transaction   \n",
              "4  7475333 2010-01-01 00:07:00       1807      165    4.81  Swipe Transaction   \n",
              "\n",
              "   merchant_id merchant_city merchant_state      zip   mcc errors  \\\n",
              "0        59935        Beulah             ND  58523.0  5499    NaN   \n",
              "1        67570    Bettendorf             IA  52722.0  5311    NaN   \n",
              "2        27092         Vista             CA  92084.0  4829    NaN   \n",
              "3        13051       Harwood             MD  20776.0  5813    NaN   \n",
              "4        20519         Bronx             NY  10464.0  5942    NaN   \n",
              "\n",
              "                             description target  current_age  retirement_age  \\\n",
              "0              Miscellaneous Food Stores     No           30              67   \n",
              "1                      Department Stores     No           48              67   \n",
              "2                         Money Transfer     No           49              65   \n",
              "3  Drinking Places (Alcoholic Beverages)     No           51              69   \n",
              "4                            Book Stores     No           47              65   \n",
              "\n",
              "   birth_year  birth_month  gender                   address  latitude  \\\n",
              "0        1989            7  Female  594 Mountain View Street     46.80   \n",
              "1        1971            6    Male           604 Pine Street     40.80   \n",
              "2        1970            4    Male          2379 Forest Lane     33.18   \n",
              "3        1968            5    Male           166 River Drive     38.86   \n",
              "4        1972           12  Female           14780 Plum Lane     40.84   \n",
              "\n",
              "   longitude  per_capita_income  yearly_income  total_debt  credit_score  \\\n",
              "0    -100.76            23679.0        48277.0    110153.0           740   \n",
              "1     -91.12            18076.0        36853.0    112139.0           834   \n",
              "2    -117.29            16894.0        34449.0     36540.0           686   \n",
              "3     -76.60            33529.0        68362.0     96182.0           711   \n",
              "4     -73.87            25537.0        52065.0     98613.0           828   \n",
              "\n",
              "   num_credit_cards  card_brand        card_type       card_number    expires  \\\n",
              "0                 4  Mastercard  Debit (Prepaid)  5497590243197280 2022-07-01   \n",
              "1                 5  Mastercard           Credit  5175842699412235 2024-12-01   \n",
              "2                 3  Mastercard            Debit  5874992802287595 2020-05-01   \n",
              "3                 2        Visa            Debit  4354185735186651 2020-01-01   \n",
              "4                 5  Mastercard  Debit (Prepaid)  5207231566469664 2014-03-01   \n",
              "\n",
              "   cvv has_chip  num_cards_issued  credit_limit acct_open_date  \\\n",
              "0  306      YES                 2          55.0     2008-05-01   \n",
              "1  438      YES                 1        9100.0     2005-09-01   \n",
              "2  256      YES                 1       14802.0     2006-01-01   \n",
              "3  120      YES                 1       19113.0     2009-07-01   \n",
              "4  198      YES                 1          89.0     2008-01-01   \n",
              "\n",
              "   year_pin_last_changed card_on_dark_web  \n",
              "0                   2008               No  \n",
              "1                   2015               No  \n",
              "2                   2008               No  \n",
              "3                   2014               No  \n",
              "4                   2015               No  "
            ]
          },
          "execution_count": 3,
          "metadata": {},
          "output_type": "execute_result"
        }
      ],
      "source": [
        "df_train_test = pd.read_csv('./database/train_test_data.csv', sep=';')\n",
        "df_train_test['date'] = pd.to_datetime(df_train_test['date'])\n",
        "df_train_test['expires'] = pd.to_datetime(df_train_test['expires'], format='%m/%Y')\n",
        "df_train_test['acct_open_date'] = pd.to_datetime(df_train_test['acct_open_date'], format='%m/%Y')\n",
        "df_train_test.head()"
      ]
    },
    {
      "cell_type": "code",
      "execution_count": 4,
      "metadata": {},
      "outputs": [
        {
          "data": {
            "text/plain": [
              "(7405370, 38)"
            ]
          },
          "execution_count": 4,
          "metadata": {},
          "output_type": "execute_result"
        }
      ],
      "source": [
        "df_train_test.shape"
      ]
    },
    {
      "cell_type": "code",
      "execution_count": 5,
      "metadata": {},
      "outputs": [
        {
          "data": {
            "text/plain": [
              "target\n",
              "No     7394705\n",
              "Yes      10665\n",
              "Name: count, dtype: int64"
            ]
          },
          "execution_count": 5,
          "metadata": {},
          "output_type": "execute_result"
        }
      ],
      "source": [
        "df_train_test['target'].value_counts()"
      ]
    },
    {
      "cell_type": "code",
      "execution_count": 6,
      "metadata": {},
      "outputs": [],
      "source": [
        "df_train_test.drop(columns=['client_id', 'card_id', 'address', 'cvv', 'merchant_id', 'zip', 'card_number'], inplace=True, errors='ignore')"
      ]
    },
    {
      "cell_type": "code",
      "execution_count": 7,
      "metadata": {},
      "outputs": [
        {
          "data": {
            "text/html": [
              "<div>\n",
              "<style scoped>\n",
              "    .dataframe tbody tr th:only-of-type {\n",
              "        vertical-align: middle;\n",
              "    }\n",
              "\n",
              "    .dataframe tbody tr th {\n",
              "        vertical-align: top;\n",
              "    }\n",
              "\n",
              "    .dataframe thead th {\n",
              "        text-align: right;\n",
              "    }\n",
              "</style>\n",
              "<table border=\"1\" class=\"dataframe\">\n",
              "  <thead>\n",
              "    <tr style=\"text-align: right;\">\n",
              "      <th></th>\n",
              "      <th>id</th>\n",
              "      <th>date</th>\n",
              "      <th>amount</th>\n",
              "      <th>use_chip</th>\n",
              "      <th>merchant_city</th>\n",
              "      <th>merchant_state</th>\n",
              "      <th>mcc</th>\n",
              "      <th>errors</th>\n",
              "      <th>description</th>\n",
              "      <th>target</th>\n",
              "      <th>current_age</th>\n",
              "      <th>retirement_age</th>\n",
              "      <th>birth_year</th>\n",
              "      <th>birth_month</th>\n",
              "      <th>gender</th>\n",
              "      <th>latitude</th>\n",
              "      <th>longitude</th>\n",
              "      <th>per_capita_income</th>\n",
              "      <th>yearly_income</th>\n",
              "      <th>total_debt</th>\n",
              "      <th>credit_score</th>\n",
              "      <th>num_credit_cards</th>\n",
              "      <th>card_brand</th>\n",
              "      <th>card_type</th>\n",
              "      <th>expires</th>\n",
              "      <th>has_chip</th>\n",
              "      <th>num_cards_issued</th>\n",
              "      <th>credit_limit</th>\n",
              "      <th>acct_open_date</th>\n",
              "      <th>year_pin_last_changed</th>\n",
              "      <th>card_on_dark_web</th>\n",
              "    </tr>\n",
              "  </thead>\n",
              "  <tbody>\n",
              "    <tr>\n",
              "      <th>4596660</th>\n",
              "      <td>15826573</td>\n",
              "      <td>2015-03-18 18:43:00</td>\n",
              "      <td>19.86</td>\n",
              "      <td>Chip Transaction</td>\n",
              "      <td>North Hollywood</td>\n",
              "      <td>CA</td>\n",
              "      <td>7832</td>\n",
              "      <td>NaN</td>\n",
              "      <td>Motion Picture Theaters</td>\n",
              "      <td>No</td>\n",
              "      <td>52</td>\n",
              "      <td>65</td>\n",
              "      <td>1967</td>\n",
              "      <td>9</td>\n",
              "      <td>Male</td>\n",
              "      <td>34.20</td>\n",
              "      <td>-118.39</td>\n",
              "      <td>15239.0</td>\n",
              "      <td>31070.0</td>\n",
              "      <td>86747.0</td>\n",
              "      <td>708</td>\n",
              "      <td>4</td>\n",
              "      <td>Mastercard</td>\n",
              "      <td>Debit</td>\n",
              "      <td>2024-10-01</td>\n",
              "      <td>YES</td>\n",
              "      <td>2</td>\n",
              "      <td>6395.0</td>\n",
              "      <td>2006-01-01</td>\n",
              "      <td>2014</td>\n",
              "      <td>No</td>\n",
              "    </tr>\n",
              "    <tr>\n",
              "      <th>3540674</th>\n",
              "      <td>13895353</td>\n",
              "      <td>2014-01-21 22:16:00</td>\n",
              "      <td>49.42</td>\n",
              "      <td>Swipe Transaction</td>\n",
              "      <td>Hudson</td>\n",
              "      <td>IL</td>\n",
              "      <td>5812</td>\n",
              "      <td>NaN</td>\n",
              "      <td>Eating Places and Restaurants</td>\n",
              "      <td>No</td>\n",
              "      <td>56</td>\n",
              "      <td>65</td>\n",
              "      <td>1963</td>\n",
              "      <td>12</td>\n",
              "      <td>Female</td>\n",
              "      <td>40.60</td>\n",
              "      <td>-88.98</td>\n",
              "      <td>28237.0</td>\n",
              "      <td>57576.0</td>\n",
              "      <td>161107.0</td>\n",
              "      <td>589</td>\n",
              "      <td>2</td>\n",
              "      <td>Mastercard</td>\n",
              "      <td>Debit</td>\n",
              "      <td>2023-10-01</td>\n",
              "      <td>YES</td>\n",
              "      <td>2</td>\n",
              "      <td>18092.0</td>\n",
              "      <td>2010-01-01</td>\n",
              "      <td>2015</td>\n",
              "      <td>No</td>\n",
              "    </tr>\n",
              "    <tr>\n",
              "      <th>1512389</th>\n",
              "      <td>10205328</td>\n",
              "      <td>2011-10-16 19:12:00</td>\n",
              "      <td>60.77</td>\n",
              "      <td>Swipe Transaction</td>\n",
              "      <td>Pearland</td>\n",
              "      <td>TX</td>\n",
              "      <td>7538</td>\n",
              "      <td>NaN</td>\n",
              "      <td>Automotive Service Shops</td>\n",
              "      <td>No</td>\n",
              "      <td>54</td>\n",
              "      <td>63</td>\n",
              "      <td>1965</td>\n",
              "      <td>5</td>\n",
              "      <td>Male</td>\n",
              "      <td>29.37</td>\n",
              "      <td>-95.45</td>\n",
              "      <td>22856.0</td>\n",
              "      <td>46603.0</td>\n",
              "      <td>57177.0</td>\n",
              "      <td>612</td>\n",
              "      <td>1</td>\n",
              "      <td>Mastercard</td>\n",
              "      <td>Debit</td>\n",
              "      <td>2023-11-01</td>\n",
              "      <td>YES</td>\n",
              "      <td>2</td>\n",
              "      <td>12224.0</td>\n",
              "      <td>2005-12-01</td>\n",
              "      <td>2006</td>\n",
              "      <td>No</td>\n",
              "    </tr>\n",
              "    <tr>\n",
              "      <th>6092435</th>\n",
              "      <td>18563953</td>\n",
              "      <td>2016-10-25 09:41:00</td>\n",
              "      <td>25.72</td>\n",
              "      <td>Online Transaction</td>\n",
              "      <td>ONLINE</td>\n",
              "      <td>NaN</td>\n",
              "      <td>4121</td>\n",
              "      <td>NaN</td>\n",
              "      <td>Taxicabs and Limousines</td>\n",
              "      <td>No</td>\n",
              "      <td>51</td>\n",
              "      <td>68</td>\n",
              "      <td>1968</td>\n",
              "      <td>5</td>\n",
              "      <td>Female</td>\n",
              "      <td>27.19</td>\n",
              "      <td>-82.49</td>\n",
              "      <td>28272.0</td>\n",
              "      <td>57646.0</td>\n",
              "      <td>127892.0</td>\n",
              "      <td>724</td>\n",
              "      <td>4</td>\n",
              "      <td>Mastercard</td>\n",
              "      <td>Debit</td>\n",
              "      <td>2021-06-01</td>\n",
              "      <td>YES</td>\n",
              "      <td>1</td>\n",
              "      <td>23016.0</td>\n",
              "      <td>2010-01-01</td>\n",
              "      <td>2010</td>\n",
              "      <td>No</td>\n",
              "    </tr>\n",
              "    <tr>\n",
              "      <th>2306869</th>\n",
              "      <td>11650041</td>\n",
              "      <td>2012-09-10 13:19:00</td>\n",
              "      <td>10.26</td>\n",
              "      <td>Swipe Transaction</td>\n",
              "      <td>Waterford</td>\n",
              "      <td>MI</td>\n",
              "      <td>5541</td>\n",
              "      <td>NaN</td>\n",
              "      <td>Service Stations</td>\n",
              "      <td>No</td>\n",
              "      <td>88</td>\n",
              "      <td>65</td>\n",
              "      <td>1932</td>\n",
              "      <td>1</td>\n",
              "      <td>Female</td>\n",
              "      <td>42.66</td>\n",
              "      <td>-83.38</td>\n",
              "      <td>24578.0</td>\n",
              "      <td>36764.0</td>\n",
              "      <td>839.0</td>\n",
              "      <td>712</td>\n",
              "      <td>8</td>\n",
              "      <td>Visa</td>\n",
              "      <td>Debit (Prepaid)</td>\n",
              "      <td>2020-09-01</td>\n",
              "      <td>YES</td>\n",
              "      <td>1</td>\n",
              "      <td>70.0</td>\n",
              "      <td>2004-12-01</td>\n",
              "      <td>2007</td>\n",
              "      <td>No</td>\n",
              "    </tr>\n",
              "  </tbody>\n",
              "</table>\n",
              "</div>"
            ],
            "text/plain": [
              "               id                date  amount            use_chip  \\\n",
              "4596660  15826573 2015-03-18 18:43:00   19.86    Chip Transaction   \n",
              "3540674  13895353 2014-01-21 22:16:00   49.42   Swipe Transaction   \n",
              "1512389  10205328 2011-10-16 19:12:00   60.77   Swipe Transaction   \n",
              "6092435  18563953 2016-10-25 09:41:00   25.72  Online Transaction   \n",
              "2306869  11650041 2012-09-10 13:19:00   10.26   Swipe Transaction   \n",
              "\n",
              "           merchant_city merchant_state   mcc errors  \\\n",
              "4596660  North Hollywood             CA  7832    NaN   \n",
              "3540674           Hudson             IL  5812    NaN   \n",
              "1512389         Pearland             TX  7538    NaN   \n",
              "6092435           ONLINE            NaN  4121    NaN   \n",
              "2306869        Waterford             MI  5541    NaN   \n",
              "\n",
              "                           description target  current_age  retirement_age  \\\n",
              "4596660        Motion Picture Theaters     No           52              65   \n",
              "3540674  Eating Places and Restaurants     No           56              65   \n",
              "1512389       Automotive Service Shops     No           54              63   \n",
              "6092435        Taxicabs and Limousines     No           51              68   \n",
              "2306869               Service Stations     No           88              65   \n",
              "\n",
              "         birth_year  birth_month  gender  latitude  longitude  \\\n",
              "4596660        1967            9    Male     34.20    -118.39   \n",
              "3540674        1963           12  Female     40.60     -88.98   \n",
              "1512389        1965            5    Male     29.37     -95.45   \n",
              "6092435        1968            5  Female     27.19     -82.49   \n",
              "2306869        1932            1  Female     42.66     -83.38   \n",
              "\n",
              "         per_capita_income  yearly_income  total_debt  credit_score  \\\n",
              "4596660            15239.0        31070.0     86747.0           708   \n",
              "3540674            28237.0        57576.0    161107.0           589   \n",
              "1512389            22856.0        46603.0     57177.0           612   \n",
              "6092435            28272.0        57646.0    127892.0           724   \n",
              "2306869            24578.0        36764.0       839.0           712   \n",
              "\n",
              "         num_credit_cards  card_brand        card_type    expires has_chip  \\\n",
              "4596660                 4  Mastercard            Debit 2024-10-01      YES   \n",
              "3540674                 2  Mastercard            Debit 2023-10-01      YES   \n",
              "1512389                 1  Mastercard            Debit 2023-11-01      YES   \n",
              "6092435                 4  Mastercard            Debit 2021-06-01      YES   \n",
              "2306869                 8        Visa  Debit (Prepaid) 2020-09-01      YES   \n",
              "\n",
              "         num_cards_issued  credit_limit acct_open_date  year_pin_last_changed  \\\n",
              "4596660                 2        6395.0     2006-01-01                   2014   \n",
              "3540674                 2       18092.0     2010-01-01                   2015   \n",
              "1512389                 2       12224.0     2005-12-01                   2006   \n",
              "6092435                 1       23016.0     2010-01-01                   2010   \n",
              "2306869                 1          70.0     2004-12-01                   2007   \n",
              "\n",
              "        card_on_dark_web  \n",
              "4596660               No  \n",
              "3540674               No  \n",
              "1512389               No  \n",
              "6092435               No  \n",
              "2306869               No  "
            ]
          },
          "execution_count": 7,
          "metadata": {},
          "output_type": "execute_result"
        }
      ],
      "source": [
        "df_train_test.sample(5)"
      ]
    },
    {
      "cell_type": "code",
      "execution_count": 8,
      "metadata": {},
      "outputs": [],
      "source": [
        "df_train_test['expire_in_months'] = (df_train_test['expires'].dt.year - df_train_test['date'].dt.year) * 12 + abs(df_train_test['expires'].dt.month - df_train_test['date'].dt.month)\n",
        "df_train_test['acct_open_date_in_months'] = (df_train_test['date'].dt.year - df_train_test['acct_open_date'].dt.year) * 12 + abs(df_train_test['date'].dt.month - df_train_test['acct_open_date'].dt.month)"
      ]
    },
    {
      "cell_type": "code",
      "execution_count": 9,
      "metadata": {},
      "outputs": [],
      "source": [
        "df_train_test.drop(columns=['expires', 'acct_open_date'], inplace=True)"
      ]
    },
    {
      "cell_type": "markdown",
      "metadata": {},
      "source": [
        "### Analise Temporal"
      ]
    },
    {
      "cell_type": "code",
      "execution_count": 89,
      "metadata": {},
      "outputs": [
        {
          "data": {
            "text/html": [
              "<div>\n",
              "<style scoped>\n",
              "    .dataframe tbody tr th:only-of-type {\n",
              "        vertical-align: middle;\n",
              "    }\n",
              "\n",
              "    .dataframe tbody tr th {\n",
              "        vertical-align: top;\n",
              "    }\n",
              "\n",
              "    .dataframe thead th {\n",
              "        text-align: right;\n",
              "    }\n",
              "</style>\n",
              "<table border=\"1\" class=\"dataframe\">\n",
              "  <thead>\n",
              "    <tr style=\"text-align: right;\">\n",
              "      <th></th>\n",
              "      <th>date</th>\n",
              "      <th>target</th>\n",
              "      <th>count</th>\n",
              "      <th>year_month</th>\n",
              "    </tr>\n",
              "  </thead>\n",
              "  <tbody>\n",
              "    <tr>\n",
              "      <th>0</th>\n",
              "      <td>2010-01-01</td>\n",
              "      <td>No</td>\n",
              "      <td>2328</td>\n",
              "      <td>2010-01</td>\n",
              "    </tr>\n",
              "    <tr>\n",
              "      <th>1</th>\n",
              "      <td>2010-01-01</td>\n",
              "      <td>Yes</td>\n",
              "      <td>1</td>\n",
              "      <td>2010-01</td>\n",
              "    </tr>\n",
              "    <tr>\n",
              "      <th>2</th>\n",
              "      <td>2010-01-02</td>\n",
              "      <td>No</td>\n",
              "      <td>1971</td>\n",
              "      <td>2010-01</td>\n",
              "    </tr>\n",
              "    <tr>\n",
              "      <th>3</th>\n",
              "      <td>2010-01-03</td>\n",
              "      <td>No</td>\n",
              "      <td>2200</td>\n",
              "      <td>2010-01</td>\n",
              "    </tr>\n",
              "    <tr>\n",
              "      <th>4</th>\n",
              "      <td>2010-01-03</td>\n",
              "      <td>Yes</td>\n",
              "      <td>1</td>\n",
              "      <td>2010-01</td>\n",
              "    </tr>\n",
              "  </tbody>\n",
              "</table>\n",
              "</div>"
            ],
            "text/plain": [
              "        date target  count year_month\n",
              "0 2010-01-01     No   2328    2010-01\n",
              "1 2010-01-01    Yes      1    2010-01\n",
              "2 2010-01-02     No   1971    2010-01\n",
              "3 2010-01-03     No   2200    2010-01\n",
              "4 2010-01-03    Yes      1    2010-01"
            ]
          },
          "execution_count": 89,
          "metadata": {},
          "output_type": "execute_result"
        }
      ],
      "source": [
        "df_date_target = df_train_test \\\n",
        "    .assign(date=df_train_test['date'].dt.date) \\\n",
        "    .groupby(by=['date'])['target'].value_counts() \\\n",
        "    .reset_index()\n",
        "df_date_target['date'] = pd.to_datetime(df_date_target['date'])\n",
        "df_date_target['year_month'] = df_date_target['date'].dt.to_period('M')\n",
        "df_date_target.head()"
      ]
    },
    {
      "cell_type": "code",
      "execution_count": 137,
      "metadata": {},
      "outputs": [
        {
          "data": {
            "text/html": [
              "<div>\n",
              "<style scoped>\n",
              "    .dataframe tbody tr th:only-of-type {\n",
              "        vertical-align: middle;\n",
              "    }\n",
              "\n",
              "    .dataframe tbody tr th {\n",
              "        vertical-align: top;\n",
              "    }\n",
              "\n",
              "    .dataframe thead th {\n",
              "        text-align: right;\n",
              "    }\n",
              "</style>\n",
              "<table border=\"1\" class=\"dataframe\">\n",
              "  <thead>\n",
              "    <tr style=\"text-align: right;\">\n",
              "      <th></th>\n",
              "      <th>year_month</th>\n",
              "      <th>non_fraud</th>\n",
              "      <th>fraud</th>\n",
              "    </tr>\n",
              "  </thead>\n",
              "  <tbody>\n",
              "    <tr>\n",
              "      <th>0</th>\n",
              "      <td>2010-01-31</td>\n",
              "      <td>67937</td>\n",
              "      <td>107</td>\n",
              "    </tr>\n",
              "    <tr>\n",
              "      <th>1</th>\n",
              "      <td>2010-02-28</td>\n",
              "      <td>62557</td>\n",
              "      <td>259</td>\n",
              "    </tr>\n",
              "    <tr>\n",
              "      <th>2</th>\n",
              "      <td>2010-03-31</td>\n",
              "      <td>68941</td>\n",
              "      <td>261</td>\n",
              "    </tr>\n",
              "    <tr>\n",
              "      <th>3</th>\n",
              "      <td>2010-04-30</td>\n",
              "      <td>66492</td>\n",
              "      <td>237</td>\n",
              "    </tr>\n",
              "    <tr>\n",
              "      <th>4</th>\n",
              "      <td>2010-05-31</td>\n",
              "      <td>69936</td>\n",
              "      <td>274</td>\n",
              "    </tr>\n",
              "    <tr>\n",
              "      <th>...</th>\n",
              "      <td>...</td>\n",
              "      <td>...</td>\n",
              "      <td>...</td>\n",
              "    </tr>\n",
              "    <tr>\n",
              "      <th>94</th>\n",
              "      <td>2017-11-30</td>\n",
              "      <td>77405</td>\n",
              "      <td>36</td>\n",
              "    </tr>\n",
              "    <tr>\n",
              "      <th>95</th>\n",
              "      <td>2017-12-31</td>\n",
              "      <td>79439</td>\n",
              "      <td>136</td>\n",
              "    </tr>\n",
              "    <tr>\n",
              "      <th>96</th>\n",
              "      <td>2018-01-31</td>\n",
              "      <td>79779</td>\n",
              "      <td>105</td>\n",
              "    </tr>\n",
              "    <tr>\n",
              "      <th>97</th>\n",
              "      <td>2018-02-28</td>\n",
              "      <td>71263</td>\n",
              "      <td>120</td>\n",
              "    </tr>\n",
              "    <tr>\n",
              "      <th>98</th>\n",
              "      <td>2018-03-31</td>\n",
              "      <td>50981</td>\n",
              "      <td>97</td>\n",
              "    </tr>\n",
              "  </tbody>\n",
              "</table>\n",
              "<p>99 rows × 3 columns</p>\n",
              "</div>"
            ],
            "text/plain": [
              "   year_month  non_fraud  fraud\n",
              "0  2010-01-31      67937    107\n",
              "1  2010-02-28      62557    259\n",
              "2  2010-03-31      68941    261\n",
              "3  2010-04-30      66492    237\n",
              "4  2010-05-31      69936    274\n",
              "..        ...        ...    ...\n",
              "94 2017-11-30      77405     36\n",
              "95 2017-12-31      79439    136\n",
              "96 2018-01-31      79779    105\n",
              "97 2018-02-28      71263    120\n",
              "98 2018-03-31      50981     97\n",
              "\n",
              "[99 rows x 3 columns]"
            ]
          },
          "execution_count": 137,
          "metadata": {},
          "output_type": "execute_result"
        }
      ],
      "source": [
        "df_pivot = df_date_target.pivot_table(index='year_month', columns='target', values='count', aggfunc='sum', fill_value=0).reset_index()\n",
        "df_pivot['year_month'] = df_pivot['year_month'].dt.to_timestamp(freq='M')\n",
        "df_pivot.rename(columns={'No': 'non_fraud', 'Yes': 'fraud'}, inplace=True)\n",
        "df_pivot.columns.name = None\n",
        "df_pivot"
      ]
    },
    {
      "cell_type": "code",
      "execution_count": 165,
      "metadata": {},
      "outputs": [
        {
          "data": {
            "image/png": "[encoded data removed]",
            "text/plain": [
              "<Figure size 1500x600 with 2 Axes>"
            ]
          },
          "metadata": {},
          "output_type": "display_data"
        }
      ],
      "source": [
        "plt.figure(figsize=(15,6))\n",
        "plt.suptitle('Analise de dados de transações válidas')\n",
        "\n",
        "plt.subplot(121)\n",
        "plt.title('Histograma de distribuição')\n",
        "sns.histplot(data=df_pivot, x='fraud')\n",
        "\n",
        "plt.subplot(122)\n",
        "plt.title('Boxplot de outliers')\n",
        "sns.boxplot(data=df_pivot, x='fraud')\n",
        "\n",
        "plt.tight_layout()\n",
        "plt.show()"
      ]
    },
    {
      "cell_type": "code",
      "execution_count": 150,
      "metadata": {},
      "outputs": [
        {
          "data": {
            "image/png": "[encoded data removed]",
            "text/plain": [
              "<Figure size 1500x600 with 2 Axes>"
            ]
          },
          "metadata": {},
          "output_type": "display_data"
        }
      ],
      "source": [
        "plt.figure(figsize=(15,6))\n",
        "plt.suptitle('Analise de dados de transações fraudulentas')\n",
        "\n",
        "plt.subplot(121)\n",
        "plt.title('Histograma de distribuição')\n",
        "sns.histplot(data=df_pivot, x='non_fraud')\n",
        "\n",
        "plt.subplot(122)\n",
        "plt.title('Boxplot de outliers')\n",
        "\n",
        "sns.boxplot(data=df_pivot, x='non_fraud')\n",
        "\n",
        "plt.tight_layout()\n",
        "plt.show()"
      ]
    },
    {
      "cell_type": "code",
      "execution_count": 151,
      "metadata": {},
      "outputs": [
        {
          "data": {
            "text/html": [
              "<div>\n",
              "<style scoped>\n",
              "    .dataframe tbody tr th:only-of-type {\n",
              "        vertical-align: middle;\n",
              "    }\n",
              "\n",
              "    .dataframe tbody tr th {\n",
              "        vertical-align: top;\n",
              "    }\n",
              "\n",
              "    .dataframe thead th {\n",
              "        text-align: right;\n",
              "    }\n",
              "</style>\n",
              "<table border=\"1\" class=\"dataframe\">\n",
              "  <thead>\n",
              "    <tr style=\"text-align: right;\">\n",
              "      <th></th>\n",
              "      <th>year_month</th>\n",
              "      <th>non_fraud</th>\n",
              "      <th>fraud</th>\n",
              "    </tr>\n",
              "  </thead>\n",
              "  <tbody>\n",
              "    <tr>\n",
              "      <th>count</th>\n",
              "      <td>99</td>\n",
              "      <td>99.000000</td>\n",
              "      <td>99.000000</td>\n",
              "    </tr>\n",
              "    <tr>\n",
              "      <th>mean</th>\n",
              "      <td>2014-03-01 01:12:43.636363520</td>\n",
              "      <td>74693.989899</td>\n",
              "      <td>107.727273</td>\n",
              "    </tr>\n",
              "    <tr>\n",
              "      <th>min</th>\n",
              "      <td>2010-01-31 00:00:00</td>\n",
              "      <td>50981.000000</td>\n",
              "      <td>0.000000</td>\n",
              "    </tr>\n",
              "    <tr>\n",
              "      <th>25%</th>\n",
              "      <td>2012-02-14 12:00:00</td>\n",
              "      <td>71932.500000</td>\n",
              "      <td>0.000000</td>\n",
              "    </tr>\n",
              "    <tr>\n",
              "      <th>50%</th>\n",
              "      <td>2014-02-28 00:00:00</td>\n",
              "      <td>75492.000000</td>\n",
              "      <td>105.000000</td>\n",
              "    </tr>\n",
              "    <tr>\n",
              "      <th>75%</th>\n",
              "      <td>2016-03-15 12:00:00</td>\n",
              "      <td>77582.000000</td>\n",
              "      <td>206.500000</td>\n",
              "    </tr>\n",
              "    <tr>\n",
              "      <th>max</th>\n",
              "      <td>2018-03-31 00:00:00</td>\n",
              "      <td>79779.000000</td>\n",
              "      <td>423.000000</td>\n",
              "    </tr>\n",
              "    <tr>\n",
              "      <th>std</th>\n",
              "      <td>NaN</td>\n",
              "      <td>4457.959549</td>\n",
              "      <td>106.634204</td>\n",
              "    </tr>\n",
              "  </tbody>\n",
              "</table>\n",
              "</div>"
            ],
            "text/plain": [
              "                          year_month     non_fraud       fraud\n",
              "count                             99     99.000000   99.000000\n",
              "mean   2014-03-01 01:12:43.636363520  74693.989899  107.727273\n",
              "min              2010-01-31 00:00:00  50981.000000    0.000000\n",
              "25%              2012-02-14 12:00:00  71932.500000    0.000000\n",
              "50%              2014-02-28 00:00:00  75492.000000  105.000000\n",
              "75%              2016-03-15 12:00:00  77582.000000  206.500000\n",
              "max              2018-03-31 00:00:00  79779.000000  423.000000\n",
              "std                              NaN   4457.959549  106.634204"
            ]
          },
          "execution_count": 151,
          "metadata": {},
          "output_type": "execute_result"
        }
      ],
      "source": [
        "df_pivot.describe()"
      ]
    },
    {
      "cell_type": "code",
      "execution_count": 162,
      "metadata": {},
      "outputs": [
        {
          "data": {
            "image/png": "[encoded data removed]",
            "text/plain": [
              "<Figure size 1000x600 with 1 Axes>"
            ]
          },
          "metadata": {},
          "output_type": "display_data"
        }
      ],
      "source": [
        "# Plotando\n",
        "plt.figure(figsize=(10, 6))\n",
        "sns.lineplot(data=df_pivot, x='year_month', y='fraud', color='red', label='Fraudulent')\n",
        "# sns.lineplot(data=df_pivot, x='year_month', y='non_fraud', label='Non-Fraudulent')\n",
        "\n",
        "ticks_to_show = df_pivot['year_month'][::3]\n",
        "\n",
        "plt.xticks(ticks_to_show,\n",
        "           labels=ticks_to_show.dt.strftime('%b'), rotation=90)\n",
        "\n",
        "years = df_pivot['year_month'].dt.year.drop_duplicates()\n",
        "for year in years:\n",
        "    plt.axvline(x=pd.Timestamp(year=year, month=1, day=1), color='yellow', linestyle='--', linewidth=1.0)\n",
        "\n",
        "plt.title('Número de transações fraudulentas ao longo do tempo')\n",
        "plt.xlabel('Year')\n",
        "plt.ylabel('Count')\n",
        "plt.legend()\n",
        "plt.grid(True)\n",
        "plt.tight_layout()\n",
        "plt.show()"
      ]
    },
    {
      "cell_type": "code",
      "execution_count": 164,
      "metadata": {},
      "outputs": [
        {
          "data": {
            "image/png": "[encoded data removed]",
            "text/plain": [
              "<Figure size 1000x600 with 1 Axes>"
            ]
          },
          "metadata": {},
          "output_type": "display_data"
        }
      ],
      "source": [
        "# Plotando\n",
        "plt.figure(figsize=(10, 6))\n",
        "sns.lineplot(data=df_pivot, x='year_month', y='non_fraud', color='blue', label='Válidas')\n",
        "# sns.lineplot(data=df_pivot, x='year_month', y='non_fraud', label='Non-Fraudulent')\n",
        "\n",
        "ticks_to_show = df_pivot['year_month'][::3]\n",
        "\n",
        "plt.xticks(ticks_to_show,\n",
        "           labels=ticks_to_show.dt.strftime('%b'), rotation=90)\n",
        "\n",
        "years = df_pivot['year_month'].dt.year.drop_duplicates()\n",
        "for year in years:\n",
        "    plt.axvline(x=pd.Timestamp(year=year, month=1, day=1), color='yellow', linestyle='--', linewidth=1.0)\n",
        "\n",
        "plt.title('Número de transações validas ao longo do tempo')\n",
        "plt.xlabel('Year')\n",
        "plt.ylabel('Count')\n",
        "plt.legend()\n",
        "plt.grid(True)\n",
        "plt.tight_layout()\n",
        "plt.show()"
      ]
    },
    {
      "cell_type": "code",
      "execution_count": 153,
      "metadata": {},
      "outputs": [],
      "source": [
        "decompa_fraud = seasonal_decompose(df_pivot['fraud'], model='additive', period=12)"
      ]
    },
    {
      "cell_type": "code",
      "execution_count": 154,
      "metadata": {},
      "outputs": [
        {
          "data": {
            "image/png": "[encoded data removed]",
            "text/plain": [
              "<Figure size 1000x800 with 4 Axes>"
            ]
          },
          "metadata": {},
          "output_type": "display_data"
        }
      ],
      "source": [
        "plt.figure(figsize=(10, 8))\n",
        "\n",
        "plt.suptitle('Decomposição aditiva da serie temporal das transações')\n",
        "\n",
        "plt.subplot(4, 1, 1)\n",
        "plt.plot(decompa_fraud.trend)\n",
        "plt.title('Tendencia')\n",
        "\n",
        "plt.subplot(4, 1, 2)\n",
        "plt.plot(decompa_fraud.seasonal)\n",
        "plt.title('Componente Sazonal')\n",
        "\n",
        "plt.subplot(4, 1, 3)\n",
        "plt.plot(decompa_fraud.resid)\n",
        "plt.title('Resíduos')\n",
        "\n",
        "plt.subplot(4, 1, 4)\n",
        "plt.plot(df_pivot['fraud'], label='Original')\n",
        "plt.plot(decompa_fraud.trend + decompa_fraud.seasonal + decompa_fraud.resid, label='Reconstruída')\n",
        "plt.title('Original vs. Reconstruida')\n",
        "plt.legend()\n",
        "\n",
        "plt.tight_layout()\n",
        "plt.show()\n"
      ]
    },
    {
      "cell_type": "code",
      "execution_count": 155,
      "metadata": {},
      "outputs": [],
      "source": [
        "decompa_nonfraud = seasonal_decompose(df_pivot['non_fraud'], model='multiplicative', period=12)"
      ]
    },
    {
      "cell_type": "code",
      "execution_count": 156,
      "metadata": {},
      "outputs": [
        {
          "data": {
            "image/png": "[encoded data removed]",
            "text/plain": [
              "<Figure size 1000x800 with 4 Axes>"
            ]
          },
          "metadata": {},
          "output_type": "display_data"
        }
      ],
      "source": [
        "plt.figure(figsize=(10, 8))\n",
        "\n",
        "plt.suptitle('Decomposição multiplicativa da serie temporal das transações fraudulentas')\n",
        "\n",
        "plt.subplot(4, 1, 1)\n",
        "plt.plot(decompa_nonfraud.trend)\n",
        "plt.title('Tendencia')\n",
        "\n",
        "plt.subplot(4, 1, 2)\n",
        "plt.plot(decompa_nonfraud.seasonal)\n",
        "plt.title('Componente Sazonal')\n",
        "\n",
        "plt.subplot(4, 1, 3)\n",
        "plt.plot(decompa_nonfraud.resid)\n",
        "plt.title('Resíduos')\n",
        "\n",
        "plt.subplot(4, 1, 4)\n",
        "plt.plot(df_pivot['non_fraud'], label='Original')\n",
        "plt.plot(decompa_nonfraud.trend * decompa_nonfraud.seasonal * decompa_nonfraud.resid, label='Reconstruída')\n",
        "plt.title('Original vs. Reconstruida')\n",
        "plt.legend()\n",
        "\n",
        "plt.tight_layout()\n",
        "plt.show()\n"
      ]
    },
    {
      "cell_type": "markdown",
      "metadata": {},
      "source": [
        "### Análise Qualitativa"
      ]
    },
    {
      "cell_type": "code",
      "execution_count": 60,
      "metadata": {},
      "outputs": [
        {
          "data": {
            "text/html": [
              "<div>\n",
              "<style scoped>\n",
              "    .dataframe tbody tr th:only-of-type {\n",
              "        vertical-align: middle;\n",
              "    }\n",
              "\n",
              "    .dataframe tbody tr th {\n",
              "        vertical-align: top;\n",
              "    }\n",
              "\n",
              "    .dataframe thead th {\n",
              "        text-align: right;\n",
              "    }\n",
              "</style>\n",
              "<table border=\"1\" class=\"dataframe\">\n",
              "  <thead>\n",
              "    <tr style=\"text-align: right;\">\n",
              "      <th></th>\n",
              "      <th>use_chip</th>\n",
              "      <th>merchant_city</th>\n",
              "      <th>merchant_state</th>\n",
              "      <th>errors</th>\n",
              "      <th>description</th>\n",
              "      <th>target</th>\n",
              "      <th>gender</th>\n",
              "      <th>card_brand</th>\n",
              "      <th>card_type</th>\n",
              "      <th>has_chip</th>\n",
              "      <th>card_on_dark_web</th>\n",
              "    </tr>\n",
              "  </thead>\n",
              "  <tbody>\n",
              "    <tr>\n",
              "      <th>0</th>\n",
              "      <td>Swipe Transaction</td>\n",
              "      <td>Beulah</td>\n",
              "      <td>ND</td>\n",
              "      <td>NaN</td>\n",
              "      <td>Miscellaneous Food Stores</td>\n",
              "      <td>No</td>\n",
              "      <td>Female</td>\n",
              "      <td>Mastercard</td>\n",
              "      <td>Debit (Prepaid)</td>\n",
              "      <td>YES</td>\n",
              "      <td>No</td>\n",
              "    </tr>\n",
              "    <tr>\n",
              "      <th>1</th>\n",
              "      <td>Swipe Transaction</td>\n",
              "      <td>Bettendorf</td>\n",
              "      <td>IA</td>\n",
              "      <td>NaN</td>\n",
              "      <td>Department Stores</td>\n",
              "      <td>No</td>\n",
              "      <td>Male</td>\n",
              "      <td>Mastercard</td>\n",
              "      <td>Credit</td>\n",
              "      <td>YES</td>\n",
              "      <td>No</td>\n",
              "    </tr>\n",
              "    <tr>\n",
              "      <th>2</th>\n",
              "      <td>Swipe Transaction</td>\n",
              "      <td>Vista</td>\n",
              "      <td>CA</td>\n",
              "      <td>NaN</td>\n",
              "      <td>Money Transfer</td>\n",
              "      <td>No</td>\n",
              "      <td>Male</td>\n",
              "      <td>Mastercard</td>\n",
              "      <td>Debit</td>\n",
              "      <td>YES</td>\n",
              "      <td>No</td>\n",
              "    </tr>\n",
              "    <tr>\n",
              "      <th>3</th>\n",
              "      <td>Swipe Transaction</td>\n",
              "      <td>Harwood</td>\n",
              "      <td>MD</td>\n",
              "      <td>NaN</td>\n",
              "      <td>Drinking Places (Alcoholic Beverages)</td>\n",
              "      <td>No</td>\n",
              "      <td>Male</td>\n",
              "      <td>Visa</td>\n",
              "      <td>Debit</td>\n",
              "      <td>YES</td>\n",
              "      <td>No</td>\n",
              "    </tr>\n",
              "    <tr>\n",
              "      <th>4</th>\n",
              "      <td>Swipe Transaction</td>\n",
              "      <td>Bronx</td>\n",
              "      <td>NY</td>\n",
              "      <td>NaN</td>\n",
              "      <td>Book Stores</td>\n",
              "      <td>No</td>\n",
              "      <td>Female</td>\n",
              "      <td>Mastercard</td>\n",
              "      <td>Debit (Prepaid)</td>\n",
              "      <td>YES</td>\n",
              "      <td>No</td>\n",
              "    </tr>\n",
              "    <tr>\n",
              "      <th>...</th>\n",
              "      <td>...</td>\n",
              "      <td>...</td>\n",
              "      <td>...</td>\n",
              "      <td>...</td>\n",
              "      <td>...</td>\n",
              "      <td>...</td>\n",
              "      <td>...</td>\n",
              "      <td>...</td>\n",
              "      <td>...</td>\n",
              "      <td>...</td>\n",
              "      <td>...</td>\n",
              "    </tr>\n",
              "    <tr>\n",
              "      <th>7405365</th>\n",
              "      <td>Chip Transaction</td>\n",
              "      <td>Andover</td>\n",
              "      <td>KS</td>\n",
              "      <td>NaN</td>\n",
              "      <td>Grocery Stores, Supermarkets</td>\n",
              "      <td>No</td>\n",
              "      <td>Male</td>\n",
              "      <td>Mastercard</td>\n",
              "      <td>Debit</td>\n",
              "      <td>YES</td>\n",
              "      <td>No</td>\n",
              "    </tr>\n",
              "    <tr>\n",
              "      <th>7405366</th>\n",
              "      <td>Swipe Transaction</td>\n",
              "      <td>Rolla</td>\n",
              "      <td>MO</td>\n",
              "      <td>NaN</td>\n",
              "      <td>Money Transfer</td>\n",
              "      <td>No</td>\n",
              "      <td>Female</td>\n",
              "      <td>Mastercard</td>\n",
              "      <td>Debit</td>\n",
              "      <td>NO</td>\n",
              "      <td>No</td>\n",
              "    </tr>\n",
              "    <tr>\n",
              "      <th>7405367</th>\n",
              "      <td>Chip Transaction</td>\n",
              "      <td>Greensburg</td>\n",
              "      <td>PA</td>\n",
              "      <td>NaN</td>\n",
              "      <td>Utilities - Electric, Gas, Water, Sanitary</td>\n",
              "      <td>No</td>\n",
              "      <td>Female</td>\n",
              "      <td>Mastercard</td>\n",
              "      <td>Debit</td>\n",
              "      <td>YES</td>\n",
              "      <td>No</td>\n",
              "    </tr>\n",
              "    <tr>\n",
              "      <th>7405368</th>\n",
              "      <td>Online Transaction</td>\n",
              "      <td>ONLINE</td>\n",
              "      <td>NaN</td>\n",
              "      <td>NaN</td>\n",
              "      <td>Utilities - Electric, Gas, Water, Sanitary</td>\n",
              "      <td>No</td>\n",
              "      <td>Female</td>\n",
              "      <td>Mastercard</td>\n",
              "      <td>Debit</td>\n",
              "      <td>NO</td>\n",
              "      <td>No</td>\n",
              "    </tr>\n",
              "    <tr>\n",
              "      <th>7405369</th>\n",
              "      <td>Chip Transaction</td>\n",
              "      <td>Millington</td>\n",
              "      <td>TN</td>\n",
              "      <td>NaN</td>\n",
              "      <td>Grocery Stores, Supermarkets</td>\n",
              "      <td>No</td>\n",
              "      <td>Female</td>\n",
              "      <td>Visa</td>\n",
              "      <td>Debit</td>\n",
              "      <td>YES</td>\n",
              "      <td>No</td>\n",
              "    </tr>\n",
              "  </tbody>\n",
              "</table>\n",
              "<p>7405370 rows × 11 columns</p>\n",
              "</div>"
            ],
            "text/plain": [
              "                   use_chip merchant_city merchant_state errors  \\\n",
              "0         Swipe Transaction        Beulah             ND    NaN   \n",
              "1         Swipe Transaction    Bettendorf             IA    NaN   \n",
              "2         Swipe Transaction         Vista             CA    NaN   \n",
              "3         Swipe Transaction       Harwood             MD    NaN   \n",
              "4         Swipe Transaction         Bronx             NY    NaN   \n",
              "...                     ...           ...            ...    ...   \n",
              "7405365    Chip Transaction       Andover             KS    NaN   \n",
              "7405366   Swipe Transaction         Rolla             MO    NaN   \n",
              "7405367    Chip Transaction    Greensburg             PA    NaN   \n",
              "7405368  Online Transaction        ONLINE            NaN    NaN   \n",
              "7405369    Chip Transaction    Millington             TN    NaN   \n",
              "\n",
              "                                        description target  gender  \\\n",
              "0                         Miscellaneous Food Stores     No  Female   \n",
              "1                                 Department Stores     No    Male   \n",
              "2                                    Money Transfer     No    Male   \n",
              "3             Drinking Places (Alcoholic Beverages)     No    Male   \n",
              "4                                       Book Stores     No  Female   \n",
              "...                                             ...    ...     ...   \n",
              "7405365                Grocery Stores, Supermarkets     No    Male   \n",
              "7405366                              Money Transfer     No  Female   \n",
              "7405367  Utilities - Electric, Gas, Water, Sanitary     No  Female   \n",
              "7405368  Utilities - Electric, Gas, Water, Sanitary     No  Female   \n",
              "7405369                Grocery Stores, Supermarkets     No  Female   \n",
              "\n",
              "         card_brand        card_type has_chip card_on_dark_web  \n",
              "0        Mastercard  Debit (Prepaid)      YES               No  \n",
              "1        Mastercard           Credit      YES               No  \n",
              "2        Mastercard            Debit      YES               No  \n",
              "3              Visa            Debit      YES               No  \n",
              "4        Mastercard  Debit (Prepaid)      YES               No  \n",
              "...             ...              ...      ...              ...  \n",
              "7405365  Mastercard            Debit      YES               No  \n",
              "7405366  Mastercard            Debit       NO               No  \n",
              "7405367  Mastercard            Debit      YES               No  \n",
              "7405368  Mastercard            Debit       NO               No  \n",
              "7405369        Visa            Debit      YES               No  \n",
              "\n",
              "[7405370 rows x 11 columns]"
            ]
          },
          "execution_count": 60,
          "metadata": {},
          "output_type": "execute_result"
        }
      ],
      "source": [
        "df_train_test.select_dtypes('object')"
      ]
    },
    {
      "cell_type": "code",
      "execution_count": 61,
      "metadata": {},
      "outputs": [
        {
          "data": {
            "text/html": [
              "<div>\n",
              "<style scoped>\n",
              "    .dataframe tbody tr th:only-of-type {\n",
              "        vertical-align: middle;\n",
              "    }\n",
              "\n",
              "    .dataframe tbody tr th {\n",
              "        vertical-align: top;\n",
              "    }\n",
              "\n",
              "    .dataframe thead th {\n",
              "        text-align: right;\n",
              "    }\n",
              "</style>\n",
              "<table border=\"1\" class=\"dataframe\">\n",
              "  <thead>\n",
              "    <tr style=\"text-align: right;\">\n",
              "      <th></th>\n",
              "      <th>use_chip</th>\n",
              "      <th>merchant_city</th>\n",
              "      <th>merchant_state</th>\n",
              "      <th>errors</th>\n",
              "      <th>description</th>\n",
              "      <th>target</th>\n",
              "      <th>gender</th>\n",
              "      <th>card_brand</th>\n",
              "      <th>card_type</th>\n",
              "      <th>has_chip</th>\n",
              "      <th>card_on_dark_web</th>\n",
              "    </tr>\n",
              "  </thead>\n",
              "  <tbody>\n",
              "    <tr>\n",
              "      <th>count</th>\n",
              "      <td>7405370</td>\n",
              "      <td>7405370</td>\n",
              "      <td>6541016</td>\n",
              "      <td>117765</td>\n",
              "      <td>7405370</td>\n",
              "      <td>7405370</td>\n",
              "      <td>7405370</td>\n",
              "      <td>7405370</td>\n",
              "      <td>7405370</td>\n",
              "      <td>7405370</td>\n",
              "      <td>7405370</td>\n",
              "    </tr>\n",
              "    <tr>\n",
              "      <th>unique</th>\n",
              "      <td>3</td>\n",
              "      <td>11846</td>\n",
              "      <td>190</td>\n",
              "      <td>22</td>\n",
              "      <td>108</td>\n",
              "      <td>2</td>\n",
              "      <td>2</td>\n",
              "      <td>4</td>\n",
              "      <td>3</td>\n",
              "      <td>2</td>\n",
              "      <td>1</td>\n",
              "    </tr>\n",
              "    <tr>\n",
              "      <th>top</th>\n",
              "      <td>Swipe Transaction</td>\n",
              "      <td>ONLINE</td>\n",
              "      <td>CA</td>\n",
              "      <td>Insufficient Balance</td>\n",
              "      <td>Grocery Stores, Supermarkets</td>\n",
              "      <td>No</td>\n",
              "      <td>Female</td>\n",
              "      <td>Mastercard</td>\n",
              "      <td>Debit</td>\n",
              "      <td>YES</td>\n",
              "      <td>No</td>\n",
              "    </tr>\n",
              "    <tr>\n",
              "      <th>freq</th>\n",
              "      <td>4412725</td>\n",
              "      <td>864354</td>\n",
              "      <td>794465</td>\n",
              "      <td>72940</td>\n",
              "      <td>885927</td>\n",
              "      <td>7394705</td>\n",
              "      <td>3792336</td>\n",
              "      <td>3981769</td>\n",
              "      <td>4601680</td>\n",
              "      <td>6664453</td>\n",
              "      <td>7405370</td>\n",
              "    </tr>\n",
              "  </tbody>\n",
              "</table>\n",
              "</div>"
            ],
            "text/plain": [
              "                 use_chip merchant_city merchant_state                errors  \\\n",
              "count             7405370       7405370        6541016                117765   \n",
              "unique                  3         11846            190                    22   \n",
              "top     Swipe Transaction        ONLINE             CA  Insufficient Balance   \n",
              "freq              4412725        864354         794465                 72940   \n",
              "\n",
              "                         description   target   gender  card_brand card_type  \\\n",
              "count                        7405370  7405370  7405370     7405370   7405370   \n",
              "unique                           108        2        2           4         3   \n",
              "top     Grocery Stores, Supermarkets       No   Female  Mastercard     Debit   \n",
              "freq                          885927  7394705  3792336     3981769   4601680   \n",
              "\n",
              "       has_chip card_on_dark_web  \n",
              "count   7405370          7405370  \n",
              "unique        2                1  \n",
              "top         YES               No  \n",
              "freq    6664453          7405370  "
            ]
          },
          "execution_count": 61,
          "metadata": {},
          "output_type": "execute_result"
        }
      ],
      "source": [
        "df_train_test.select_dtypes('object').describe()"
      ]
    },
    {
      "cell_type": "code",
      "execution_count": 62,
      "metadata": {},
      "outputs": [],
      "source": [
        "df_train_test.drop(columns=['card_on_dark_web'], inplace=True)"
      ]
    },
    {
      "cell_type": "code",
      "execution_count": 212,
      "metadata": {},
      "outputs": [
        {
          "ename": "MemoryError",
          "evalue": "Unable to allocate 56.5 MiB for an array with shape (7405370,) and data type object",
          "output_type": "error",
          "traceback": [
            "\u001b[1;31m---------------------------------------------------------------------------\u001b[0m",
            "\u001b[1;31mMemoryError\u001b[0m                               Traceback (most recent call last)",
            "Cell \u001b[1;32mIn[212], line 1\u001b[0m\n\u001b[1;32m----> 1\u001b[0m \u001b[43msns\u001b[49m\u001b[38;5;241;43m.\u001b[39;49m\u001b[43mcountplot\u001b[49m\u001b[43m(\u001b[49m\u001b[43mdata\u001b[49m\u001b[38;5;241;43m=\u001b[39;49m\u001b[43mdf_train_test\u001b[49m\u001b[43m,\u001b[49m\u001b[43m \u001b[49m\u001b[43mx\u001b[49m\u001b[38;5;241;43m=\u001b[39;49m\u001b[38;5;124;43m'\u001b[39;49m\u001b[38;5;124;43muse_chip\u001b[39;49m\u001b[38;5;124;43m'\u001b[39;49m\u001b[43m,\u001b[49m\u001b[43m \u001b[49m\u001b[43mhue\u001b[49m\u001b[38;5;241;43m=\u001b[39;49m\u001b[38;5;124;43m'\u001b[39;49m\u001b[38;5;124;43mtarget\u001b[39;49m\u001b[38;5;124;43m'\u001b[39;49m\u001b[43m)\u001b[49m\n",
            "File \u001b[1;32md:\\Repositories\\Pessoal\\analise-fraude\\.venv\\Lib\\site-packages\\seaborn\\categorical.py:2675\u001b[0m, in \u001b[0;36mcountplot\u001b[1;34m(data, x, y, hue, order, hue_order, orient, color, palette, saturation, fill, hue_norm, stat, width, dodge, gap, log_scale, native_scale, formatter, legend, ax, **kwargs)\u001b[0m\n\u001b[0;32m   2671\u001b[0m     p\u001b[38;5;241m.\u001b[39mplot_data[count_axis] \u001b[38;5;241m/\u001b[39m\u001b[38;5;241m=\u001b[39m \u001b[38;5;28mlen\u001b[39m(p\u001b[38;5;241m.\u001b[39mplot_data) \u001b[38;5;241m/\u001b[39m denom\n\u001b[0;32m   2673\u001b[0m aggregator \u001b[38;5;241m=\u001b[39m EstimateAggregator(\u001b[38;5;124m\"\u001b[39m\u001b[38;5;124msum\u001b[39m\u001b[38;5;124m\"\u001b[39m, errorbar\u001b[38;5;241m=\u001b[39m\u001b[38;5;28;01mNone\u001b[39;00m)\n\u001b[1;32m-> 2675\u001b[0m \u001b[43mp\u001b[49m\u001b[38;5;241;43m.\u001b[39;49m\u001b[43mplot_bars\u001b[49m\u001b[43m(\u001b[49m\n\u001b[0;32m   2676\u001b[0m \u001b[43m    \u001b[49m\u001b[43maggregator\u001b[49m\u001b[38;5;241;43m=\u001b[39;49m\u001b[43maggregator\u001b[49m\u001b[43m,\u001b[49m\n\u001b[0;32m   2677\u001b[0m \u001b[43m    \u001b[49m\u001b[43mdodge\u001b[49m\u001b[38;5;241;43m=\u001b[39;49m\u001b[43mdodge\u001b[49m\u001b[43m,\u001b[49m\n\u001b[0;32m   2678\u001b[0m \u001b[43m    \u001b[49m\u001b[43mwidth\u001b[49m\u001b[38;5;241;43m=\u001b[39;49m\u001b[43mwidth\u001b[49m\u001b[43m,\u001b[49m\n\u001b[0;32m   2679\u001b[0m \u001b[43m    \u001b[49m\u001b[43mgap\u001b[49m\u001b[38;5;241;43m=\u001b[39;49m\u001b[43mgap\u001b[49m\u001b[43m,\u001b[49m\n\u001b[0;32m   2680\u001b[0m \u001b[43m    \u001b[49m\u001b[43mcolor\u001b[49m\u001b[38;5;241;43m=\u001b[39;49m\u001b[43mcolor\u001b[49m\u001b[43m,\u001b[49m\n\u001b[0;32m   2681\u001b[0m \u001b[43m    \u001b[49m\u001b[43mfill\u001b[49m\u001b[38;5;241;43m=\u001b[39;49m\u001b[43mfill\u001b[49m\u001b[43m,\u001b[49m\n\u001b[0;32m   2682\u001b[0m \u001b[43m    \u001b[49m\u001b[43mcapsize\u001b[49m\u001b[38;5;241;43m=\u001b[39;49m\u001b[38;5;241;43m0\u001b[39;49m\u001b[43m,\u001b[49m\n\u001b[0;32m   2683\u001b[0m \u001b[43m    \u001b[49m\u001b[43merr_kws\u001b[49m\u001b[38;5;241;43m=\u001b[39;49m\u001b[43m{\u001b[49m\u001b[43m}\u001b[49m\u001b[43m,\u001b[49m\n\u001b[0;32m   2684\u001b[0m \u001b[43m    \u001b[49m\u001b[43mplot_kws\u001b[49m\u001b[38;5;241;43m=\u001b[39;49m\u001b[43mkwargs\u001b[49m\u001b[43m,\u001b[49m\n\u001b[0;32m   2685\u001b[0m \u001b[43m\u001b[49m\u001b[43m)\u001b[49m\n\u001b[0;32m   2687\u001b[0m p\u001b[38;5;241m.\u001b[39m_add_axis_labels(ax)\n\u001b[0;32m   2688\u001b[0m p\u001b[38;5;241m.\u001b[39m_adjust_cat_axis(ax, axis\u001b[38;5;241m=\u001b[39mp\u001b[38;5;241m.\u001b[39morient)\n",
            "File \u001b[1;32md:\\Repositories\\Pessoal\\analise-fraude\\.venv\\Lib\\site-packages\\seaborn\\categorical.py:1273\u001b[0m, in \u001b[0;36m_CategoricalPlotter.plot_bars\u001b[1;34m(self, aggregator, dodge, gap, width, fill, color, capsize, err_kws, plot_kws)\u001b[0m\n\u001b[0;32m   1269\u001b[0m     plot_kws\u001b[38;5;241m.\u001b[39msetdefault(\u001b[38;5;124m\"\u001b[39m\u001b[38;5;124mlinewidth\u001b[39m\u001b[38;5;124m\"\u001b[39m, \u001b[38;5;241m1.5\u001b[39m \u001b[38;5;241m*\u001b[39m mpl\u001b[38;5;241m.\u001b[39mrcParams[\u001b[38;5;124m\"\u001b[39m\u001b[38;5;124mlines.linewidth\u001b[39m\u001b[38;5;124m\"\u001b[39m])\n\u001b[0;32m   1271\u001b[0m err_kws\u001b[38;5;241m.\u001b[39msetdefault(\u001b[38;5;124m\"\u001b[39m\u001b[38;5;124mlinewidth\u001b[39m\u001b[38;5;124m\"\u001b[39m, \u001b[38;5;241m1.5\u001b[39m \u001b[38;5;241m*\u001b[39m mpl\u001b[38;5;241m.\u001b[39mrcParams[\u001b[38;5;124m\"\u001b[39m\u001b[38;5;124mlines.linewidth\u001b[39m\u001b[38;5;124m\"\u001b[39m])\n\u001b[1;32m-> 1273\u001b[0m \u001b[43m\u001b[49m\u001b[38;5;28;43;01mfor\u001b[39;49;00m\u001b[43m \u001b[49m\u001b[43msub_vars\u001b[49m\u001b[43m,\u001b[49m\u001b[43m \u001b[49m\u001b[43msub_data\u001b[49m\u001b[43m \u001b[49m\u001b[38;5;129;43;01min\u001b[39;49;00m\u001b[43m \u001b[49m\u001b[38;5;28;43mself\u001b[39;49m\u001b[38;5;241;43m.\u001b[39;49m\u001b[43miter_data\u001b[49m\u001b[43m(\u001b[49m\u001b[43miter_vars\u001b[49m\u001b[43m,\u001b[49m\n\u001b[0;32m   1274\u001b[0m \u001b[43m                                         \u001b[49m\u001b[43mfrom_comp_data\u001b[49m\u001b[38;5;241;43m=\u001b[39;49m\u001b[38;5;28;43;01mTrue\u001b[39;49;00m\u001b[43m,\u001b[49m\n\u001b[0;32m   1275\u001b[0m \u001b[43m                                         \u001b[49m\u001b[43mallow_empty\u001b[49m\u001b[38;5;241;43m=\u001b[39;49m\u001b[38;5;28;43;01mTrue\u001b[39;49;00m\u001b[43m)\u001b[49m\u001b[43m:\u001b[49m\n\u001b[0;32m   1277\u001b[0m \u001b[43m    \u001b[49m\u001b[43max\u001b[49m\u001b[43m \u001b[49m\u001b[38;5;241;43m=\u001b[39;49m\u001b[43m \u001b[49m\u001b[38;5;28;43mself\u001b[39;49m\u001b[38;5;241;43m.\u001b[39;49m\u001b[43m_get_axes\u001b[49m\u001b[43m(\u001b[49m\u001b[43msub_vars\u001b[49m\u001b[43m)\u001b[49m\n\u001b[0;32m   1279\u001b[0m \u001b[43m    \u001b[49m\u001b[43magg_data\u001b[49m\u001b[43m \u001b[49m\u001b[38;5;241;43m=\u001b[39;49m\u001b[43m \u001b[49m\u001b[43msub_data\u001b[49m\u001b[43m \u001b[49m\u001b[38;5;28;43;01mif\u001b[39;49;00m\u001b[43m \u001b[49m\u001b[43msub_data\u001b[49m\u001b[38;5;241;43m.\u001b[39;49m\u001b[43mempty\u001b[49m\u001b[43m \u001b[49m\u001b[38;5;28;43;01melse\u001b[39;49;00m\u001b[43m \u001b[49m\u001b[43m(\u001b[49m\n\u001b[0;32m   1280\u001b[0m \u001b[43m        \u001b[49m\u001b[43msub_data\u001b[49m\n\u001b[0;32m   1281\u001b[0m \u001b[43m        \u001b[49m\u001b[38;5;241;43m.\u001b[39;49m\u001b[43mgroupby\u001b[49m\u001b[43m(\u001b[49m\u001b[38;5;28;43mself\u001b[39;49m\u001b[38;5;241;43m.\u001b[39;49m\u001b[43morient\u001b[49m\u001b[43m)\u001b[49m\n\u001b[0;32m   1282\u001b[0m \u001b[43m        \u001b[49m\u001b[38;5;241;43m.\u001b[39;49m\u001b[43mapply\u001b[49m\u001b[43m(\u001b[49m\u001b[43maggregator\u001b[49m\u001b[43m,\u001b[49m\u001b[43m \u001b[49m\u001b[43magg_var\u001b[49m\u001b[43m,\u001b[49m\u001b[43m \u001b[49m\u001b[38;5;241;43m*\u001b[39;49m\u001b[38;5;241;43m*\u001b[39;49m\u001b[43mgroupby_apply_include_groups\u001b[49m\u001b[43m(\u001b[49m\u001b[38;5;28;43;01mFalse\u001b[39;49;00m\u001b[43m)\u001b[49m\u001b[43m)\u001b[49m\n\u001b[0;32m   1283\u001b[0m \u001b[43m        \u001b[49m\u001b[38;5;241;43m.\u001b[39;49m\u001b[43mreset_index\u001b[49m\u001b[43m(\u001b[49m\u001b[43m)\u001b[49m\n\u001b[0;32m   1284\u001b[0m \u001b[43m    \u001b[49m\u001b[43m)\u001b[49m\n",
            "File \u001b[1;32md:\\Repositories\\Pessoal\\analise-fraude\\.venv\\Lib\\site-packages\\seaborn\\_base.py:902\u001b[0m, in \u001b[0;36mVectorPlotter.iter_data\u001b[1;34m(self, grouping_vars, reverse, from_comp_data, by_facet, allow_empty, dropna)\u001b[0m\n\u001b[0;32m    899\u001b[0m grouping_vars \u001b[38;5;241m=\u001b[39m [var \u001b[38;5;28;01mfor\u001b[39;00m var \u001b[38;5;129;01min\u001b[39;00m grouping_vars \u001b[38;5;28;01mif\u001b[39;00m var \u001b[38;5;129;01min\u001b[39;00m \u001b[38;5;28mself\u001b[39m\u001b[38;5;241m.\u001b[39mvariables]\n\u001b[0;32m    901\u001b[0m \u001b[38;5;28;01mif\u001b[39;00m from_comp_data:\n\u001b[1;32m--> 902\u001b[0m     data \u001b[38;5;241m=\u001b[39m \u001b[38;5;28;43mself\u001b[39;49m\u001b[38;5;241;43m.\u001b[39;49m\u001b[43mcomp_data\u001b[49m\n\u001b[0;32m    903\u001b[0m \u001b[38;5;28;01melse\u001b[39;00m:\n\u001b[0;32m    904\u001b[0m     data \u001b[38;5;241m=\u001b[39m \u001b[38;5;28mself\u001b[39m\u001b[38;5;241m.\u001b[39mplot_data\n",
            "File \u001b[1;32md:\\Repositories\\Pessoal\\analise-fraude\\.venv\\Lib\\site-packages\\seaborn\\_base.py:992\u001b[0m, in \u001b[0;36mVectorPlotter.comp_data\u001b[1;34m(self)\u001b[0m\n\u001b[0;32m    990\u001b[0m parts \u001b[38;5;241m=\u001b[39m []\n\u001b[0;32m    991\u001b[0m grouped \u001b[38;5;241m=\u001b[39m \u001b[38;5;28mself\u001b[39m\u001b[38;5;241m.\u001b[39mplot_data[var]\u001b[38;5;241m.\u001b[39mgroupby(\u001b[38;5;28mself\u001b[39m\u001b[38;5;241m.\u001b[39mconverters[var], sort\u001b[38;5;241m=\u001b[39m\u001b[38;5;28;01mFalse\u001b[39;00m)\n\u001b[1;32m--> 992\u001b[0m \u001b[43m\u001b[49m\u001b[38;5;28;43;01mfor\u001b[39;49;00m\u001b[43m \u001b[49m\u001b[43mconverter\u001b[49m\u001b[43m,\u001b[49m\u001b[43m \u001b[49m\u001b[43morig\u001b[49m\u001b[43m \u001b[49m\u001b[38;5;129;43;01min\u001b[39;49;00m\u001b[43m \u001b[49m\u001b[43mgrouped\u001b[49m\u001b[43m:\u001b[49m\n\u001b[0;32m    993\u001b[0m \u001b[43m    \u001b[49m\u001b[43morig\u001b[49m\u001b[43m \u001b[49m\u001b[38;5;241;43m=\u001b[39;49m\u001b[43m \u001b[49m\u001b[43morig\u001b[49m\u001b[38;5;241;43m.\u001b[39;49m\u001b[43mmask\u001b[49m\u001b[43m(\u001b[49m\u001b[43morig\u001b[49m\u001b[38;5;241;43m.\u001b[39;49m\u001b[43misin\u001b[49m\u001b[43m(\u001b[49m\u001b[43m[\u001b[49m\u001b[43mnp\u001b[49m\u001b[38;5;241;43m.\u001b[39;49m\u001b[43minf\u001b[49m\u001b[43m,\u001b[49m\u001b[43m \u001b[49m\u001b[38;5;241;43m-\u001b[39;49m\u001b[43mnp\u001b[49m\u001b[38;5;241;43m.\u001b[39;49m\u001b[43minf\u001b[49m\u001b[43m]\u001b[49m\u001b[43m)\u001b[49m\u001b[43m,\u001b[49m\u001b[43m \u001b[49m\u001b[43mnp\u001b[49m\u001b[38;5;241;43m.\u001b[39;49m\u001b[43mnan\u001b[49m\u001b[43m)\u001b[49m\n\u001b[0;32m    994\u001b[0m \u001b[43m    \u001b[49m\u001b[43morig\u001b[49m\u001b[43m \u001b[49m\u001b[38;5;241;43m=\u001b[39;49m\u001b[43m \u001b[49m\u001b[43morig\u001b[49m\u001b[38;5;241;43m.\u001b[39;49m\u001b[43mdropna\u001b[49m\u001b[43m(\u001b[49m\u001b[43m)\u001b[49m\n",
            "File \u001b[1;32md:\\Repositories\\Pessoal\\analise-fraude\\.venv\\Lib\\site-packages\\pandas\\core\\groupby\\ops.py:620\u001b[0m, in \u001b[0;36mBaseGrouper.get_iterator\u001b[1;34m(self, data, axis)\u001b[0m\n\u001b[0;32m    618\u001b[0m splitter \u001b[38;5;241m=\u001b[39m \u001b[38;5;28mself\u001b[39m\u001b[38;5;241m.\u001b[39m_get_splitter(data, axis\u001b[38;5;241m=\u001b[39maxis)\n\u001b[0;32m    619\u001b[0m keys \u001b[38;5;241m=\u001b[39m \u001b[38;5;28mself\u001b[39m\u001b[38;5;241m.\u001b[39mgroup_keys_seq\n\u001b[1;32m--> 620\u001b[0m \u001b[38;5;28;01myield from\u001b[39;00m \u001b[38;5;28mzip\u001b[39m(keys, splitter)\n",
            "File \u001b[1;32md:\\Repositories\\Pessoal\\analise-fraude\\.venv\\Lib\\site-packages\\pandas\\core\\groupby\\ops.py:1150\u001b[0m, in \u001b[0;36mDataSplitter.__iter__\u001b[1;34m(self)\u001b[0m\n\u001b[0;32m   1149\u001b[0m \u001b[38;5;28;01mdef\u001b[39;00m\u001b[38;5;250m \u001b[39m\u001b[38;5;21m__iter__\u001b[39m(\u001b[38;5;28mself\u001b[39m) \u001b[38;5;241m-\u001b[39m\u001b[38;5;241m>\u001b[39m Iterator:\n\u001b[1;32m-> 1150\u001b[0m     sdata \u001b[38;5;241m=\u001b[39m \u001b[38;5;28;43mself\u001b[39;49m\u001b[38;5;241;43m.\u001b[39;49m\u001b[43m_sorted_data\u001b[49m\n\u001b[0;32m   1152\u001b[0m     \u001b[38;5;28;01mif\u001b[39;00m \u001b[38;5;28mself\u001b[39m\u001b[38;5;241m.\u001b[39mngroups \u001b[38;5;241m==\u001b[39m \u001b[38;5;241m0\u001b[39m:\n\u001b[0;32m   1153\u001b[0m         \u001b[38;5;66;03m# we are inside a generator, rather than raise StopIteration\u001b[39;00m\n\u001b[0;32m   1154\u001b[0m         \u001b[38;5;66;03m# we merely return signal the end\u001b[39;00m\n\u001b[0;32m   1155\u001b[0m         \u001b[38;5;28;01mreturn\u001b[39;00m\n",
            "File \u001b[1;32mproperties.pyx:36\u001b[0m, in \u001b[0;36mpandas._libs.properties.CachedProperty.__get__\u001b[1;34m()\u001b[0m\n",
            "File \u001b[1;32md:\\Repositories\\Pessoal\\analise-fraude\\.venv\\Lib\\site-packages\\pandas\\core\\groupby\\ops.py:1164\u001b[0m, in \u001b[0;36mDataSplitter._sorted_data\u001b[1;34m(self)\u001b[0m\n\u001b[0;32m   1162\u001b[0m \u001b[38;5;129m@cache_readonly\u001b[39m\n\u001b[0;32m   1163\u001b[0m \u001b[38;5;28;01mdef\u001b[39;00m\u001b[38;5;250m \u001b[39m\u001b[38;5;21m_sorted_data\u001b[39m(\u001b[38;5;28mself\u001b[39m) \u001b[38;5;241m-\u001b[39m\u001b[38;5;241m>\u001b[39m NDFrameT:\n\u001b[1;32m-> 1164\u001b[0m     \u001b[38;5;28;01mreturn\u001b[39;00m \u001b[38;5;28;43mself\u001b[39;49m\u001b[38;5;241;43m.\u001b[39;49m\u001b[43mdata\u001b[49m\u001b[38;5;241;43m.\u001b[39;49m\u001b[43mtake\u001b[49m\u001b[43m(\u001b[49m\u001b[38;5;28;43mself\u001b[39;49m\u001b[38;5;241;43m.\u001b[39;49m\u001b[43m_sort_idx\u001b[49m\u001b[43m,\u001b[49m\u001b[43m \u001b[49m\u001b[43maxis\u001b[49m\u001b[38;5;241;43m=\u001b[39;49m\u001b[38;5;28;43mself\u001b[39;49m\u001b[38;5;241;43m.\u001b[39;49m\u001b[43maxis\u001b[49m\u001b[43m)\u001b[49m\n",
            "File \u001b[1;32md:\\Repositories\\Pessoal\\analise-fraude\\.venv\\Lib\\site-packages\\pandas\\core\\generic.py:4133\u001b[0m, in \u001b[0;36mNDFrame.take\u001b[1;34m(self, indices, axis, **kwargs)\u001b[0m\n\u001b[0;32m   4128\u001b[0m     \u001b[38;5;66;03m# We can get here with a slice via DataFrame.__getitem__\u001b[39;00m\n\u001b[0;32m   4129\u001b[0m     indices \u001b[38;5;241m=\u001b[39m np\u001b[38;5;241m.\u001b[39marange(\n\u001b[0;32m   4130\u001b[0m         indices\u001b[38;5;241m.\u001b[39mstart, indices\u001b[38;5;241m.\u001b[39mstop, indices\u001b[38;5;241m.\u001b[39mstep, dtype\u001b[38;5;241m=\u001b[39mnp\u001b[38;5;241m.\u001b[39mintp\n\u001b[0;32m   4131\u001b[0m     )\n\u001b[1;32m-> 4133\u001b[0m new_data \u001b[38;5;241m=\u001b[39m \u001b[38;5;28;43mself\u001b[39;49m\u001b[38;5;241;43m.\u001b[39;49m\u001b[43m_mgr\u001b[49m\u001b[38;5;241;43m.\u001b[39;49m\u001b[43mtake\u001b[49m\u001b[43m(\u001b[49m\n\u001b[0;32m   4134\u001b[0m \u001b[43m    \u001b[49m\u001b[43mindices\u001b[49m\u001b[43m,\u001b[49m\n\u001b[0;32m   4135\u001b[0m \u001b[43m    \u001b[49m\u001b[43maxis\u001b[49m\u001b[38;5;241;43m=\u001b[39;49m\u001b[38;5;28;43mself\u001b[39;49m\u001b[38;5;241;43m.\u001b[39;49m\u001b[43m_get_block_manager_axis\u001b[49m\u001b[43m(\u001b[49m\u001b[43maxis\u001b[49m\u001b[43m)\u001b[49m\u001b[43m,\u001b[49m\n\u001b[0;32m   4136\u001b[0m \u001b[43m    \u001b[49m\u001b[43mverify\u001b[49m\u001b[38;5;241;43m=\u001b[39;49m\u001b[38;5;28;43;01mTrue\u001b[39;49;00m\u001b[43m,\u001b[49m\n\u001b[0;32m   4137\u001b[0m \u001b[43m\u001b[49m\u001b[43m)\u001b[49m\n\u001b[0;32m   4138\u001b[0m \u001b[38;5;28;01mreturn\u001b[39;00m \u001b[38;5;28mself\u001b[39m\u001b[38;5;241m.\u001b[39m_constructor_from_mgr(new_data, axes\u001b[38;5;241m=\u001b[39mnew_data\u001b[38;5;241m.\u001b[39maxes)\u001b[38;5;241m.\u001b[39m__finalize__(\n\u001b[0;32m   4139\u001b[0m     \u001b[38;5;28mself\u001b[39m, method\u001b[38;5;241m=\u001b[39m\u001b[38;5;124m\"\u001b[39m\u001b[38;5;124mtake\u001b[39m\u001b[38;5;124m\"\u001b[39m\n\u001b[0;32m   4140\u001b[0m )\n",
            "File \u001b[1;32md:\\Repositories\\Pessoal\\analise-fraude\\.venv\\Lib\\site-packages\\pandas\\core\\internals\\managers.py:894\u001b[0m, in \u001b[0;36mBaseBlockManager.take\u001b[1;34m(self, indexer, axis, verify)\u001b[0m\n\u001b[0;32m    891\u001b[0m indexer \u001b[38;5;241m=\u001b[39m maybe_convert_indices(indexer, n, verify\u001b[38;5;241m=\u001b[39mverify)\n\u001b[0;32m    893\u001b[0m new_labels \u001b[38;5;241m=\u001b[39m \u001b[38;5;28mself\u001b[39m\u001b[38;5;241m.\u001b[39maxes[axis]\u001b[38;5;241m.\u001b[39mtake(indexer)\n\u001b[1;32m--> 894\u001b[0m \u001b[38;5;28;01mreturn\u001b[39;00m \u001b[38;5;28;43mself\u001b[39;49m\u001b[38;5;241;43m.\u001b[39;49m\u001b[43mreindex_indexer\u001b[49m\u001b[43m(\u001b[49m\n\u001b[0;32m    895\u001b[0m \u001b[43m    \u001b[49m\u001b[43mnew_axis\u001b[49m\u001b[38;5;241;43m=\u001b[39;49m\u001b[43mnew_labels\u001b[49m\u001b[43m,\u001b[49m\n\u001b[0;32m    896\u001b[0m \u001b[43m    \u001b[49m\u001b[43mindexer\u001b[49m\u001b[38;5;241;43m=\u001b[39;49m\u001b[43mindexer\u001b[49m\u001b[43m,\u001b[49m\n\u001b[0;32m    897\u001b[0m \u001b[43m    \u001b[49m\u001b[43maxis\u001b[49m\u001b[38;5;241;43m=\u001b[39;49m\u001b[43maxis\u001b[49m\u001b[43m,\u001b[49m\n\u001b[0;32m    898\u001b[0m \u001b[43m    \u001b[49m\u001b[43mallow_dups\u001b[49m\u001b[38;5;241;43m=\u001b[39;49m\u001b[38;5;28;43;01mTrue\u001b[39;49;00m\u001b[43m,\u001b[49m\n\u001b[0;32m    899\u001b[0m \u001b[43m    \u001b[49m\u001b[43mcopy\u001b[49m\u001b[38;5;241;43m=\u001b[39;49m\u001b[38;5;28;43;01mNone\u001b[39;49;00m\u001b[43m,\u001b[49m\n\u001b[0;32m    900\u001b[0m \u001b[43m\u001b[49m\u001b[43m)\u001b[49m\n",
            "File \u001b[1;32md:\\Repositories\\Pessoal\\analise-fraude\\.venv\\Lib\\site-packages\\pandas\\core\\internals\\managers.py:680\u001b[0m, in \u001b[0;36mBaseBlockManager.reindex_indexer\u001b[1;34m(self, new_axis, indexer, axis, fill_value, allow_dups, copy, only_slice, use_na_proxy)\u001b[0m\n\u001b[0;32m    677\u001b[0m     \u001b[38;5;28;01mraise\u001b[39;00m \u001b[38;5;167;01mIndexError\u001b[39;00m(\u001b[38;5;124m\"\u001b[39m\u001b[38;5;124mRequested axis not found in manager\u001b[39m\u001b[38;5;124m\"\u001b[39m)\n\u001b[0;32m    679\u001b[0m \u001b[38;5;28;01mif\u001b[39;00m axis \u001b[38;5;241m==\u001b[39m \u001b[38;5;241m0\u001b[39m:\n\u001b[1;32m--> 680\u001b[0m     new_blocks \u001b[38;5;241m=\u001b[39m \u001b[38;5;28;43mself\u001b[39;49m\u001b[38;5;241;43m.\u001b[39;49m\u001b[43m_slice_take_blocks_ax0\u001b[49m\u001b[43m(\u001b[49m\n\u001b[0;32m    681\u001b[0m \u001b[43m        \u001b[49m\u001b[43mindexer\u001b[49m\u001b[43m,\u001b[49m\n\u001b[0;32m    682\u001b[0m \u001b[43m        \u001b[49m\u001b[43mfill_value\u001b[49m\u001b[38;5;241;43m=\u001b[39;49m\u001b[43mfill_value\u001b[49m\u001b[43m,\u001b[49m\n\u001b[0;32m    683\u001b[0m \u001b[43m        \u001b[49m\u001b[43monly_slice\u001b[49m\u001b[38;5;241;43m=\u001b[39;49m\u001b[43monly_slice\u001b[49m\u001b[43m,\u001b[49m\n\u001b[0;32m    684\u001b[0m \u001b[43m        \u001b[49m\u001b[43muse_na_proxy\u001b[49m\u001b[38;5;241;43m=\u001b[39;49m\u001b[43muse_na_proxy\u001b[49m\u001b[43m,\u001b[49m\n\u001b[0;32m    685\u001b[0m \u001b[43m    \u001b[49m\u001b[43m)\u001b[49m\n\u001b[0;32m    686\u001b[0m \u001b[38;5;28;01melse\u001b[39;00m:\n\u001b[0;32m    687\u001b[0m     new_blocks \u001b[38;5;241m=\u001b[39m [\n\u001b[0;32m    688\u001b[0m         blk\u001b[38;5;241m.\u001b[39mtake_nd(\n\u001b[0;32m    689\u001b[0m             indexer,\n\u001b[1;32m   (...)\u001b[0m\n\u001b[0;32m    695\u001b[0m         \u001b[38;5;28;01mfor\u001b[39;00m blk \u001b[38;5;129;01min\u001b[39;00m \u001b[38;5;28mself\u001b[39m\u001b[38;5;241m.\u001b[39mblocks\n\u001b[0;32m    696\u001b[0m     ]\n",
            "File \u001b[1;32md:\\Repositories\\Pessoal\\analise-fraude\\.venv\\Lib\\site-packages\\pandas\\core\\internals\\managers.py:773\u001b[0m, in \u001b[0;36mBaseBlockManager._slice_take_blocks_ax0\u001b[1;34m(self, slice_or_indexer, fill_value, only_slice, use_na_proxy, ref_inplace_op)\u001b[0m\n\u001b[0;32m    770\u001b[0m         \u001b[38;5;28;01melse\u001b[39;00m:\n\u001b[0;32m    771\u001b[0m             bp \u001b[38;5;241m=\u001b[39m BlockPlacement(\u001b[38;5;28mslice\u001b[39m(\u001b[38;5;241m0\u001b[39m, sllen))\n\u001b[0;32m    772\u001b[0m             \u001b[38;5;28;01mreturn\u001b[39;00m [\n\u001b[1;32m--> 773\u001b[0m                 \u001b[43mblk\u001b[49m\u001b[38;5;241;43m.\u001b[39;49m\u001b[43mtake_nd\u001b[49m\u001b[43m(\u001b[49m\n\u001b[0;32m    774\u001b[0m \u001b[43m                    \u001b[49m\u001b[43mslobj\u001b[49m\u001b[43m,\u001b[49m\n\u001b[0;32m    775\u001b[0m \u001b[43m                    \u001b[49m\u001b[43maxis\u001b[49m\u001b[38;5;241;43m=\u001b[39;49m\u001b[38;5;241;43m0\u001b[39;49m\u001b[43m,\u001b[49m\n\u001b[0;32m    776\u001b[0m \u001b[43m                    \u001b[49m\u001b[43mnew_mgr_locs\u001b[49m\u001b[38;5;241;43m=\u001b[39;49m\u001b[43mbp\u001b[49m\u001b[43m,\u001b[49m\n\u001b[0;32m    777\u001b[0m \u001b[43m                    \u001b[49m\u001b[43mfill_value\u001b[49m\u001b[38;5;241;43m=\u001b[39;49m\u001b[43mfill_value\u001b[49m\u001b[43m,\u001b[49m\n\u001b[0;32m    778\u001b[0m \u001b[43m                \u001b[49m\u001b[43m)\u001b[49m\n\u001b[0;32m    779\u001b[0m             ]\n\u001b[0;32m    781\u001b[0m \u001b[38;5;28;01mif\u001b[39;00m sl_type \u001b[38;5;241m==\u001b[39m \u001b[38;5;124m\"\u001b[39m\u001b[38;5;124mslice\u001b[39m\u001b[38;5;124m\"\u001b[39m:\n\u001b[0;32m    782\u001b[0m     blknos \u001b[38;5;241m=\u001b[39m \u001b[38;5;28mself\u001b[39m\u001b[38;5;241m.\u001b[39mblknos[slobj]\n",
            "File \u001b[1;32md:\\Repositories\\Pessoal\\analise-fraude\\.venv\\Lib\\site-packages\\pandas\\core\\internals\\blocks.py:1307\u001b[0m, in \u001b[0;36mBlock.take_nd\u001b[1;34m(self, indexer, axis, new_mgr_locs, fill_value)\u001b[0m\n\u001b[0;32m   1304\u001b[0m     allow_fill \u001b[38;5;241m=\u001b[39m \u001b[38;5;28;01mTrue\u001b[39;00m\n\u001b[0;32m   1306\u001b[0m \u001b[38;5;66;03m# Note: algos.take_nd has upcast logic similar to coerce_to_target_dtype\u001b[39;00m\n\u001b[1;32m-> 1307\u001b[0m new_values \u001b[38;5;241m=\u001b[39m \u001b[43malgos\u001b[49m\u001b[38;5;241;43m.\u001b[39;49m\u001b[43mtake_nd\u001b[49m\u001b[43m(\u001b[49m\n\u001b[0;32m   1308\u001b[0m \u001b[43m    \u001b[49m\u001b[43mvalues\u001b[49m\u001b[43m,\u001b[49m\u001b[43m \u001b[49m\u001b[43mindexer\u001b[49m\u001b[43m,\u001b[49m\u001b[43m \u001b[49m\u001b[43maxis\u001b[49m\u001b[38;5;241;43m=\u001b[39;49m\u001b[43maxis\u001b[49m\u001b[43m,\u001b[49m\u001b[43m \u001b[49m\u001b[43mallow_fill\u001b[49m\u001b[38;5;241;43m=\u001b[39;49m\u001b[43mallow_fill\u001b[49m\u001b[43m,\u001b[49m\u001b[43m \u001b[49m\u001b[43mfill_value\u001b[49m\u001b[38;5;241;43m=\u001b[39;49m\u001b[43mfill_value\u001b[49m\n\u001b[0;32m   1309\u001b[0m \u001b[43m\u001b[49m\u001b[43m)\u001b[49m\n\u001b[0;32m   1311\u001b[0m \u001b[38;5;66;03m# Called from three places in managers, all of which satisfy\u001b[39;00m\n\u001b[0;32m   1312\u001b[0m \u001b[38;5;66;03m#  these assertions\u001b[39;00m\n\u001b[0;32m   1313\u001b[0m \u001b[38;5;28;01mif\u001b[39;00m \u001b[38;5;28misinstance\u001b[39m(\u001b[38;5;28mself\u001b[39m, ExtensionBlock):\n\u001b[0;32m   1314\u001b[0m     \u001b[38;5;66;03m# NB: in this case, the 'axis' kwarg will be ignored in the\u001b[39;00m\n\u001b[0;32m   1315\u001b[0m     \u001b[38;5;66;03m#  algos.take_nd call above.\u001b[39;00m\n",
            "File \u001b[1;32md:\\Repositories\\Pessoal\\analise-fraude\\.venv\\Lib\\site-packages\\pandas\\core\\array_algos\\take.py:117\u001b[0m, in \u001b[0;36mtake_nd\u001b[1;34m(arr, indexer, axis, fill_value, allow_fill)\u001b[0m\n\u001b[0;32m    114\u001b[0m     \u001b[38;5;28;01mreturn\u001b[39;00m arr\u001b[38;5;241m.\u001b[39mtake(indexer, fill_value\u001b[38;5;241m=\u001b[39mfill_value, allow_fill\u001b[38;5;241m=\u001b[39mallow_fill)\n\u001b[0;32m    116\u001b[0m arr \u001b[38;5;241m=\u001b[39m np\u001b[38;5;241m.\u001b[39masarray(arr)\n\u001b[1;32m--> 117\u001b[0m \u001b[38;5;28;01mreturn\u001b[39;00m \u001b[43m_take_nd_ndarray\u001b[49m\u001b[43m(\u001b[49m\u001b[43marr\u001b[49m\u001b[43m,\u001b[49m\u001b[43m \u001b[49m\u001b[43mindexer\u001b[49m\u001b[43m,\u001b[49m\u001b[43m \u001b[49m\u001b[43maxis\u001b[49m\u001b[43m,\u001b[49m\u001b[43m \u001b[49m\u001b[43mfill_value\u001b[49m\u001b[43m,\u001b[49m\u001b[43m \u001b[49m\u001b[43mallow_fill\u001b[49m\u001b[43m)\u001b[49m\n",
            "File \u001b[1;32md:\\Repositories\\Pessoal\\analise-fraude\\.venv\\Lib\\site-packages\\pandas\\core\\array_algos\\take.py:155\u001b[0m, in \u001b[0;36m_take_nd_ndarray\u001b[1;34m(arr, indexer, axis, fill_value, allow_fill)\u001b[0m\n\u001b[0;32m    149\u001b[0m out_shape \u001b[38;5;241m=\u001b[39m \u001b[38;5;28mtuple\u001b[39m(out_shape_)\n\u001b[0;32m    150\u001b[0m \u001b[38;5;28;01mif\u001b[39;00m arr\u001b[38;5;241m.\u001b[39mflags\u001b[38;5;241m.\u001b[39mf_contiguous \u001b[38;5;129;01mand\u001b[39;00m axis \u001b[38;5;241m==\u001b[39m arr\u001b[38;5;241m.\u001b[39mndim \u001b[38;5;241m-\u001b[39m \u001b[38;5;241m1\u001b[39m:\n\u001b[0;32m    151\u001b[0m     \u001b[38;5;66;03m# minor tweak that can make an order-of-magnitude difference\u001b[39;00m\n\u001b[0;32m    152\u001b[0m     \u001b[38;5;66;03m# for dataframes initialized directly from 2-d ndarrays\u001b[39;00m\n\u001b[0;32m    153\u001b[0m     \u001b[38;5;66;03m# (s.t. df.values is c-contiguous and df._mgr.blocks[0] is its\u001b[39;00m\n\u001b[0;32m    154\u001b[0m     \u001b[38;5;66;03m# f-contiguous transpose)\u001b[39;00m\n\u001b[1;32m--> 155\u001b[0m     out \u001b[38;5;241m=\u001b[39m \u001b[43mnp\u001b[49m\u001b[38;5;241;43m.\u001b[39;49m\u001b[43mempty\u001b[49m\u001b[43m(\u001b[49m\u001b[43mout_shape\u001b[49m\u001b[43m,\u001b[49m\u001b[43m \u001b[49m\u001b[43mdtype\u001b[49m\u001b[38;5;241;43m=\u001b[39;49m\u001b[43mdtype\u001b[49m\u001b[43m,\u001b[49m\u001b[43m \u001b[49m\u001b[43morder\u001b[49m\u001b[38;5;241;43m=\u001b[39;49m\u001b[38;5;124;43m\"\u001b[39;49m\u001b[38;5;124;43mF\u001b[39;49m\u001b[38;5;124;43m\"\u001b[39;49m\u001b[43m)\u001b[49m\n\u001b[0;32m    156\u001b[0m \u001b[38;5;28;01melse\u001b[39;00m:\n\u001b[0;32m    157\u001b[0m     out \u001b[38;5;241m=\u001b[39m np\u001b[38;5;241m.\u001b[39mempty(out_shape, dtype\u001b[38;5;241m=\u001b[39mdtype)\n",
            "\u001b[1;31mMemoryError\u001b[0m: Unable to allocate 56.5 MiB for an array with shape (7405370,) and data type object"
          ]
        },
        {
          "data": {
            "image/png": "[encoded data removed]",
            "text/plain": [
              "<Figure size 640x480 with 1 Axes>"
            ]
          },
          "metadata": {},
          "output_type": "display_data"
        }
      ],
      "source": [
        "sns.countplot(data=df_train_test, x='use_chip', hue='target')"
      ]
    },
    {
      "cell_type": "code",
      "execution_count": 199,
      "metadata": {},
      "outputs": [
        {
          "name": "stdout",
          "output_type": "stream",
          "text": [
            "\n",
            "use_chip\n",
            "Swipe Transaction     0.595882\n",
            "Chip Transaction      0.287747\n",
            "Online Transaction    0.116371\n",
            "Name: proportion, dtype: float64\n",
            "\n",
            "target\n",
            "No     0.99856\n",
            "Yes    0.00144\n",
            "Name: proportion, dtype: float64\n",
            "\n",
            "gender\n",
            "Female    0.512106\n",
            "Male      0.487894\n",
            "Name: proportion, dtype: float64\n",
            "\n",
            "card_brand\n",
            "Mastercard    0.537687\n",
            "Visa          0.372562\n",
            "Amex          0.064557\n",
            "Discover      0.025195\n",
            "Name: proportion, dtype: float64\n",
            "\n",
            "card_type\n",
            "Debit              0.621398\n",
            "Credit             0.309660\n",
            "Debit (Prepaid)    0.068942\n",
            "Name: proportion, dtype: float64\n",
            "\n",
            "has_chip\n",
            "YES    0.899949\n",
            "NO     0.100051\n",
            "Name: proportion, dtype: float64\n"
          ]
        }
      ],
      "source": [
        "columns_test_qui = []\n",
        "for column in df_train_test.select_dtypes('object').columns:\n",
        "    if len(df_train_test[column].unique()) > 10 :\n",
        "        continue\n",
        "\n",
        "    print('')\n",
        "    columns_test_qui.append(column)\n",
        "    print(df_train_test[column].value_counts(normalize=True))"
      ]
    },
    {
      "cell_type": "code",
      "execution_count": 200,
      "metadata": {},
      "outputs": [
        {
          "name": "stdout",
          "output_type": "stream",
          "text": [
            "\n",
            "use_chip  Chip Transaction  Online Transaction  Swipe Transaction\n",
            "target                                                           \n",
            "No                 2130032              853080            4411593\n",
            "Yes                    839                8694               1132\n",
            "Qui² Statistical: 50741.12\n",
            "p-value: 0.0\n",
            "\n",
            "gender   Female     Male\n",
            "target                  \n",
            "No      3786749  3607956\n",
            "Yes        5587     5078\n",
            "Qui² Statistical: 5.86\n",
            "p-value: 0.0155\n",
            "\n",
            "card_brand    Amex  Discover  Mastercard     Visa\n",
            "target                                           \n",
            "No          477280    186212     3975983  2755230\n",
            "Yes            786       363        5786     3730\n",
            "Qui² Statistical: 62.36\n",
            "p-value: 0.0\n",
            "\n",
            "card_type   Credit    Debit  Debit (Prepaid)\n",
            "target                                      \n",
            "No         2289705  4595616           509384\n",
            "Yes           3444     6064             1157\n",
            "Qui² Statistical: 296.25\n",
            "p-value: 0.0\n",
            "\n",
            "has_chip      NO      YES\n",
            "target                   \n",
            "No        739968  6654737\n",
            "Yes          949     9716\n",
            "Qui² Statistical: 14.41\n",
            "p-value: 0.0001\n"
          ]
        }
      ],
      "source": [
        "tests_qui = []\n",
        "for column in df_train_test[columns_test_qui].drop(columns=['target']).columns:\n",
        "    table = pd.crosstab(df_train_test['target'], df_train_test[column])\n",
        "    chi2, pvalue, gl, freq_esp = chi2_contingency(table)\n",
        "\n",
        "    print('')\n",
        "    print(table)\n",
        "    print(f'Qui² Statistical: {round(chi2, 2)}')\n",
        "    print(f'p-value: {round(pvalue, 4)}')\n",
        "    tests_qui.append(dict(origin='target', destiny=column, chi2=chi2, pvalue=pvalue, gl=gl, freq_esp=freq_esp))"
      ]
    },
    {
      "cell_type": "code",
      "execution_count": 201,
      "metadata": {},
      "outputs": [
        {
          "data": {
            "text/html": [
              "<div>\n",
              "<style scoped>\n",
              "    .dataframe tbody tr th:only-of-type {\n",
              "        vertical-align: middle;\n",
              "    }\n",
              "\n",
              "    .dataframe tbody tr th {\n",
              "        vertical-align: top;\n",
              "    }\n",
              "\n",
              "    .dataframe thead th {\n",
              "        text-align: right;\n",
              "    }\n",
              "</style>\n",
              "<table border=\"1\" class=\"dataframe\">\n",
              "  <thead>\n",
              "    <tr style=\"text-align: right;\">\n",
              "      <th></th>\n",
              "      <th>origin</th>\n",
              "      <th>destiny</th>\n",
              "      <th>chi2</th>\n",
              "      <th>pvalue</th>\n",
              "      <th>gl</th>\n",
              "      <th>freq_esp</th>\n",
              "      <th>valid</th>\n",
              "    </tr>\n",
              "  </thead>\n",
              "  <tbody>\n",
              "    <tr>\n",
              "      <th>0</th>\n",
              "      <td>target</td>\n",
              "      <td>use_chip</td>\n",
              "      <td>50741.124717</td>\n",
              "      <td>0.000000e+00</td>\n",
              "      <td>2</td>\n",
              "      <td>[[2127802.1811273443, 860532.8979740378, 44063...</td>\n",
              "      <td>True</td>\n",
              "    </tr>\n",
              "    <tr>\n",
              "      <th>3</th>\n",
              "      <td>target</td>\n",
              "      <td>card_type</td>\n",
              "      <td>296.248271</td>\n",
              "      <td>4.682796e-65</td>\n",
              "      <td>2</td>\n",
              "      <td>[[2289846.4730384843, 4595052.793364815, 50980...</td>\n",
              "      <td>True</td>\n",
              "    </tr>\n",
              "    <tr>\n",
              "      <th>2</th>\n",
              "      <td>target</td>\n",
              "      <td>card_brand</td>\n",
              "      <td>62.363322</td>\n",
              "      <td>1.837321e-13</td>\n",
              "      <td>3</td>\n",
              "      <td>[[477377.50315379247, 186306.3000734602, 39760...</td>\n",
              "      <td>True</td>\n",
              "    </tr>\n",
              "    <tr>\n",
              "      <th>4</th>\n",
              "      <td>target</td>\n",
              "      <td>has_chip</td>\n",
              "      <td>14.409522</td>\n",
              "      <td>1.470569e-04</td>\n",
              "      <td>1</td>\n",
              "      <td>[[739849.9527349748, 6654855.047265025], [1067...</td>\n",
              "      <td>True</td>\n",
              "    </tr>\n",
              "    <tr>\n",
              "      <th>1</th>\n",
              "      <td>target</td>\n",
              "      <td>gender</td>\n",
              "      <td>5.861594</td>\n",
              "      <td>1.547478e-02</td>\n",
              "      <td>1</td>\n",
              "      <td>[[3786874.387219005, 3607830.612780995], [5461...</td>\n",
              "      <td>True</td>\n",
              "    </tr>\n",
              "  </tbody>\n",
              "</table>\n",
              "</div>"
            ],
            "text/plain": [
              "   origin     destiny          chi2        pvalue  gl  \\\n",
              "0  target    use_chip  50741.124717  0.000000e+00   2   \n",
              "3  target   card_type    296.248271  4.682796e-65   2   \n",
              "2  target  card_brand     62.363322  1.837321e-13   3   \n",
              "4  target    has_chip     14.409522  1.470569e-04   1   \n",
              "1  target      gender      5.861594  1.547478e-02   1   \n",
              "\n",
              "                                            freq_esp  valid  \n",
              "0  [[2127802.1811273443, 860532.8979740378, 44063...   True  \n",
              "3  [[2289846.4730384843, 4595052.793364815, 50980...   True  \n",
              "2  [[477377.50315379247, 186306.3000734602, 39760...   True  \n",
              "4  [[739849.9527349748, 6654855.047265025], [1067...   True  \n",
              "1  [[3786874.387219005, 3607830.612780995], [5461...   True  "
            ]
          },
          "execution_count": 201,
          "metadata": {},
          "output_type": "execute_result"
        }
      ],
      "source": [
        "df_test_qui = pd.DataFrame(tests_qui)\n",
        "df_test_qui['valid'] = df_test_qui['pvalue'] < 0.05\n",
        "df_test_qui.query('valid == True').sort_values(by=['chi2'], ascending=False).sort_values(by='pvalue', ascending=True)"
      ]
    },
    {
      "cell_type": "code",
      "execution_count": 202,
      "metadata": {},
      "outputs": [],
      "source": [
        "def calculate_sample_size(confidence_level=0.95, error_margin=0.03, p=0.5):\n",
        "    z = stats.norm.ppf(1 - (1 - confidence_level) / 2)\n",
        "    n = (z ** 2 * p * (1 - p)) / (error_margin ** 2)\n",
        "    return int(n)"
      ]
    },
    {
      "cell_type": "code",
      "execution_count": 203,
      "metadata": {},
      "outputs": [
        {
          "data": {
            "text/plain": [
              "656"
            ]
          },
          "execution_count": 203,
          "metadata": {},
          "output_type": "execute_result"
        }
      ],
      "source": [
        "sample_size = calculate_sample_size(0.99, 0.01, 0.01)\n",
        "sample_size"
      ]
    },
    {
      "cell_type": "code",
      "execution_count": 204,
      "metadata": {},
      "outputs": [
        {
          "data": {
            "text/plain": [
              "target\n",
              "No     7394705\n",
              "Yes      10665\n",
              "Name: count, dtype: int64"
            ]
          },
          "execution_count": 204,
          "metadata": {},
          "output_type": "execute_result"
        }
      ],
      "source": [
        "sample_data = df_train_test.sample(frac=1.0)[df_test_qui.query('valid == True')['destiny'].values.tolist() + ['target']]\n",
        "sample_data['target'].value_counts()"
      ]
    },
    {
      "cell_type": "code",
      "execution_count": 205,
      "metadata": {},
      "outputs": [],
      "source": [
        "mca = prince.MCA(n_components=2).fit(sample_data)"
      ]
    },
    {
      "cell_type": "code",
      "execution_count": 206,
      "metadata": {},
      "outputs": [
        {
          "name": "stdout",
          "output_type": "stream",
          "text": [
            "quantidade total de categorias: 16\n",
            "quantidade de variáveis: 6\n",
            "quantidade de dimensões: 10\n"
          ]
        }
      ],
      "source": [
        "quant_dim = mca.J_ - mca.K_\n",
        "\n",
        "print(f\"quantidade total de categorias: {mca.J_}\")\n",
        "print(f\"quantidade de variáveis: {mca.K_}\")\n",
        "print(f\"quantidade de dimensões: {quant_dim}\")"
      ]
    },
    {
      "cell_type": "code",
      "execution_count": 207,
      "metadata": {},
      "outputs": [
        {
          "name": "stdout",
          "output_type": "stream",
          "text": [
            "                                     0         1\n",
            "use_chip__Chip Transaction    0.053596 -2.561275\n",
            "use_chip__Online Transaction -0.019151 -0.407253\n",
            "use_chip__Swipe Transaction  -0.022141  1.316354\n",
            "gender__Female                0.013979 -0.156069\n",
            "gender__Male                 -0.014672  0.163814\n",
            "card_brand__Amex              5.220007 -0.064504\n",
            "card_brand__Discover          5.181831  1.196030\n",
            "card_brand__Mastercard       -1.008576  0.090319\n",
            "card_brand__Visa              0.200659 -0.200054\n",
            "card_type__Credit             2.578697  0.184441\n",
            "card_type__Debit             -1.142409 -0.093437\n",
            "card_type__Debit (Prepaid)   -1.285574  0.013740\n",
            "has_chip__NO                 -0.390520  5.158082\n",
            "has_chip__YES                 0.043416 -0.573447\n",
            "target__No                   -0.000346  0.002810\n",
            "target__Yes                   0.239849 -1.948459\n",
            "                0         1\n",
            "5753450 -0.143293 -0.543598\n",
            "4455996 -0.344832 -0.495203\n",
            "2978064 -0.357455  0.151069\n",
            "4703975  0.275352 -0.448890\n",
            "4994503 -0.344832 -0.495203\n",
            "...           ...       ...\n",
            "3426819  1.300827  0.171578\n",
            "5878039 -0.138518 -0.596912\n",
            "5666049 -0.138518 -0.596912\n",
            "4729089 -0.143293 -0.543598\n",
            "6010923  0.280128 -0.502203\n",
            "\n",
            "[7405370 rows x 2 columns]\n"
          ]
        },
        {
          "data": {
            "image/png": "[encoded data removed]",
            "text/plain": [
              "<Figure size 640x480 with 1 Axes>"
            ]
          },
          "metadata": {},
          "output_type": "display_data"
        }
      ],
      "source": [
        "tabela_autovalores = mca.eigenvalues_summary\n",
        "coord_padrao = mca.column_coordinates(sample_data)/np.sqrt(mca.eigenvalues_)\n",
        "\n",
        "print(coord_padrao)\n",
        "\n",
        "#%% Obtendo as coordenadas das observações do banco de dados\n",
        "\n",
        "# Na função, as coordenadas das observações vêm das coordenadas-padrão\n",
        "coord_obs = mca.row_coordinates(sample_data)\n",
        "print(coord_obs)\n",
        "\n",
        "#%% Plotando o mapa perceptual (coordenadas-padrão)\n",
        "\n",
        "# Primeiro passo: gerar um DataFrame detalhado\n",
        "\n",
        "chart = coord_padrao.reset_index()\n",
        "\n",
        "nome_categ=[]\n",
        "for col in sample_data:\n",
        "    nome_categ.append(sample_data[col].sort_values(ascending=True).unique())\n",
        "    categorias = pd.DataFrame(nome_categ).stack().reset_index()\n",
        "\n",
        "var_chart = pd.Series(chart['index'].str.replace('_', '-'))\n",
        "\n",
        "chart_df_mca = pd.DataFrame({'categoria': chart['index'],\n",
        "                             'obs_x': chart[0],\n",
        "                             'obs_y': chart[1],\n",
        "                             'variavel': var_chart,\n",
        "                             'categoria_id': categorias[0]})\n",
        "\n",
        "# Segundo passo: gerar o gráfico de pontos\n",
        "    \n",
        "def label_point(x, y, val, ax):\n",
        "    a = pd.concat({'x': x, 'y': y, 'val': val}, axis=1)\n",
        "    for i, point in a.iterrows():\n",
        "        ax.text(point['x'] + 0.03, point['y'] - 0.02, point['val'], fontsize=5)\n",
        "\n",
        "label_point(x = chart_df_mca['obs_x'],\n",
        "            y = chart_df_mca['obs_y'],\n",
        "            val = chart_df_mca['categoria_id'],\n",
        "            ax = plt.gca())\n",
        "\n",
        "sns.scatterplot(data=chart_df_mca, x='obs_x', y='obs_y', hue='variavel', s=20)\n",
        "sns.despine(top=True, right=True, left=False, bottom=False)\n",
        "plt.axhline(y=0, color='lightgrey', ls='--', linewidth=0.8)\n",
        "plt.axvline(x=0, color='lightgrey', ls='--', linewidth=0.8)\n",
        "plt.tick_params(size=2, labelsize=6)\n",
        "plt.legend(bbox_to_anchor=(1.25,-0.2), fancybox=True, shadow=True, ncols=10, fontsize='5')\n",
        "plt.title(\"Mapa Perceptual - MCA\", fontsize=12)\n",
        "plt.xlabel(f\"Dim. 1: {tabela_autovalores.iloc[0,1]} da inércia\", fontsize=8)\n",
        "plt.ylabel(f\"Dim. 2: {tabela_autovalores.iloc[1,1]} da inércia\", fontsize=8)\n",
        "plt.show()"
      ]
    },
    {
      "cell_type": "code",
      "execution_count": 208,
      "metadata": {},
      "outputs": [
        {
          "name": "stderr",
          "output_type": "stream",
          "text": [
            "d:\\Repositories\\Pessoal\\analise-fraude\\.venv\\Lib\\site-packages\\IPython\\core\\pylabtools.py:170: UserWarning: Creating legend with loc=\"best\" can be slow with large amounts of data.\n",
            "  fig.canvas.print_figure(bytes_io, **kw)\n"
          ]
        },
        {
          "data": {
            "image/png": "[encoded data removed]",
            "text/plain": [
              "<Figure size 640x480 with 1 Axes>"
            ]
          },
          "metadata": {},
          "output_type": "display_data"
        }
      ],
      "source": [
        "coord_obs['target'] = sample_data['target']\n",
        "\n",
        "sns.scatterplot(data=coord_obs, x=0, y=1, hue='target', s=20)\n",
        "plt.title(\"Mapa das Observações - MCA\", fontsize=12)\n",
        "plt.xlabel(\"Dimensão 1\", fontsize=8)\n",
        "plt.ylabel(\"Dimensão 2\", fontsize=8)\n",
        "plt.show()"
      ]
    },
    {
      "cell_type": "code",
      "execution_count": null,
      "metadata": {},
      "outputs": [],
      "source": []
    }
  ],
  "metadata": {
    "accelerator": "GPU",
    "colab": {
      "gpuType": "T4",
      "provenance": []
    },
    "kernelspec": {
      "display_name": ".venv",
      "language": "python",
      "name": "python3"
    },
    "language_info": {
      "codemirror_mode": {
        "name": "ipython",
        "version": 3
      },
      "file_extension": ".py",
      "mimetype": "text/x-python",
      "name": "python",
      "nbconvert_exporter": "python",
      "pygments_lexer": "ipython3",
      "version": "3.12.3"
    }
  },
  "nbformat": 4,
  "nbformat_minor": 0
}
